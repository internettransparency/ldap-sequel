{
 "cells": [
  {
   "cell_type": "markdown",
   "id": "1808fb5a-6da7-4744-a4d0-1a75b7a03286",
   "metadata": {},
   "source": [
    "# Preamble"
   ]
  },
  {
   "cell_type": "code",
   "execution_count": 1,
   "id": "d343b545-444a-4ad5-bfb7-1384273c6ada",
   "metadata": {},
   "outputs": [
    {
     "name": "stdout",
     "output_type": "stream",
     "text": [
      "SparkConf created\n",
      "Started SparkSession\n",
      "Spark version 3.3.1\n"
     ]
    }
   ],
   "source": [
    "%run ./spark-instance.ipynb"
   ]
  },
  {
   "cell_type": "code",
   "execution_count": 15,
   "id": "8f3f5327-4724-44fd-ba25-106f77799595",
   "metadata": {},
   "outputs": [
    {
     "name": "stdout",
     "output_type": "stream",
     "text": [
      "CLEANING SPARK INSTANCE...\n"
     ]
    }
   ],
   "source": [
    "clean_spark()"
   ]
  },
  {
   "cell_type": "code",
   "execution_count": 12,
   "id": "67f75577-2771-4441-8ac1-a12406648d58",
   "metadata": {},
   "outputs": [],
   "source": [
    "from datetime import datetime\n",
    "\n",
    "import pandas as pd"
   ]
  },
  {
   "cell_type": "markdown",
   "id": "fd95d995-c523-4112-a981-f2ab3455a2a1",
   "metadata": {},
   "source": [
    "# Definitions"
   ]
  },
  {
   "cell_type": "code",
   "execution_count": 5,
   "id": "5e75fdfd-9fde-457e-b2e3-766a62909c85",
   "metadata": {},
   "outputs": [],
   "source": [
    "ldap_root_dse_raw_base_path_fmt = \"s3a://catrin/measurements/tool=goscanner/format=raw/port={port}/scan=ldap_metadata/result=ldap_root_dse_raw/\"\n",
    "ldap_root_dse_raw_path_fmt = \"s3a://catrin/measurements/tool=goscanner/format=raw/port={port}/scan=ldap_metadata/result=ldap_root_dse_raw/year={year}/month={month:02d}/day={day:02d}\"\n",
    "\n",
    "ports = [\"389\", \"636\", \"3268\", \"3269\"]"
   ]
  },
  {
   "cell_type": "markdown",
   "id": "c1344060-42bc-43f3-bfe2-7df0f53de0dd",
   "metadata": {},
   "source": [
    "# Retrieve scanning dates"
   ]
  },
  {
   "cell_type": "code",
   "execution_count": 10,
   "id": "1744b250-8c58-4e76-aac4-1d9c289b9a69",
   "metadata": {},
   "outputs": [],
   "source": [
    "pdf = pd.DataFrame()\n",
    "for port in ports:\n",
    "    p = ldap_root_dse_raw_base_path_fmt.format(port=port)\n",
    "    \n",
    "    df = spark.read.option(\"header\", \"true\"\n",
    "                  ).option(\"multiline\", \"true\"\n",
    "                  ).option(\"wholeFile\", \"true\"\n",
    "                  ).option(\"inferSchema\", \"true\"\n",
    "                  ).option(\"basePath\", p\n",
    "                  ).csv(p)\n",
    "    _pdf = df.select(\"year\", \"month\", \"day\").dropDuplicates([\"year\", \"month\", \"day\"]).toPandas()\n",
    "    _pdf[\"port\"] = pd.to_numeric(port)\n",
    "    pdf = pd.concat([pdf, _pdf])\n",
    "    break"
   ]
  },
  {
   "cell_type": "code",
   "execution_count": null,
   "id": "68ceaecc-896b-4e2f-af4e-9a6f1b0bb95e",
   "metadata": {},
   "outputs": [],
   "source": []
  }
 ],
 "metadata": {
  "kernelspec": {
   "display_name": "Python 3 (ipykernel)",
   "language": "python",
   "name": "python3"
  },
  "language_info": {
   "codemirror_mode": {
    "name": "ipython",
    "version": 3
   },
   "file_extension": ".py",
   "mimetype": "text/x-python",
   "name": "python",
   "nbconvert_exporter": "python",
   "pygments_lexer": "ipython3",
   "version": "3.9.15"
  }
 },
 "nbformat": 4,
 "nbformat_minor": 5
}
