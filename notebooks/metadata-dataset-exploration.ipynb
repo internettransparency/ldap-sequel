{
 "cells": [
  {
   "cell_type": "code",
   "execution_count": null,
   "metadata": {},
   "outputs": [],
   "source": [
    "%matplotlib inline\n",
    "\n",
    "from collections import defaultdict\n",
    "from datetime import datetime\n",
    "from fnmatch import fnmatch\n",
    "import math\n",
    "from glob import glob\n",
    "import os\n",
    "import statistics\n",
    "\n",
    "import matplotlib.pyplot as plt\n",
    "import pandas as pd\n",
    "import numpy as np\n",
    "import tldextract\n",
    "from cryptography import x509\n",
    "from cryptography.hazmat.backends import default_backend\n",
    "from cryptography.hazmat.primitives import hashes\n",
    "\n",
    "from pyspark.errors import *\n",
    "import pyspark.sql.types as pst\n",
    "import pyspark.sql.functions as psf\n",
    "from pyspark.storagelevel import StorageLevel\n",
    "from pyspark.sql.window import Window"
   ]
  },
  {
   "cell_type": "code",
   "execution_count": null,
   "metadata": {},
   "outputs": [],
   "source": [
    "%run ./spark-instance-gustavo.ipynb"
   ]
  },
  {
   "cell_type": "code",
   "execution_count": null,
   "metadata": {},
   "outputs": [],
   "source": [
    "clean_spark()"
   ]
  },
  {
   "cell_type": "code",
   "execution_count": null,
   "metadata": {},
   "outputs": [],
   "source": [
    "def eval_list_list_list_str(my_list):\n",
    "    try:\n",
    "        if isinstance(my_list, str):\n",
    "            return eval(my_list)\n",
    "        else:\n",
    "            return [[[]]]\n",
    "    except:\n",
    "        return [[[]]]\n",
    "\n",
    "\n",
    "eval_list_list_list_str_udf = psf.udf(eval_list_list_list_str, pst.ArrayType(pst.ArrayType(pst.ArrayType(pst.StringType()))))\n",
    "\n",
    "\n",
    "def eval_list_list_str(my_list):\n",
    "    try:\n",
    "        if isinstance(my_list, str):\n",
    "            return eval(my_list)\n",
    "        else:\n",
    "            return [[]]\n",
    "    except:\n",
    "        return [[]]\n",
    "\n",
    "\n",
    "eval_list_list_str_udf = psf.udf(eval_list_list_str, pst.ArrayType(pst.ArrayType(pst.StringType())))\n",
    "\n",
    "\n",
    "def convert_ldap_attributes(df):\n",
    "    df = df.withColumn(\"asd\", eval_list_list_str_udf(psf.col(\"attribute_names\")))\n",
    "    df = df.drop(\"attribute_names\")\n",
    "    df = df.withColumnRenamed(\"asd\", \"attribute_names\")\n",
    "    df = df.withColumn(\"qwe\", eval_list_list_list_str_udf(psf.col(\"attribute_values_list\")))\n",
    "    df = df.drop(\"attribute_values_list\")\n",
    "    df = df.withColumnRenamed(\"qwe\", \"attribute_values_list\")\n",
    "    return df\n",
    "\n",
    "\n",
    "def flatten_ldap_metadata(df):\n",
    "    df = df.select(\"id\", \"ip\", \"port\", \"result_code\", \"error_data\", \"matched_dns\",\n",
    "                                    psf.explode_outer(psf.arrays_zip(\n",
    "                                                      df.attribute_names,\n",
    "                                                      df.attribute_values_list)))\n",
    "    df = df.select(\"id\", \"ip\", \"port\", \"result_code\", \"error_data\", \"matched_dns\", \"col.attribute_names\", \"col.attribute_values_list\")\n",
    "    df = df.select(\"id\", \"ip\", \"port\", \"result_code\", \"error_data\", \"matched_dns\",\n",
    "                                    psf.explode_outer(psf.arrays_zip(\n",
    "                                                      df.attribute_names,\n",
    "                                                      df.attribute_values_list)))\n",
    "    df = df.select(\"id\", \"ip\", \"port\", \"result_code\", \"error_data\", \"matched_dns\", \"col.attribute_names\", \"col.attribute_values_list\")\n",
    "    df = df.withColumnRenamed(\"attribute_names\", \"attribute_name\")\n",
    "    return df\n",
    "\n",
    "\n",
    "def flat_ldap_attr_values(df):\n",
    "    # good for vendorName filters for example\n",
    "    df = df.select(\"id\", \"ip\", \"port\", \"result_code\", \"error_data\", \"matched_dns\", \"attribute_name\", psf.explode_outer(df.attribute_values_list))\n",
    "    df = df.withColumnRenamed(\"col\", \"attribute_value\")\n",
    "    return df\n",
    "\n",
    "\n",
    "def load_ldap_root_dse(port, ts):\n",
    "    root_dse_base_path = ROOT_DSE_PATH_FMT.format(port=port, year=ts.year, month=ts.month, day=ts.day)\n",
    "    df = spark.read.option(\"header\", \"true\") \\\n",
    "                   .option(\"multiline\", \"true\") \\\n",
    "                   .option(\"wholeFile\", \"true\") \\\n",
    "                   .option(\"inferSchema\", \"true\") \\\n",
    "                   .csv(f\"../dataset/{root_dse_base_path}\")\n",
    "\n",
    "    df = convert_ldap_attributes(df)\n",
    "    return df\n",
    "\n",
    "\n",
    "def load_ldap_schema(port, ts):\n",
    "    schema_base_path = SCHEMA_PATH_FMT.format(port=port, year=ts.year, month=ts.month, day=ts.day)\n",
    "    df = spark.read.option(\"header\", \"true\") \\\n",
    "                   .option(\"multiline\", \"true\") \\\n",
    "                   .option(\"wholeFile\", \"true\") \\\n",
    "                   .option(\"inferSchema\", \"true\") \\\n",
    "                   .csv(f\"../dataset/{schema_base_path}\")\n",
    "\n",
    "    df = convert_ldap_attributes(df)\n",
    "    return df\n",
    "\n",
    "CRAWL_PORT_SCANDATE_MAP = {\n",
    "    636: datetime(2024, 4, 23),\n",
    "    389: datetime(2024, 4, 24),\n",
    "}\n",
    "\n",
    "SCHEMA_PATH_FMT = \"catrin/measurements/tool=goscanner/format=raw/port={port}/scan=ldap_crawl/result=ldap_schema/year={year}/month={month:02d}/day={day:02d}\"\n",
    "ROOT_DSE_PATH_FMT = \"catrin/measurements/tool=goscanner/format=raw/port={port}/scan=ldap_crawl/result=ldap_root_dse/year={year}/month={month:02d}/day={day:02d}\""
   ]
  },
  {
   "cell_type": "code",
   "execution_count": null,
   "metadata": {},
   "outputs": [],
   "source": [
    "for port, ts in CRAWL_PORT_SCANDATE_MAP.items():\n",
    "    print(port, ts)\n",
    "    #schema_df = load_ldap_schema(port, ts)\n",
    "    #schema_df = flatten_ldap_metadata(schema_df)\n",
    "\n",
    "    root_dse_df = load_ldap_root_dse(port, ts)\n",
    "    #root_dse_df = flatten_ldap_metadata(root_dse_df)\n",
    "\n",
    "    break"
   ]
  },
  {
   "cell_type": "markdown",
   "metadata": {},
   "source": [
    "What are the LDAPv2 only servers we see around?"
   ]
  },
  {
   "cell_type": "code",
   "execution_count": null,
   "metadata": {},
   "outputs": [
    {
     "name": "stdout",
     "output_type": "stream",
     "text": [
      "+-------+---------------+----+-----------+----------+-----------+----------------+---------------------+----------+\n",
      "|     id|             ip|port|result_code|error_data|matched_dns|  attribute_name|attribute_values_list|serverName|\n",
      "+-------+---------------+----+-----------+----------+-----------+----------------+---------------------+----------+\n",
      "|  83836| 93.108.171.180| 389|          0|      NULL|      ['',]|  namingContexts|       [dc=pbx.local]|          |\n",
      "|1126513|    148.69.66.4| 389|          0|      NULL|      ['',]|  namingContexts|       [dc=pbx.local]|          |\n",
      "|1204577| 24.134.197.249| 389|          0|      NULL|      ['',]|  namingContexts|       [dc=pbx.local]|          |\n",
      "|1420243| 51.155.241.131| 389|          0|      NULL|      ['',]|supportedControl| [1.3.6.1.4.1.4203...|          |\n",
      "|2246843|  178.13.12.114| 389|          0|      NULL|      ['',]|  namingContexts|       [dc=pbx.local]|          |\n",
      "|2381239|  89.155.23.161| 389|          0|      NULL|      ['',]|  namingContexts|       [dc=pbx.local]|          |\n",
      "|3012165| 81.244.248.169| 389|          0|      NULL|      ['',]|  namingContexts|       [dc=pbx.local]|          |\n",
      "|3267430|  194.184.36.60| 389|          0|      NULL|      ['',]|  namingContexts|       [dc=pbx.local]|          |\n",
      "|3413033|  176.95.71.190| 389|          0|      NULL|      ['',]|  namingContexts|       [dc=pbx.local]|          |\n",
      "|3427499|144.178.233.138| 389|          0|      NULL|      ['',]|  namingContexts|       [dc=pbx.local]|          |\n",
      "+-------+---------------+----+-----------+----------+-----------+----------------+---------------------+----------+\n",
      "\n",
      "10\n"
     ]
    }
   ],
   "source": [
    "ldapv2_df = root_dse_df.filter(\n",
    "    psf.col(\"attribute_name\") == \"supportedLDAPVersion\"\n",
    "    ).filter(\n",
    "    psf.col(\"attribute_values_list\").isin(psf.lit([2]))\n",
    "    ).select(\n",
    "        \"id\"\n",
    "    )\n",
    "\n",
    "root_dse_df.join(ldapv2_df, \"id\", \"inner\").filter(\n",
    "    (psf.col(\"attribute_name\") == \"supportedControl\")\n",
    "    | (psf.col(\"attribute_name\") == \"namingContexts\")\n",
    "    | (psf.col(\"attribute_name\") == \"vendorName\")\n",
    ").show()\n",
    "\n",
    "print(ldapv2_df.count())"
   ]
  },
  {
   "cell_type": "markdown",
   "metadata": {},
   "source": [
    "A private branch exchange (PBX) is a telephone system within an enterprise that switches calls between users on local lines, while enabling all users to share a certain number of external phone lines. - https://www.techtarget.com/searchunifiedcommunications/definition/private-branch-exchange"
   ]
  },
  {
   "cell_type": "markdown",
   "metadata": {},
   "source": [
    "IP addresses with o=Interpol  \n",
    "https://www.entrust.com/blog/2015/04/interpol-world-entrust-datacards-joynes-talks-epassports-and-border-security/  "
   ]
  },
  {
   "cell_type": "code",
   "execution_count": 580,
   "metadata": {},
   "outputs": [
    {
     "name": "stdout",
     "output_type": "stream",
     "text": [
      "636 2024-04-23 00:00:00\n",
      "+--------------+--------------+-------------------------------------------------------------------------------------------------------------------------------------------------------------------------------+\n",
      "|ip            |attribute_name|attribute_values_list                                                                                                                                                          |\n",
      "+--------------+--------------+-------------------------------------------------------------------------------------------------------------------------------------------------------------------------------+\n",
      "|148.66.197.88 |namingContexts|[o=Interpol, o=entrust, dc=local, o=World, dc=com, dc=org, dc=ssh, c=AE, c=AU, c=BB, c=BE, c=CA, c=CL, c=CO, c=ES, c=GB, c=JP, c=NZ, c=OM, c=SV, c=UN, c=US, c=XP, c=ZZ]       |\n",
      "|216.117.52.153|namingContexts|[o=Interpol, o=entrust, dc=local, o=World, dc=com, dc=org, dc=ssh, dc=SE, c=AE, c=AU, c=BB, c=BE, c=CA, c=CL, c=CO, c=ES, c=GB, c=JP, c=NZ, c=OM, c=SV, c=UN, c=US, c=XP, c=ZZ]|\n",
      "|216.117.57.128|namingContexts|[o=Interpol, o=entrust, dc=local, o=World, dc=com, dc=org, dc=ssh, dc=SE, c=AE, c=AU, c=BB, c=BE, c=CA, c=CL, c=CO, c=ES, c=GB, c=JP, c=NZ, c=OM, c=SV, c=UN, c=US, c=XP, c=ZZ]|\n",
      "|148.66.197.12 |namingContexts|[o=Interpol, o=entrust, dc=local, o=World, dc=com, dc=org, dc=ssh, c=AE, c=AU, c=BB, c=BE, c=CA, c=CL, c=CO, c=ES, c=GB, c=JP, c=NZ, c=OM, c=SV, c=UN, c=US, c=XP, c=ZZ]       |\n",
      "|216.117.57.54 |namingContexts|[o=Interpol, o=entrust, dc=local, o=World, dc=com, dc=org, dc=ssh, dc=SE, c=AE, c=AU, c=BB, c=BE, c=CA, c=CL, c=CO, c=ES, c=GB, c=JP, c=NZ, c=OM, c=SV, c=UN, c=US, c=XP, c=ZZ]|\n",
      "+--------------+--------------+-------------------------------------------------------------------------------------------------------------------------------------------------------------------------------+\n",
      "\n",
      "389 2024-04-24 00:00:00\n",
      "+--------------+--------------+-------------------------------------------------------------------------------------------------------------------------------------------------------------------------------+\n",
      "|ip            |attribute_name|attribute_values_list                                                                                                                                                          |\n",
      "+--------------+--------------+-------------------------------------------------------------------------------------------------------------------------------------------------------------------------------+\n",
      "|216.117.57.130|namingContexts|[o=Interpol, o=entrust, dc=local, o=World, dc=com, dc=org, dc=ssh, dc=SE, c=AE, c=AU, c=BB, c=BE, c=CA, c=CL, c=CO, c=ES, c=GB, c=JP, c=NZ, c=OM, c=SV, c=UN, c=US, c=XP, c=ZZ]|\n",
      "|148.66.197.12 |namingContexts|[o=Interpol, o=entrust, dc=local, o=World, dc=com, dc=org, dc=ssh, c=AE, c=AU, c=BB, c=BE, c=CA, c=CL, c=CO, c=ES, c=GB, c=JP, c=NZ, c=OM, c=SV, c=UN, c=US, c=XP, c=ZZ]       |\n",
      "|216.117.52.153|namingContexts|[o=Interpol, o=entrust, dc=local, o=World, dc=com, dc=org, dc=ssh, dc=SE, c=AE, c=AU, c=BB, c=BE, c=CA, c=CL, c=CO, c=ES, c=GB, c=JP, c=NZ, c=OM, c=SV, c=UN, c=US, c=XP, c=ZZ]|\n",
      "|216.117.57.54 |namingContexts|[o=Interpol, o=entrust, dc=local, o=World, dc=com, dc=org, dc=ssh, dc=SE, c=AE, c=AU, c=BB, c=BE, c=CA, c=CL, c=CO, c=ES, c=GB, c=JP, c=NZ, c=OM, c=SV, c=UN, c=US, c=XP, c=ZZ]|\n",
      "|216.117.57.128|namingContexts|[o=Interpol, o=entrust, dc=local, o=World, dc=com, dc=org, dc=ssh, dc=SE, c=AE, c=AU, c=BB, c=BE, c=CA, c=CL, c=CO, c=ES, c=GB, c=JP, c=NZ, c=OM, c=SV, c=UN, c=US, c=XP, c=ZZ]|\n",
      "|216.117.52.155|namingContexts|[o=Interpol, o=entrust, dc=local, o=World, dc=com, dc=org, dc=ssh, dc=SE, c=AE, c=AU, c=BB, c=BE, c=CA, c=CL, c=CO, c=ES, c=GB, c=JP, c=NZ, c=OM, c=SV, c=UN, c=US, c=XP, c=ZZ]|\n",
      "|173.209.238.67|namingContexts|[o=Interpol, o=entrust, dc=local, o=World, dc=com, dc=org, dc=ssh, dc=SE, c=AE, c=AU, c=BB, c=BE, c=CA, c=CL, c=CO, c=ES, c=GB, c=JP, c=NZ, c=OM, c=SV, c=UN, c=US, c=XP, c=ZZ]|\n",
      "|216.117.57.38 |namingContexts|[o=Interpol, o=entrust, dc=local, o=World, dc=com, dc=org, dc=ssh, dc=SE, c=AE, c=AU, c=BB, c=BE, c=CA, c=CL, c=CO, c=ES, c=GB, c=JP, c=NZ, c=OM, c=SV, c=UN, c=US, c=XP, c=ZZ]|\n",
      "|216.117.57.199|namingContexts|[o=Interpol, o=entrust, dc=local, o=World, dc=com, dc=org, dc=ssh, dc=SE, c=AE, c=AU, c=BB, c=BE, c=CA, c=CL, c=CO, c=ES, c=GB, c=JP, c=NZ, c=OM, c=SV, c=UN, c=US, c=XP, c=ZZ]|\n",
      "+--------------+--------------+-------------------------------------------------------------------------------------------------------------------------------------------------------------------------------+\n",
      "\n"
     ]
    }
   ],
   "source": [
    "# TODO extract from namingContexts O, OU and CN; e.g. o=Interpol (216.117.52.155)\n",
    "\n",
    "for port, ts in CRAWL_PORT_SCANDATE_MAP.items():\n",
    "    print(port, ts)\n",
    "\n",
    "    root_dse_df = load_ldap_root_dse(port, ts)\n",
    "\n",
    "    flat_root_dse_df = flatten_ldap_metadata(root_dse_df)\n",
    "    flat_root_dse_df.filter(\n",
    "        psf.array_contains(psf.col(\"attribute_values_list\"), \"o=Interpol\")\n",
    "    ).select(\"ip\", \"attribute_name\", \"attribute_values_list\").show(truncate=False)"
   ]
  },
  {
   "cell_type": "markdown",
   "metadata": {},
   "source": [
    "User attributes that RootDSE replied"
   ]
  },
  {
   "cell_type": "code",
   "execution_count": 264,
   "metadata": {},
   "outputs": [
    {
     "name": "stdout",
     "output_type": "stream",
     "text": [
      "636 2024-04-23 00:00:00\n",
      "0\n",
      "+---------------------+-----+\n",
      "|attribute_values_list|count|\n",
      "+---------------------+-----+\n",
      "+---------------------+-----+\n",
      "\n",
      "+---+--------------+---------------------+\n",
      "|ip |attribute_name|attribute_values_list|\n",
      "+---+--------------+---------------------+\n",
      "+---+--------------+---------------------+\n",
      "\n",
      "389 2024-04-24 00:00:00\n",
      "200\n",
      "+----------------------------+-----+\n",
      "|attribute_values_list       |count|\n",
      "+----------------------------+-----+\n",
      "|[123456789]                 |392  |\n",
      "|[interact@s.h, interact@s.h]|196  |\n",
      "|[119537]                    |1    |\n",
      "|[111113]                    |1    |\n",
      "|[222223]                    |1    |\n",
      "|[111112]                    |1    |\n",
      "+----------------------------+-----+\n",
      "\n",
      "+--------------+--------------+---------------------+\n",
      "|ip            |attribute_name|attribute_values_list|\n",
      "+--------------+--------------+---------------------+\n",
      "|111.93.179.155|customerNumber|[119537]             |\n",
      "|210.92.54.110 |customerNumber|[111112]             |\n",
      "|203.240.69.59 |customerNumber|[111113]             |\n",
      "|203.240.75.195|customerNumber|[222223]             |\n",
      "+--------------+--------------+---------------------+\n",
      "\n"
     ]
    }
   ],
   "source": [
    "for port, ts in CRAWL_PORT_SCANDATE_MAP.items():\n",
    "    print(port, ts)\n",
    "\n",
    "    root_dse_df = load_ldap_root_dse(port, ts)\n",
    "\n",
    "    flat_root_dse_df = flatten_ldap_metadata(root_dse_df)\n",
    "    _df = flat_root_dse_df.filter(\n",
    "        (psf.col(\"attribute_name\") == \"telephoneNumber\")\n",
    "        | (psf.col(\"attribute_name\") == \"mobile\")\n",
    "        | (psf.col(\"attribute_name\") == \"mail\")\n",
    "        | (psf.col(\"attribute_name\") == \"customerNumber\")\n",
    "    ).select(\"ip\", \"attribute_name\", \"attribute_values_list\")\n",
    "    print(\n",
    "        _df.groupBy(\"ip\").agg(\n",
    "            psf.collect_set(\"attribute_name\").alias(\"attribute_names\"),\n",
    "            psf.collect_set(\"attribute_values_list\").alias(\"attribute_values\")\n",
    "        ).count()\n",
    "    )\n",
    "    _df.groupBy(\"attribute_values_list\").count().sort(\"count\", ascending=False).show(truncate=False)\n",
    "    _df.filter(psf.col(\"attribute_name\") == \"customerNumber\").show(truncate=False)\n"
   ]
  },
  {
   "cell_type": "markdown",
   "metadata": {},
   "source": [
    "What are the searchable PGP keys servers?"
   ]
  },
  {
   "cell_type": "code",
   "execution_count": 575,
   "metadata": {},
   "outputs": [
    {
     "name": "stdout",
     "output_type": "stream",
     "text": [
      "+--------------+\n",
      "|            ip|\n",
      "+--------------+\n",
      "|193.36.240.186|\n",
      "|85.232.246.170|\n",
      "| 23.174.16.232|\n",
      "|  91.217.173.7|\n",
      "|62.190.107.142|\n",
      "|62.251.195.243|\n",
      "|  212.5.123.11|\n",
      "| 194.15.212.86|\n",
      "| 69.58.105.244|\n",
      "|194.187.222.24|\n",
      "+--------------+\n",
      "only showing top 10 rows\n",
      "\n",
      "109\n"
     ]
    }
   ],
   "source": [
    "flat_root_dse_df = flatten_ldap_metadata(root_dse_df)\n",
    "pgp_keys_df = flat_root_dse_df.filter(\n",
    "    psf.col(\"attribute_values_list\").isin(psf.lit(['o=Searchable PGP keys', 'o=Uploaded PGP keys', 'o=Users', 'o=Prefs', 'o=CRL', 'cn=PGPServerInfo', 'o=PGP keys']))\n",
    ").select(\"id\")\n",
    "\n",
    "root_dse_df.join(pgp_keys_df, \"id\", \"inner\").select(\"ip\").show(10)\n",
    "print(pgp_keys_df.count())"
   ]
  },
  {
   "cell_type": "markdown",
   "metadata": {},
   "source": [
    "What does not help:  \n",
    "- root dse serviceName  \n",
    "\n",
    "Other results/insights:  \n",
    "- namingContext - find PGP servers  \n",
    "- no iPlanet servers...  \n",
    "- Zentyal is a linux domain and directory server with AD compatibility  \n"
   ]
  },
  {
   "cell_type": "markdown",
   "metadata": {},
   "source": [
    "Extracting visible attributes"
   ]
  },
  {
   "cell_type": "code",
   "execution_count": 578,
   "metadata": {},
   "outputs": [
    {
     "name": "stdout",
     "output_type": "stream",
     "text": [
      "636 2024-04-23 00:00:00\n",
      "389 2024-04-24 00:00:00\n"
     ]
    }
   ],
   "source": [
    "dfs = []\n",
    "for port, ts in CRAWL_PORT_SCANDATE_MAP.items():\n",
    "    print(port, ts)\n",
    "\n",
    "    root_dse_df = load_ldap_root_dse(port, ts)\n",
    "    root_dse_df = flatten_ldap_metadata(root_dse_df)\n",
    "    dfs.append(root_dse_df.select(\"attribute_name\").distinct())\n",
    "\n",
    "pdf = dfs[0].unionByName(dfs[1]).distinct().toPandas()\n",
    "pdf.to_csv(\"root_dse_attributes.csv\", index=False, header=True)"
   ]
  },
  {
   "cell_type": "code",
   "execution_count": 579,
   "metadata": {},
   "outputs": [
    {
     "name": "stdout",
     "output_type": "stream",
     "text": [
      "636 2024-04-23 00:00:00\n",
      "389 2024-04-24 00:00:00\n"
     ]
    }
   ],
   "source": [
    "dfs = []\n",
    "for port, ts in CRAWL_PORT_SCANDATE_MAP.items():\n",
    "    print(port, ts)\n",
    "    schema_df = load_ldap_schema(port, ts)\n",
    "    schema_df = flatten_ldap_metadata(schema_df)\n",
    "    dfs.append(schema_df.select(\"attribute_name\").distinct())\n",
    "\n",
    "pdf = dfs[0].unionByName(dfs[1]).distinct().toPandas()\n",
    "pdf.to_csv(\"schema_attributes.csv\", index=False, header=True)"
   ]
  },
  {
   "cell_type": "code",
   "execution_count": null,
   "metadata": {},
   "outputs": [
    {
     "name": "stdout",
     "output_type": "stream",
     "text": [
      "+-------------------------------------------------------------------------------------------------------------------------------------------------------------------------------------------------------------------------------------------------------------------------------------------------------------------------------------------------------------------------------------------------------------------------------------------------------------------------------------------------------------------------------------------------------------------------------------------------------------------------------------------------------------------------------------------------------------------------------------------------------------------------------------------------------------------------------------------------------------------------------------------------------------------------------------------------------------------------------------------------------------------------------------------------------------------------------------------------------------------------------------------------------------------------------------------------------------------------------------------------------------------------------------------------------------------------------------------------------------------------------------------------------------------------------------------------------------------------------------------------------------------------------------------------------------------------------------------------------------------------------------------------------------------------------------------------------------------------------------------------------------------------------------------------------------------------------------------------------------------------------------------------------------------------------------------+-----+\n",
      "|attribute_values_list                                                                                                                                                                                                                                                                                                                                                                                                                                                                                                                                                                                                                                                                                                                                                                                                                                                                                                                                                                                                                                                                                                                                                                                                                                                                                                                                                                                                                                                                                                                                                                                                                                                                                                                                                                                                                                                                                                                      |count|\n",
      "+-------------------------------------------------------------------------------------------------------------------------------------------------------------------------------------------------------------------------------------------------------------------------------------------------------------------------------------------------------------------------------------------------------------------------------------------------------------------------------------------------------------------------------------------------------------------------------------------------------------------------------------------------------------------------------------------------------------------------------------------------------------------------------------------------------------------------------------------------------------------------------------------------------------------------------------------------------------------------------------------------------------------------------------------------------------------------------------------------------------------------------------------------------------------------------------------------------------------------------------------------------------------------------------------------------------------------------------------------------------------------------------------------------------------------------------------------------------------------------------------------------------------------------------------------------------------------------------------------------------------------------------------------------------------------------------------------------------------------------------------------------------------------------------------------------------------------------------------------------------------------------------------------------------------------------------------+-----+\n",
      "|[[]]                                                                                                                                                                                                                                                                                                                                                                                                                                                                                                                                                                                                                                                                                                                                                                                                                                                                                                                                                                                                                                                                                                                                                                                                                                                                                                                                                                                                                                                                                                                                                                                                                                                                                                                                                                                                                                                                                                                                       |230  |\n",
      "|[[2.16.840.1.113730.3.4.3, 2.16.840.1.113730.3.4.7, 1.3.6.1.4.1.4203.1.10.1, 2.16.840.1.113730.3.4.2, 1.3.6.1.4.1.18060.0.0.1, 1.2.840.113556.1.4.319, 1.3.6.1.4.1.4203.1.9.1.3, 1.3.6.1.4.1.4203.1.9.1.4, 1.3.6.1.4.1.4203.1.9.1.1, 1.3.6.1.4.1.4203.1.9.1.2], [ou=system, dc=example,dc=com, ou=bullhorn, ou=schema], [SIMPLE, CRAM-MD5, DIGEST-MD5, GSSAPI, NTLM, GSS-SPNEGO], [3], [1.3.6.1.4.1.4203.1.5.1], [1.3.6.1.4.1.1466.20036, 1.3.6.1.4.1.1466.20037, 1.3.6.1.4.1.18060.0.1.5, 1.3.6.1.4.1.18060.0.1.4, 1.3.6.1.4.1.18060.0.1.3, 1.3.6.1.4.1.18060.0.1.1, 1.3.6.1.4.1.18060.0.1.2], [cn=schema], [Apache Software Foundation], [1.5.5]]                                                                                                                                                                                                                                                                                                                                                                                                                                                                                                                                                                                                                                                                                                                                                                                                                                                                                                                                                                                                                                                                                                                                                                                                                                                                                        |15   |\n",
      "|[[2.16.840.1.113730.3.4.7, 1.2.840.113556.1.4.528, 2.16.840.1.113730.3.4.18, 2.16.840.1.113730.3.4.9, 1.3.6.1.4.1.18060.0.0.1, 1.2.840.113556.1.4.417, 2.16.840.1.113730.3.4.3, 1.2.840.113556.1.4.1413, 2.16.840.1.113730.3.4.2, 1.3.6.1.4.1.4203.1.10.1, 1.3.6.1.4.1.42.2.27.8.5.1, 1.3.6.1.4.1.4203.1.9.1.4, 1.2.840.113556.1.4.841, 1.3.6.1.4.1.4203.1.9.1.3, 1.3.6.1.4.1.4203.1.9.1.2, 1.3.6.1.4.1.4203.1.9.1.1, 1.2.840.113556.1.4.319, 2.16.840.1.113730.3.4.10, 1.2.840.113556.1.4.473, 1.2.840.113556.1.4.474], [ou=system, ou=schema, dc=example,dc=com, ou=config], [NTLM, DIGEST-MD5, GSS-SPNEGO, GSSAPI, SIMPLE, CRAM-MD5], [3], [1.3.6.1.4.1.4203.1.5.1], [1.3.6.1.4.1.1466.20036, 1.3.6.1.4.1.1466.20037, 1.3.6.1.4.1.4203.1.11.3, 1.3.6.1.4.1.18060.0.1.5, 1.3.6.1.4.1.18060.0.1.3, 1.3.6.1.4.1.4203.1.11.1], [cn=schema], [Apache Software Foundation], [2.0.0-M23], [f290425c-8272-4e62-8a67-92b06f38dbf5]]                                                                                                                                                                                                                                                                                                                                                                                                                                                                                                                                                                                                                                                                                                                                                                                                                                                                                                                                                                                                              |13   |\n",
      "|[[CN=Aggregate,CN=Schema,CN=Configuration,DC=antares,DC=l4], [1.2.840.113556.1.4.800, 1.2.840.113556.1.4.1670, 1.2.840.113556.1.4.1791, 1.2.840.113556.1.4.1935, 1.2.840.113556.1.4.2080], [2, 3], [Samba Team (http://samba.org)], [CN=LOCALDC,CN=Servers,CN=Default-First-Site-Name,CN=Sites,CN=Configuration,DC=antares,DC=l4], [localdc.antares.l4], [antares.l4:localdc$@ANTARES.L4], [1.2.840.113556.1.4.841, 1.2.840.113556.1.4.319, 1.2.840.113556.1.4.473, 1.2.840.113556.1.4.1504, 1.2.840.113556.1.4.801, 1.2.840.113556.1.4.801, 1.2.840.113556.1.4.805, 1.2.840.113556.1.4.1338, 1.2.840.113556.1.4.529, 1.2.840.113556.1.4.417, 1.2.840.113556.1.4.2064, 1.2.840.113556.1.4.1413, 1.2.840.113556.1.4.1413, 1.2.840.113556.1.4.1413, 1.2.840.113556.1.4.1413, 1.2.840.113556.1.4.1413, 1.2.840.113556.1.4.1339, 1.2.840.113556.1.4.1340, 1.2.840.113556.1.4.1413, 1.2.840.113556.1.4.1341], [DC=antares,DC=l4, CN=Configuration,DC=antares,DC=l4, CN=Schema,CN=Configuration,DC=antares,DC=l4, DC=DomainDnsZones,DC=antares,DC=l4, DC=ForestDnsZones,DC=antares,DC=l4], [GSS-SPNEGO, GSSAPI, NTLM], [4.3.11-Ubuntu], [TRUE]]                                                                                                                                                                                                                                                                                                                                                                                                                                                                                                                                                                                                                                                                                                                                                                                                  |8    |\n",
      "|[[2.16.840.1.113730.3.4.3, 2.16.840.1.113730.3.4.7, 1.3.6.1.4.1.4203.1.10.1, 2.16.840.1.113730.3.4.2, 1.3.6.1.4.1.18060.0.0.1, 1.2.840.113556.1.4.319, 1.3.6.1.4.1.4203.1.9.1.3, 1.3.6.1.4.1.4203.1.9.1.4, 1.3.6.1.4.1.4203.1.9.1.1, 1.3.6.1.4.1.4203.1.9.1.2], [ou=system, ou=bullhorn, dc=example,dc=com, ou=schema], [SIMPLE, CRAM-MD5, DIGEST-MD5, GSSAPI, NTLM, GSS-SPNEGO], [3], [1.3.6.1.4.1.4203.1.5.1], [1.3.6.1.4.1.1466.20036, 1.3.6.1.4.1.1466.20037, 1.3.6.1.4.1.18060.0.1.5, 1.3.6.1.4.1.18060.0.1.4, 1.3.6.1.4.1.18060.0.1.3, 1.3.6.1.4.1.18060.0.1.1, 1.3.6.1.4.1.18060.0.1.2], [cn=schema], [Apache Software Foundation], [1.5.5]]                                                                                                                                                                                                                                                                                                                                                                                                                                                                                                                                                                                                                                                                                                                                                                                                                                                                                                                                                                                                                                                                                                                                                                                                                                                                                        |8    |\n",
      "|[[CN=Aggregate,CN=Schema,CN=Configuration,DC=jjaaviation,DC=com], [1.2.840.113556.1.4.800, 1.2.840.113556.1.4.1670, 1.2.840.113556.1.4.1791, 1.2.840.113556.1.4.1935, 1.2.840.113556.1.4.2080], [2, 3], [Samba Team (http://samba.org)], [CN=DSYNSERV,CN=Servers,CN=Default-First-Site-Name,CN=Sites,CN=Configuration,DC=jjaaviation,DC=com], [DSynServ.jjaaviation.com], [jjaaviation.com:dsynserv$@JJAAVIATION.COM], [1.2.840.113556.1.4.1413, 1.2.840.113556.1.4.1413, 1.2.840.113556.1.4.1413, 1.2.840.113556.1.4.1413, 1.2.840.113556.1.4.1413, 1.2.840.113556.1.4.528, 1.2.840.113556.1.4.841, 1.2.840.113556.1.4.319, 2.16.840.1.113730.3.4.9, 1.2.840.113556.1.4.473, 1.2.840.113556.1.4.1504, 1.2.840.113556.1.4.801, 1.2.840.113556.1.4.801, 1.2.840.113556.1.4.805, 1.2.840.113556.1.4.1338, 1.2.840.113556.1.4.529, 1.2.840.113556.1.4.417, 1.2.840.113556.1.4.2064, 1.2.840.113556.1.4.1339, 1.2.840.113556.1.4.1340, 1.2.840.113556.1.4.1413, 1.2.840.113556.1.4.1341], [DC=jjaaviation,DC=com, CN=Configuration,DC=jjaaviation,DC=com, CN=Schema,CN=Configuration,DC=jjaaviation,DC=com, DC=DomainDnsZones,DC=jjaaviation,DC=com, DC=ForestDnsZones,DC=jjaaviation,DC=com], [GSS-SPNEGO, GSSAPI, NTLM], [4.15.9], [TRUE]]                                                                                                                                                                                                                                                                                                                                                                                                                                                                                                                                                                                                                                                                                                   |7    |\n",
      "|[[3], [2.16.840.1.113730.3.4.3, 2.16.840.1.113730.3.4.7, 1.3.6.1.4.1.4203.1.10.1, 2.16.840.1.113730.3.4.2, 1.3.6.1.4.1.18060.0.0.1], [1.3.6.1.4.1.1466.20036, 1.3.6.1.4.1.1466.20037], [ou=system, ou=schema, ou=readimanager, dc=polycom,dc=com], [1.3.6.1.4.1.4203.1.5.1], [1.5.3-PLCM2], [NTLM, GSS-SPNEGO], [Apache Software Foundation], [cn=schema]]                                                                                                                                                                                                                                                                                                                                                                                                                                                                                                                                                                                                                                                                                                                                                                                                                                                                                                                                                                                                                                                                                                                                                                                                                                                                                                                                                                                                                                                                                                                                                                                 |7    |\n",
      "|[[2.16.840.1.113730.3.4.7, 1.2.840.113556.1.4.528, 2.16.840.1.113730.3.4.18, 2.16.840.1.113730.3.4.9, 1.3.6.1.4.1.18060.0.0.1, 1.2.840.113556.1.4.417, 2.16.840.1.113730.3.4.3, 1.2.840.113556.1.4.1413, 2.16.840.1.113730.3.4.2, 1.3.6.1.4.1.4203.1.10.1, 1.3.6.1.4.1.42.2.27.8.5.1, 1.3.6.1.4.1.4203.1.9.1.4, 1.2.840.113556.1.4.841, 1.3.6.1.4.1.4203.1.9.1.3, 1.3.6.1.4.1.4203.1.9.1.2, 1.3.6.1.4.1.4203.1.9.1.1, 1.2.840.113556.1.4.319, 2.16.840.1.113730.3.4.10, 1.2.840.113556.1.4.473, 1.2.840.113556.1.4.474], [ou=system, ou=config, ou=schema, dc=example,dc=com], [NTLM, DIGEST-MD5, GSS-SPNEGO, GSSAPI, SIMPLE, CRAM-MD5], [3], [1.3.6.1.4.1.4203.1.5.1], [1.3.6.1.4.1.1466.20036, 1.3.6.1.4.1.1466.20037, 1.3.6.1.4.1.4203.1.11.3, 1.3.6.1.4.1.18060.0.1.5, 1.3.6.1.4.1.18060.0.1.3, 1.3.6.1.4.1.4203.1.11.1], [cn=schema], [Apache Software Foundation], [2.0.0-M23], [f290425c-8272-4e62-8a67-92b06f38dbf5]]                                                                                                                                                                                                                                                                                                                                                                                                                                                                                                                                                                                                                                                                                                                                                                                                                                                                                                                                                                                                              |7    |\n",
      "|[[o=orst.edu, o=SCTSSOapplications], [2.16.840.1.113730.3.4.2, 2.16.840.1.113730.3.4.3, 2.16.840.1.113730.3.4.4, 2.16.840.1.113730.3.4.5, 1.2.840.113556.1.4.473, 2.16.840.1.113730.3.4.9, 2.16.840.1.113730.3.4.16, 2.16.840.1.113730.3.4.15, 2.16.840.1.113730.3.4.17, 2.16.840.1.113730.3.4.19, 1.3.6.1.4.1.42.2.27.9.5.2, 1.3.6.1.4.1.42.2.27.9.5.6, 1.3.6.1.4.1.42.2.27.9.5.8, 1.3.6.1.4.1.42.2.27.8.5.1, 2.16.840.1.113730.3.4.14, 2.16.840.1.113730.3.4.12, 2.16.840.1.113730.3.4.18, 2.16.840.1.113730.3.4.13], [2.16.840.1.113730.3.5.7, 2.16.840.1.113730.3.5.8, 1.3.6.1.4.1.4203.1.11.1, 1.3.6.1.4.1.42.2.27.9.6.25, 2.16.840.1.113730.3.5.3, 2.16.840.1.113730.3.5.5, 2.16.840.1.113730.3.5.6, 2.16.840.1.113730.3.5.4, 1.3.6.1.4.1.42.2.27.9.6.1, 1.3.6.1.4.1.42.2.27.9.6.2, 1.3.6.1.4.1.42.2.27.9.6.3, 1.3.6.1.4.1.42.2.27.9.6.4, 1.3.6.1.4.1.42.2.27.9.6.5, 1.3.6.1.4.1.42.2.27.9.6.6, 1.3.6.1.4.1.42.2.27.9.6.7, 1.3.6.1.4.1.42.2.27.9.6.8, 1.3.6.1.4.1.42.2.27.9.6.9, 1.3.6.1.4.1.42.2.27.9.6.23, 1.3.6.1.4.1.42.2.27.9.6.11, 1.3.6.1.4.1.42.2.27.9.6.12, 1.3.6.1.4.1.42.2.27.9.6.13, 1.3.6.1.4.1.42.2.27.9.6.14, 1.3.6.1.4.1.42.2.27.9.6.15, 1.3.6.1.4.1.42.2.27.9.6.16, 1.3.6.1.4.1.42.2.27.9.6.17, 1.3.6.1.4.1.42.2.27.9.6.18, 1.3.6.1.4.1.42.2.27.9.6.19, 1.3.6.1.4.1.42.2.27.9.6.21, 1.3.6.1.4.1.42.2.27.9.6.22, 1.3.6.1.4.1.42.2.27.9.6.24, 1.3.6.1.4.1.1466.20037, 1.3.6.1.4.1.4203.1.11.3], [2, 3], [EXTERNAL, DIGEST-MD5], [Oracle Corporation], [Sun-Directory-Server/11.1.1.7.190716], [cn=schema]]                                                                                                                                                                                                                                                                                                                                                                                                            |7    |\n",
      "|[[20231122034023Z], [cn=server,cn=plugins,cn=config], [cn=Directory Manager], [20240222193845Z], [namingContexts, supportedControl, supportedExtension, supportedLDAPVersion, supportedSASLMechanisms, vendorName, vendorVersion], [userRoot:dc=idm,dc=cwinfo,dc=net, ipaca:o=ipaca, changelog:cn=changelog], [EXTERNAL, GSS-SPNEGO, GSSAPI, DIGEST-MD5, CRAM-MD5, PLAIN, LOGIN, ANONYMOUS], [dc=idm,dc=cwinfo,dc=net, cn=changelog, o=ipaca], [2.16.840.1.113730.3.4.2, 2.16.840.1.113730.3.4.3, 2.16.840.1.113730.3.4.4, 2.16.840.1.113730.3.4.5, 1.2.840.113556.1.4.473, 2.16.840.1.113730.3.4.9, 2.16.840.1.113730.3.4.16, 2.16.840.1.113730.3.4.15, 2.16.840.1.113730.3.4.17, 2.16.840.1.113730.3.4.19, 1.3.6.1.1.13.1, 1.3.6.1.1.13.2, 1.3.6.1.4.1.42.2.27.8.5.1, 1.3.6.1.4.1.4203.1.10.1, 1.3.6.1.4.1.42.2.27.9.5.2, 1.2.840.113556.1.4.319, 1.3.6.1.4.1.42.2.27.9.5.8, 1.3.6.1.4.1.4203.666.5.16, 2.16.840.1.113730.3.8.10.6, 2.16.840.1.113730.3.8.10.7, 2.16.840.1.113730.3.4.14, 2.16.840.1.113730.3.4.20, 1.3.6.1.4.1.1466.29539.12, 2.16.840.1.113730.3.4.12, 2.16.840.1.113730.3.4.18, 2.16.840.1.113730.3.4.13, 1.3.6.1.4.1.4203.1.9.1.1], [2.16.840.1.113730.3.5.7, 2.16.840.1.113730.3.5.8, 2.16.840.1.113730.3.5.10, 2.16.840.1.113730.3.8.10.3, 2.16.840.1.113730.3.8.10.4, 2.16.840.1.113730.3.8.10.4.1, 2.16.840.1.113730.3.8.10.4.2, 1.3.6.1.4.1.4203.1.11.1, 2.16.840.1.113730.3.8.10.1, 2.16.840.1.113730.3.8.10.5, 2.16.840.1.113730.3.5.3, 2.16.840.1.113730.3.5.12, 2.16.840.1.113730.3.5.5, 2.16.840.1.113730.3.5.6, 2.16.840.1.113730.3.5.9, 2.16.840.1.113730.3.5.4, 2.16.840.1.113730.3.6.5, 2.16.840.1.113730.3.6.6, 2.16.840.1.113730.3.6.7, 2.16.840.1.113730.3.6.8, 1.3.6.1.4.1.4203.1.11.3, 1.3.6.1.4.1.1466.20037], [1.3.6.1.4.1.4203.1.5.1], [2, 3], [EXTERNAL, GSS-SPNEGO, GSSAPI, DIGEST-MD5, CRAM-MD5, PLAIN, LOGIN, ANONYMOUS], [389 Project], [389-Directory/2.4.5 B2024.018.0000], [cn=schema]]|7    |\n",
      "|[[c=JP], [2.16.840.1.113730.3.4.2, 2.16.840.1.113730.3.4.4, 1.2.392.200003.2.3.6.11, 1.2.392.200003.2.3.6.12, 1.2.392.200003.2.3.6.13, 1.2.392.200003.2.3.6.14, 1.2.392.200003.2.3.6.15, 1.3.6.1.4.1.42.2.27.8.5.1, 1.2.840.113556.1.4.473, 1.2.840.113556.1.4.319, 1.2.392.200003.2.3.6.18, 1.2.392.200003.2.3.6.19, 1.2.392.200003.2.3.6.20, 1.2.392.200003.2.3.6.25], [1.3.6.1.4.1.1466.20036, 1.3.6.1.4.1.1466.20037, 1.2.392.200003.2.3.7.34.1, 1.2.392.200003.2.3.7.34.2, 1.2.392.200003.2.3.7.35.1, 1.2.392.200003.2.3.7.35.2, 1.2.392.200003.2.3.7.35.3, 1.2.392.200003.2.3.7.35.4], [1.3.6.1.4.1.4203.1.5.3], [2, 3], [CRAM-MD5, DIGEST-MD5, EXTERNAL], [SHA1, MD5, SHA256], [NEC Corporation], [710], [cn=subschemaSubentry,c=JP]]                                                                                                                                                                                                                                                                                                                                                                                                                                                                                                                                                                                                                                                                                                                                                                                                                                                                                                                                                                                                                                                                                                                                                                                               |6    |\n",
      "|[[dc=uchicago,dc=edu], [2.16.840.1.113730.3.4.2, 2.16.840.1.113730.3.4.3, 2.16.840.1.113730.3.4.4, 2.16.840.1.113730.3.4.5, 1.2.840.113556.1.4.473, 2.16.840.1.113730.3.4.9, 2.16.840.1.113730.3.4.16, 2.16.840.1.113730.3.4.15, 2.16.840.1.113730.3.4.17, 2.16.840.1.113730.3.4.19, 1.3.6.1.4.1.42.2.27.9.5.2, 1.3.6.1.4.1.42.2.27.9.5.6, 1.3.6.1.4.1.42.2.27.9.5.8, 1.3.6.1.4.1.42.2.27.8.5.1, 2.16.840.1.113730.3.4.14, 2.16.840.1.113730.3.4.12, 2.16.840.1.113730.3.4.18, 2.16.840.1.113730.3.4.13], [2.16.840.1.113730.3.5.7, 2.16.840.1.113730.3.5.8, 1.3.6.1.4.1.4203.1.11.1, 1.3.6.1.4.1.42.2.27.9.6.25, 2.16.840.1.113730.3.5.3, 2.16.840.1.113730.3.5.5, 2.16.840.1.113730.3.5.6, 2.16.840.1.113730.3.5.4, 1.3.6.1.4.1.42.2.27.9.6.1, 1.3.6.1.4.1.42.2.27.9.6.2, 1.3.6.1.4.1.42.2.27.9.6.3, 1.3.6.1.4.1.42.2.27.9.6.4, 1.3.6.1.4.1.42.2.27.9.6.5, 1.3.6.1.4.1.42.2.27.9.6.6, 1.3.6.1.4.1.42.2.27.9.6.7, 1.3.6.1.4.1.42.2.27.9.6.8, 1.3.6.1.4.1.42.2.27.9.6.9, 1.3.6.1.4.1.42.2.27.9.6.23, 1.3.6.1.4.1.42.2.27.9.6.11, 1.3.6.1.4.1.42.2.27.9.6.12, 1.3.6.1.4.1.42.2.27.9.6.13, 1.3.6.1.4.1.42.2.27.9.6.14, 1.3.6.1.4.1.42.2.27.9.6.15, 1.3.6.1.4.1.42.2.27.9.6.16, 1.3.6.1.4.1.42.2.27.9.6.17, 1.3.6.1.4.1.42.2.27.9.6.18, 1.3.6.1.4.1.42.2.27.9.6.19, 1.3.6.1.4.1.42.2.27.9.6.21, 1.3.6.1.4.1.42.2.27.9.6.22, 1.3.6.1.4.1.42.2.27.9.6.24, 1.3.6.1.4.1.1466.20037, 1.3.6.1.4.1.4203.1.11.3], [2, 3], [EXTERNAL, DIGEST-MD5], [Oracle Corporation], [Sun-Directory-Server/11.1.1.7.171017], [cn=schema]]                                                                                                                                                                                                                                                                                                                                                                                                                          |6    |\n",
      "|[[o=NetMotion], [2.16.840.1.113730.3.4.2, 2.16.840.1.113730.3.4.3, 2.16.840.1.113730.3.4.4, 2.16.840.1.113730.3.4.5, 1.2.840.113556.1.4.473, 2.16.840.1.113730.3.4.9, 2.16.840.1.113730.3.4.16, 2.16.840.1.113730.3.4.15, 2.16.840.1.113730.3.4.17, 2.16.840.1.113730.3.4.19, 1.3.6.1.4.1.42.2.27.9.5.2, 1.3.6.1.4.1.42.2.27.9.5.6, 1.3.6.1.4.1.42.2.27.9.5.8, 1.3.6.1.4.1.42.2.27.8.5.1, 2.16.840.1.113730.3.4.14, 2.16.840.1.113730.3.4.12, 2.16.840.1.113730.3.4.18, 2.16.840.1.113730.3.4.13], [2.16.840.1.113730.3.5.7, 2.16.840.1.113730.3.5.8, 1.3.6.1.4.1.4203.1.11.1, 1.3.6.1.4.1.42.2.27.9.6.25, 2.16.840.1.113730.3.5.3, 2.16.840.1.113730.3.5.5, 2.16.840.1.113730.3.5.6, 2.16.840.1.113730.3.5.4, 1.3.6.1.4.1.42.2.27.9.6.1, 1.3.6.1.4.1.42.2.27.9.6.2, 1.3.6.1.4.1.42.2.27.9.6.3, 1.3.6.1.4.1.42.2.27.9.6.4, 1.3.6.1.4.1.42.2.27.9.6.5, 1.3.6.1.4.1.42.2.27.9.6.6, 1.3.6.1.4.1.42.2.27.9.6.7, 1.3.6.1.4.1.42.2.27.9.6.8, 1.3.6.1.4.1.42.2.27.9.6.9, 1.3.6.1.4.1.42.2.27.9.6.23, 1.3.6.1.4.1.42.2.27.9.6.11, 1.3.6.1.4.1.42.2.27.9.6.12, 1.3.6.1.4.1.42.2.27.9.6.13, 1.3.6.1.4.1.42.2.27.9.6.14, 1.3.6.1.4.1.42.2.27.9.6.15, 1.3.6.1.4.1.42.2.27.9.6.16, 1.3.6.1.4.1.42.2.27.9.6.17, 1.3.6.1.4.1.42.2.27.9.6.18, 1.3.6.1.4.1.42.2.27.9.6.19, 1.3.6.1.4.1.42.2.27.9.6.21, 1.3.6.1.4.1.42.2.27.9.6.22, 1.3.6.1.4.1.42.2.27.9.6.24, 1.3.6.1.4.1.4203.1.11.3], [2, 3], [EXTERNAL, DIGEST-MD5], [Oracle Corporation], [Sun-Directory-Server/11.1.1.7.181016], [cn=schema]]                                                                                                                                                                                                                                                                                                                                                                                                                                                         |6    |\n",
      "|[[CN=Aggregate,CN=Schema,CN=Configuration,DC=lemargo,DC=com,DC=mx], [1.2.840.113556.1.4.800, 1.2.840.113556.1.4.1670, 1.2.840.113556.1.4.1791, 1.2.840.113556.1.4.1935, 1.2.840.113556.1.4.2080], [2, 3], [Samba Team (https://www.samba.org)], [CN=CORREO,CN=Servers,CN=Default-First-Site-Name,CN=Sites,CN=Configuration,DC=lemargo,DC=com,DC=mx], [correo.lemargo.com.mx], [lemargo.com.mx:correo$@LEMARGO.COM.MX], [1.2.840.113556.1.4.1413, 1.2.840.113556.1.4.1413, 1.2.840.113556.1.4.1413, 1.2.840.113556.1.4.1413, 1.2.840.113556.1.4.1413, 1.2.840.113556.1.4.528, 1.2.840.113556.1.4.841, 1.2.840.113556.1.4.319, 2.16.840.1.113730.3.4.9, 1.2.840.113556.1.4.473, 1.2.840.113556.1.4.1504, 1.2.840.113556.1.4.801, 1.2.840.113556.1.4.801, 1.2.840.113556.1.4.801, 1.2.840.113556.1.4.805, 1.2.840.113556.1.4.1338, 1.2.840.113556.1.4.529, 1.2.840.113556.1.4.417, 1.2.840.113556.1.4.2064, 1.2.840.113556.1.4.1339, 1.2.840.113556.1.4.1340, 1.2.840.113556.1.4.1413, 1.2.840.113556.1.4.1341], [DC=lemargo,DC=com,DC=mx, CN=Configuration,DC=lemargo,DC=com,DC=mx, CN=Schema,CN=Configuration,DC=lemargo,DC=com,DC=mx, DC=DomainDnsZones,DC=lemargo,DC=com,DC=mx, DC=ForestDnsZones,DC=lemargo,DC=com,DC=mx], [GSS-SPNEGO, GSSAPI, NTLM], [4.15.13-Ubuntu], [TRUE]]                                                                                                                                                                                                                                                                                                                                                                                                                                                                                                                                                                                                                                                         |6    |\n",
      "|[[CN=Aggregate,CN=Schema,CN=Configuration,DC=ibres,DC=local], [1.2.840.113556.1.4.800, 1.2.840.113556.1.4.1670, 1.2.840.113556.1.4.1791, 1.2.840.113556.1.4.1935, 1.2.840.113556.1.4.2080], [2, 3], [Samba Team (http://samba.org)], [CN=S202279,CN=Servers,CN=Default-First-Site-Name,CN=Sites,CN=Configuration,DC=ibres,DC=local], [s202279.ibres.local], [ibres.local:s202279$@IBRES.LOCAL], [1.2.840.113556.1.4.841, 1.2.840.113556.1.4.319, 1.2.840.113556.1.4.473, 1.2.840.113556.1.4.1504, 1.2.840.113556.1.4.801, 1.2.840.113556.1.4.801, 1.2.840.113556.1.4.805, 1.2.840.113556.1.4.1338, 1.2.840.113556.1.4.529, 1.2.840.113556.1.4.417, 1.2.840.113556.1.4.2064, 1.2.840.113556.1.4.1413, 1.2.840.113556.1.4.1413, 1.2.840.113556.1.4.1413, 1.2.840.113556.1.4.1413, 1.2.840.113556.1.4.1413, 1.2.840.113556.1.4.1339, 1.2.840.113556.1.4.1340, 1.2.840.113556.1.4.1413, 1.2.840.113556.1.4.1341], [DC=ibres,DC=local, CN=Configuration,DC=ibres,DC=local, CN=Schema,CN=Configuration,DC=ibres,DC=local, DC=DomainDnsZones,DC=ibres,DC=local, DC=ForestDnsZones,DC=ibres,DC=local], [GSS-SPNEGO, GSSAPI, NTLM], [4.1.13], [TRUE]]                                                                                                                                                                                                                                                                                                                                                                                                                                                                                                                                                                                                                                                                                                                                                                                               |5    |\n",
      "|[[dc=b2gmom,dc=internal,dc=tld, o=comms-config, o=mlusers, o=pab, o=PiServerDb], [2.16.840.1.113730.3.4.2, 2.16.840.1.113730.3.4.3, 2.16.840.1.113730.3.4.4, 2.16.840.1.113730.3.4.5, 1.2.840.113556.1.4.473, 2.16.840.1.113730.3.4.9, 2.16.840.1.113730.3.4.16, 2.16.840.1.113730.3.4.15, 2.16.840.1.113730.3.4.17, 2.16.840.1.113730.3.4.19, 1.3.6.1.4.1.42.2.27.9.5.2, 1.3.6.1.4.1.42.2.27.9.5.6, 1.3.6.1.4.1.42.2.27.9.5.8, 1.3.6.1.4.1.42.2.27.8.5.1, 2.16.840.1.113730.3.4.14, 2.16.840.1.113730.3.4.12, 2.16.840.1.113730.3.4.18, 2.16.840.1.113730.3.4.13], [2.16.840.1.113730.3.5.7, 2.16.840.1.113730.3.5.8, 1.3.6.1.4.1.4203.1.11.1, 1.3.6.1.4.1.42.2.27.9.6.25, 2.16.840.1.113730.3.5.3, 2.16.840.1.113730.3.5.5, 2.16.840.1.113730.3.5.6, 2.16.840.1.113730.3.5.4, 1.3.6.1.4.1.42.2.27.9.6.1, 1.3.6.1.4.1.42.2.27.9.6.2, 1.3.6.1.4.1.42.2.27.9.6.3, 1.3.6.1.4.1.42.2.27.9.6.4, 1.3.6.1.4.1.42.2.27.9.6.5, 1.3.6.1.4.1.42.2.27.9.6.6, 1.3.6.1.4.1.42.2.27.9.6.7, 1.3.6.1.4.1.42.2.27.9.6.8, 1.3.6.1.4.1.42.2.27.9.6.9, 1.3.6.1.4.1.42.2.27.9.6.23, 1.3.6.1.4.1.42.2.27.9.6.11, 1.3.6.1.4.1.42.2.27.9.6.12, 1.3.6.1.4.1.42.2.27.9.6.13, 1.3.6.1.4.1.42.2.27.9.6.14, 1.3.6.1.4.1.42.2.27.9.6.15, 1.3.6.1.4.1.42.2.27.9.6.16, 1.3.6.1.4.1.42.2.27.9.6.17, 1.3.6.1.4.1.42.2.27.9.6.18, 1.3.6.1.4.1.42.2.27.9.6.19, 1.3.6.1.4.1.42.2.27.9.6.21, 1.3.6.1.4.1.42.2.27.9.6.22, 1.3.6.1.4.1.42.2.27.9.6.24, 1.3.6.1.4.1.1466.20037, 1.3.6.1.4.1.4203.1.11.3], [2, 3], [EXTERNAL, DIGEST-MD5], [Oracle Corporation], [Sun-Directory-Server/11.1.1.7.190716], [cn=schema]]                                                                                                                                                                                                                                                                                                                                                                |5    |\n",
      "|[[true], [7.4.1.a5a9925b1351e703c37284ebbb5558ce46014223], [true], [uid=Monitor, dc=berkeley,dc=edu, cn=Directory Manager], [cn=schema], [SCRAM-SHA-512, SHA256, SHA1, PBKDF2-HMAC-SHA256, SCRAM-SHA-256, SHA512, PBKDF2-HMAC-SHA512, PBKDF2], [1.2.826.0.1.3344810.2.3, 1.2.840.113556.1.4.1413, 1.2.840.113556.1.4.319, 1.2.840.113556.1.4.473, 1.2.840.113556.1.4.805, 1.3.6.1.1.12, 1.3.6.1.1.13.1, 1.3.6.1.1.13.2, 1.3.6.1.4.1.26027.1.5.2, 1.3.6.1.4.1.26027.1.5.4, 1.3.6.1.4.1.36733.2.1.5.1, 1.3.6.1.4.1.36733.2.1.5.5, 1.3.6.1.4.1.42.2.27.8.5.1, 1.3.6.1.4.1.42.2.27.9.5.2, 1.3.6.1.4.1.42.2.27.9.5.8, 1.3.6.1.4.1.4203.1.10.1, 1.3.6.1.4.1.4203.1.10.2, 1.3.6.1.4.1.4203.666.5.12, 1.3.6.1.4.1.7628.5.101.1, 2.16.840.1.113730.3.4.12, 2.16.840.1.113730.3.4.16, 2.16.840.1.113730.3.4.17, 2.16.840.1.113730.3.4.18, 2.16.840.1.113730.3.4.19, 2.16.840.1.113730.3.4.2, 2.16.840.1.113730.3.4.3, 2.16.840.1.113730.3.4.4, 2.16.840.1.113730.3.4.5, 2.16.840.1.113730.3.4.9], [1.3.6.1.4.1.4203.1.11.1, 1.3.6.1.4.1.4203.1.11.3, 1.3.6.1.1.8, 1.3.6.1.4.1.26027.1.6.3, 1.3.6.1.4.1.26027.1.6.2, 1.3.6.1.4.1.26027.1.6.1, 1.3.6.1.4.1.1466.20037], [1.3.6.1.1.14, 1.3.6.1.4.1.4203.1.5.1, 1.3.6.1.4.1.4203.1.5.2, 1.3.6.1.4.1.4203.1.5.3], [2, 3], [SCRAM-SHA-512, PLAIN, EXTERNAL, SCRAM-SHA-256], [TLS_AES_128_GCM_SHA256, TLS_AES_256_GCM_SHA384, TLS_DHE_RSA_WITH_AES_128_CBC_SHA, TLS_DHE_RSA_WITH_AES_128_GCM_SHA256, TLS_DHE_RSA_WITH_AES_256_GCM_SHA384, TLS_ECDHE_ECDSA_WITH_AES_128_GCM_SHA256, TLS_ECDHE_ECDSA_WITH_AES_256_GCM_SHA384, TLS_ECDHE_RSA_WITH_AES_128_CBC_SHA256, TLS_ECDHE_RSA_WITH_AES_128_GCM_SHA256, TLS_ECDHE_RSA_WITH_AES_256_GCM_SHA384, TLS_EMPTY_RENEGOTIATION_INFO_SCSV], [TLSv1.2], [ForgeRock AS.], [ForgeRock Directory Services 7.4.1-20240117152047-a5a9925b1351e703c37284ebbb5558ce46014223]]                                                                                             |5    |\n",
      "|[[10.12], [523.30.2], [Apple], [OpenLDAProotDSE], [cn=config], [dc=enoive,dc=com], [1.3.6.1.4.1.4203.1.9.1.1, 1.3.6.1.4.1.4203.666.5.16, 2.16.840.1.113730.3.4.18, 2.16.840.1.113730.3.4.2, 1.3.6.1.4.1.4203.1.10.1, 1.2.840.113556.1.4.319, 1.2.826.0.1.3344810.2.3, 1.3.6.1.1.13.2, 1.3.6.1.1.13.1, 1.3.6.1.1.12], [1.3.6.1.4.1.1466.20037, 1.3.6.1.4.1.4203.1.11.1, 1.3.6.1.4.1.4203.1.11.3, 1.3.6.1.1.8], [1.3.6.1.1.14, 1.3.6.1.4.1.4203.1.5.1, 1.3.6.1.4.1.4203.1.5.2, 1.3.6.1.4.1.4203.1.5.3, 1.3.6.1.4.1.4203.1.5.4, 1.3.6.1.4.1.4203.1.5.5], [3], [SRP, GSSAPI, CRAM-MD5], [enoive.com], [], [cn=Subschema]]                                                                                                                                                                                                                                                                                                                                                                                                                                                                                                                                                                                                                                                                                                                                                                                                                                                                                                                                                                                                                                                                                                                                                                                                                                                                                                                      |5    |\n",
      "|[[o=NetMotion], [2.16.840.1.113730.3.4.2, 2.16.840.1.113730.3.4.3, 2.16.840.1.113730.3.4.4, 2.16.840.1.113730.3.4.5, 1.2.840.113556.1.4.473, 2.16.840.1.113730.3.4.9, 2.16.840.1.113730.3.4.16, 2.16.840.1.113730.3.4.15, 2.16.840.1.113730.3.4.17, 2.16.840.1.113730.3.4.19, 1.3.6.1.4.1.42.2.27.9.5.2, 1.3.6.1.4.1.42.2.27.9.5.6, 1.3.6.1.4.1.42.2.27.9.5.8, 1.3.6.1.4.1.42.2.27.8.5.1, 2.16.840.1.113730.3.4.14, 2.16.840.1.113730.3.4.12, 2.16.840.1.113730.3.4.18, 2.16.840.1.113730.3.4.13], [2.16.840.1.113730.3.5.7, 2.16.840.1.113730.3.5.8, 1.3.6.1.4.1.4203.1.11.1, 1.3.6.1.4.1.42.2.27.9.6.25, 2.16.840.1.113730.3.5.3, 2.16.840.1.113730.3.5.5, 2.16.840.1.113730.3.5.6, 2.16.840.1.113730.3.5.4, 1.3.6.1.4.1.42.2.27.9.6.1, 1.3.6.1.4.1.42.2.27.9.6.2, 1.3.6.1.4.1.42.2.27.9.6.3, 1.3.6.1.4.1.42.2.27.9.6.4, 1.3.6.1.4.1.42.2.27.9.6.5, 1.3.6.1.4.1.42.2.27.9.6.6, 1.3.6.1.4.1.42.2.27.9.6.7, 1.3.6.1.4.1.42.2.27.9.6.8, 1.3.6.1.4.1.42.2.27.9.6.9, 1.3.6.1.4.1.42.2.27.9.6.23, 1.3.6.1.4.1.42.2.27.9.6.11, 1.3.6.1.4.1.42.2.27.9.6.12, 1.3.6.1.4.1.42.2.27.9.6.13, 1.3.6.1.4.1.42.2.27.9.6.14, 1.3.6.1.4.1.42.2.27.9.6.15, 1.3.6.1.4.1.42.2.27.9.6.16, 1.3.6.1.4.1.42.2.27.9.6.17, 1.3.6.1.4.1.42.2.27.9.6.18, 1.3.6.1.4.1.42.2.27.9.6.19, 1.3.6.1.4.1.42.2.27.9.6.21, 1.3.6.1.4.1.42.2.27.9.6.22, 1.3.6.1.4.1.42.2.27.9.6.24, 1.3.6.1.4.1.4203.1.11.3], [2, 3], [EXTERNAL, DIGEST-MD5], [Oracle Corporation], [Sun-Directory-Server/11.1.1.7.171017], [cn=schema]]                                                                                                                                                                                                                                                                                                                                                                                                                                                         |5    |\n",
      "|[[2, 3], [], [1.3.6.1.4.1.42.2.27.8.5.1, 2.16.840.1.113730.3.4.16, 2.16.840.1.113730.3.4.9, 2.16.840.1.113730.3.4.2, 1.2.840.113556.1.4.473, 2.16.840.1.113730.3.4.18, 2.16.840.1.113730.3.4.19, 1.3.6.1.4.1.42.2.27.9.5.2], [EXTERNAL], [Sun Microsystems, Inc], [Directory Proxy Server 11.1.1.7.190716], [cn=schema]]                                                                                                                                                                                                                                                                                                                                                                                                                                                                                                                                                                                                                                                                                                                                                                                                                                                                                                                                                                                                                                                                                                                                                                                                                                                                                                                                                                                                                                                                                                                                                                                                                   |5    |\n",
      "+-------------------------------------------------------------------------------------------------------------------------------------------------------------------------------------------------------------------------------------------------------------------------------------------------------------------------------------------------------------------------------------------------------------------------------------------------------------------------------------------------------------------------------------------------------------------------------------------------------------------------------------------------------------------------------------------------------------------------------------------------------------------------------------------------------------------------------------------------------------------------------------------------------------------------------------------------------------------------------------------------------------------------------------------------------------------------------------------------------------------------------------------------------------------------------------------------------------------------------------------------------------------------------------------------------------------------------------------------------------------------------------------------------------------------------------------------------------------------------------------------------------------------------------------------------------------------------------------------------------------------------------------------------------------------------------------------------------------------------------------------------------------------------------------------------------------------------------------------------------------------------------------------------------------------------------------+-----+\n",
      "only showing top 20 rows\n",
      "\n"
     ]
    }
   ],
   "source": [
    "_root_dse_df = root_dse_df.select(\"id\", \"ip\", \"port\", \"result_code\", \"error_data\", \"matched_dns\",\n",
    "                                psf.explode_outer(psf.arrays_zip(\n",
    "                                                    root_dse_df.attribute_names,\n",
    "                                                    root_dse_df.attribute_values_list)))\n",
    "_root_dse_df = _root_dse_df.select(\"id\", \"ip\", \"port\", \"result_code\", \"error_data\", \"matched_dns\", \"col.attribute_names\", \"col.attribute_values_list\")\n",
    "_root_dse_df.filter(\n",
    "    (psf.array_contains(psf.col(\"attribute_names\"), \"vendorVersion\"))\n",
    "    | (psf.array_contains(psf.col(\"attribute_names\"), \"vendorversion\"))\n",
    ").groupBy(psf.col(\"attribute_values_list\")\n",
    ").count().sort(\"count\", ascending=False).show(20, truncate=False)"
   ]
  }
 ],
 "metadata": {
  "kernelspec": {
   "display_name": "Python 3 (ipykernel)",
   "language": "python",
   "name": "python3"
  },
  "language_info": {
   "codemirror_mode": {
    "name": "ipython",
    "version": 3
   },
   "file_extension": ".py",
   "mimetype": "text/x-python",
   "name": "python",
   "nbconvert_exporter": "python",
   "pygments_lexer": "ipython3",
   "version": "3.11.6"
  }
 },
 "nbformat": 4,
 "nbformat_minor": 2
}
