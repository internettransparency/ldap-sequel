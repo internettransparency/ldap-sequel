{
 "cells": [
  {
   "cell_type": "code",
   "execution_count": 64,
   "id": "0905b97f",
   "metadata": {},
   "outputs": [],
   "source": [
    "import tldextract\n",
    "import tld\n",
    "import pandas as pd\n",
    "from glob import glob\n",
    "\n",
    "import pyspark.sql.functions as psf\n",
    "import pyspark.sql.types as pst"
   ]
  },
  {
   "cell_type": "code",
   "execution_count": 139,
   "id": "a005aea0",
   "metadata": {},
   "outputs": [
    {
     "name": "stdout",
     "output_type": "stream",
     "text": [
      "SparkConf created\n",
      "Started SparkSession\n",
      "Spark version 3.5.0\n"
     ]
    }
   ],
   "source": [
    "%run ./spark-instance-gustavo.ipynb"
   ]
  },
  {
   "cell_type": "code",
   "execution_count": 143,
   "id": "67cd40a4",
   "metadata": {},
   "outputs": [],
   "source": [
    "clean_spark()"
   ]
  },
  {
   "cell_type": "code",
   "execution_count": 140,
   "id": "78069fc0-73ca-4465-845a-a612502aff31",
   "metadata": {},
   "outputs": [
    {
     "name": "stderr",
     "output_type": "stream",
     "text": [
      "/usr/local/spark/python/pyspark/pandas/utils.py:1016: PandasAPIOnSparkAdviceWarning: If `index_col` is not specified for `to_spark`, the existing index is lost when converting to Spark DataFrame.\n",
      "  warnings.warn(message, PandasAPIOnSparkAdviceWarning)\n"
     ]
    }
   ],
   "source": [
    "goscanner_df = spark.read.parquet(f\"../dataset/catrin/ldap-dependency-goscanner.parquet\")\n",
    "goscanner_df.select(psf.explode_outer(\"leaf_data_names\").alias(\"san\")).distinct().coalesce(1).pandas_api().to_csv(\"../dataset/processing/leaf_data_names\", index=False)"
   ]
  },
  {
   "cell_type": "code",
   "execution_count": 141,
   "id": "038f53b0",
   "metadata": {},
   "outputs": [],
   "source": [
    "def fld(domain):\n",
    "    if domain is None:\n",
    "        return None\n",
    "    domain = str(domain)\n",
    "    try:\n",
    "        tld.get_tld(domain, fail_silently=False, fix_protocol=True)\n",
    "        return tld.get_fld(domain, fail_silently=False, fix_protocol=True)\n",
    "    except tld.exceptions.TldBadUrl:\n",
    "        return None\n",
    "    except tld.exceptions.TldDomainNotFound:\n",
    "        return None\n",
    "    except ValueError:\n",
    "        return None\n",
    "\n",
    "\n",
    "def get_sld(domain):\n",
    "    if domain is None:\n",
    "        return None\n",
    "    domain = str(domain)\n",
    "    try:\n",
    "        return tldextract.extract(domain).registered_domain\n",
    "    except:\n",
    "        return None\n",
    "\n",
    "\n",
    "c = glob(\"../dataset/processing/leaf_data_names/*.csv\")\n",
    "san_pdf = pd.read_csv(c[0])\n",
    "san_pdf[\"fld\"] = san_pdf.san.apply(fld)\n",
    "san_pdf[\"sld\"] = san_pdf.san.apply(get_sld)\n",
    "\n",
    "valid_names_pdf = san_pdf[san_pdf[\"fld\"].notnull()]\n",
    "additional_names_pdf = pd.DataFrame(valid_names_pdf[\"sld\"].unique(), columns=[\"san\"])\n",
    "names_pdf = pd.concat([pd.DataFrame(valid_names_pdf[\"san\"], columns=[\"san\"]), additional_names_pdf], ignore_index=True).drop_duplicates(subset=[\"san\"])\n",
    "names_pdf = names_pdf[names_pdf[\"san\"] != \"\"].sort_values(\"san\", ascending=True)\n",
    "names_pdf.to_csv(\"../dataset/processing/san.csv\", index=False)"
   ]
  }
 ],
 "metadata": {
  "kernelspec": {
   "display_name": "Python 3 (ipykernel)",
   "language": "python",
   "name": "python3"
  },
  "language_info": {
   "codemirror_mode": {
    "name": "ipython",
    "version": 3
   },
   "file_extension": ".py",
   "mimetype": "text/x-python",
   "name": "python",
   "nbconvert_exporter": "python",
   "pygments_lexer": "ipython3",
   "version": "3.11.6"
  }
 },
 "nbformat": 4,
 "nbformat_minor": 5
}
