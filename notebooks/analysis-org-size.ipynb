{
 "cells": [
  {
   "cell_type": "code",
   "execution_count": 46,
   "id": "f1e21ed3-6462-4b6a-bc93-ff5e37baee9a",
   "metadata": {},
   "outputs": [],
   "source": [
    "from datetime import datetime\n",
    "from collections import defaultdict\n",
    "\n",
    "import pandas as pd\n",
    "\n",
    "from ip_as_org import IPASnPrefix, ASOrg"
   ]
  },
  {
   "cell_type": "code",
   "execution_count": 53,
   "id": "b3f56855-78ac-4a77-a717-12fc86976068",
   "metadata": {},
   "outputs": [],
   "source": [
    "def get_ip_asn_as_org_obj(timestamps):\n",
    "    dates = [ts.strftime(\"%Y%m%d\") for ts in timestamps]\n",
    "    dataset_dir = \"../dataset/\"\n",
    "    ip_asn = IPASnPrefix(dates, dataset_dir)\n",
    "    as_org = ASOrg(dates, dataset_dir)\n",
    "    return ip_asn, as_org\n",
    "\n",
    "\n",
    "def get_nr_prefixes_from_asn_list(asn_list, ip_asn):\n",
    "    prefixes_dict = defaultdict(int)\n",
    "    for asn in asn_list:\n",
    "        if asn is None:\n",
    "            continue\n",
    "        prefixes = ip_asn.get_prefixes_from_asn(asn, when)\n",
    "        if prefixes is None:\n",
    "            continue\n",
    "        for prefix in prefixes:\n",
    "            if prefix is None:\n",
    "                continue\n",
    "            prefix = prefix.split(\"/\")[1]\n",
    "            prefixes_dict[prefix] += 1\n",
    "    return prefixes_dict\n",
    "\n",
    "def get_distr_prefix_len(prefixes):\n",
    "    prefixes_dict = defaultdict(int)\n",
    "    for prefix in prefixes:\n",
    "        if prefix is None:\n",
    "            continue\n",
    "        prefix = prefix.split(\"/\")[1]\n",
    "        prefixes_dict[prefix] += 1\n",
    "    return prefixes_dict\n",
    "\n",
    "def get_nr_ips_per_prefix(prefixes_dict):\n",
    "    nr_ips = 0\n",
    "    for prefix_len in prefixes_dict.keys():\n",
    "        e = 32 - int(prefix_len, 10)\n",
    "        nr_ips += 2 ** e - 2  # network address and default gw\n",
    "    return nr_ips\n",
    "\n",
    "ip_asn, as_org = get_ip_asn_as_org_obj([\n",
    "    datetime(2024,7,9),\n",
    "    datetime(2024,7,10),\n",
    "    datetime(2024,7,11),\n",
    "    datetime(2024,7,12),\n",
    "])\n",
    "\n",
    "when = \"20240709\"\n",
    "org_list = [\"Google\", \"Hetzner\", \"OVH\", \"NhanHoa\", \"Xneelo\", \"Contabo\", \"DigitalOcean\"]\n",
    "amazon = [\"AWS\", \"Amazon\"]\n",
    "microsoft = [\"Azure\", \"Microsoft\"]\n",
    "ali = [\"Aliyun\", \"Alibaba\"]"
   ]
  },
  {
   "cell_type": "code",
   "execution_count": 45,
   "id": "19a91bf0-4023-4647-8ebe-8a7350ac2e8e",
   "metadata": {},
   "outputs": [
    {
     "name": "stdout",
     "output_type": "stream",
     "text": [
      "Google has 4194020 IPs\n",
      "Hetzner has 257774 IPs\n",
      "OVH has 261868 IPs\n",
      "NhanHoa has 1786 IPs\n",
      "Xneelo has 65264 IPs\n",
      "Contabo has 32498 IPs\n",
      "DigitalOcean has 65264 IPs\n",
      "Amazon + AWS have 4194020 IPs\n",
      "Microsoft + Azure have 8388322 IPs\n",
      "Aliyun + Alibaba have 1048295 IPs\n"
     ]
    }
   ],
   "source": [
    "for org in org_list:\n",
    "    asns = as_org.get_asn_from_org_name(org, when)\n",
    "    prefixes_dict = get_nr_prefixes_from_asn_list(asns, ip_asn)\n",
    "    nr_ips = get_nr_ips_per_prefix(prefixes_dict)\n",
    "    print(org, \"has\", nr_ips, \"IPs\")\n",
    "\n",
    "\n",
    "prefixes_dict = defaultdict(int)\n",
    "for org in amazon:\n",
    "    asns = as_org.get_asn_from_org_name(org, when)\n",
    "    prefixes_dict.update(get_nr_prefixes_from_asn_list(asns, ip_asn))\n",
    "nr_ips = get_nr_ips_per_prefix(prefixes_dict)\n",
    "print(\"Amazon + AWS have\", nr_ips, \"IPs\")\n",
    "\n",
    "\n",
    "prefixes_dict = defaultdict(int)\n",
    "for org in microsoft:\n",
    "    asns = as_org.get_asn_from_org_name(org, when)\n",
    "    prefixes_dict.update(get_nr_prefixes_from_asn_list(asns, ip_asn))\n",
    "nr_ips = get_nr_ips_per_prefix(prefixes_dict)\n",
    "print(\"Microsoft + Azure have\", nr_ips, \"IPs\")\n",
    "\n",
    "\n",
    "prefixes_dict = defaultdict(int)\n",
    "for org in ali:\n",
    "    asns = as_org.get_asn_from_org_name(org, when)\n",
    "    prefixes_dict.update(get_nr_prefixes_from_asn_list(asns, ip_asn))\n",
    "nr_ips = get_nr_ips_per_prefix(prefixes_dict)\n",
    "print(\"Aliyun + Alibaba have\", nr_ips, \"IPs\")"
   ]
  },
  {
   "cell_type": "code",
   "execution_count": 54,
   "id": "3b06f831-3dfd-4d6e-9c74-34b0a5be1a25",
   "metadata": {},
   "outputs": [
    {
     "name": "stdout",
     "output_type": "stream",
     "text": [
      "Google Cloud has 524010 IPs\n"
     ]
    }
   ],
   "source": [
    "google_cloud_prefixes = pd.read_json(\"cloud-ip-prefixes/ip_prefixes/google/cloud.json\")\n",
    "ipv4_prefixes = google_cloud_prefixes[\"prefixes\"].apply(lambda x: x.get(\"ipv4Prefix\"))\n",
    "prefixes_dict = get_distr_prefix_len(ipv4_prefixes.to_list())\n",
    "nr_ips = get_nr_ips_per_prefix(prefixes_dict)\n",
    "print(\"Google Cloud has\", nr_ips, \"IPs\")"
   ]
  },
  {
   "cell_type": "code",
   "execution_count": 35,
   "id": "49f3fa54-297a-42f0-bc32-bef9c77d6920",
   "metadata": {},
   "outputs": [
    {
     "name": "stdout",
     "output_type": "stream",
     "text": [
      "Google\n"
     ]
    },
    {
     "data": {
      "text/plain": [
       "defaultdict(int,\n",
       "            {'19': 132,\n",
       "             '21': 99,\n",
       "             '24': 1224,\n",
       "             '18': 44,\n",
       "             '16': 91,\n",
       "             '17': 72,\n",
       "             '22': 65,\n",
       "             '20': 2031,\n",
       "             '14': 31,\n",
       "             '23': 58,\n",
       "             '13': 10,\n",
       "             '15': 9,\n",
       "             '12': 5,\n",
       "             '11': 3})"
      ]
     },
     "metadata": {},
     "output_type": "display_data"
    },
    {
     "name": "stdout",
     "output_type": "stream",
     "text": [
      "Hetzner\n"
     ]
    },
    {
     "data": {
      "text/plain": [
       "defaultdict(int,\n",
       "            {'16': 31,\n",
       "             '24': 169,\n",
       "             '18': 2,\n",
       "             '23': 9,\n",
       "             '22': 12,\n",
       "             '17': 6,\n",
       "             '19': 1,\n",
       "             '15': 1,\n",
       "             '21': 2})"
      ]
     },
     "metadata": {},
     "output_type": "display_data"
    },
    {
     "name": "stdout",
     "output_type": "stream",
     "text": [
      "OVH\n"
     ]
    },
    {
     "data": {
      "text/plain": [
       "defaultdict(int,\n",
       "            {'17': 36,\n",
       "             '16': 40,\n",
       "             '24': 31,\n",
       "             '19': 7,\n",
       "             '15': 2,\n",
       "             '18': 6,\n",
       "             '23': 3,\n",
       "             '21': 7,\n",
       "             '22': 4,\n",
       "             '20': 3})"
      ]
     },
     "metadata": {},
     "output_type": "display_data"
    },
    {
     "name": "stdout",
     "output_type": "stream",
     "text": [
      "NhanHoa\n"
     ]
    },
    {
     "data": {
      "text/plain": [
       "defaultdict(int, {'24': 20, '22': 3, '23': 2})"
      ]
     },
     "metadata": {},
     "output_type": "display_data"
    },
    {
     "name": "stdout",
     "output_type": "stream",
     "text": [
      "Xneelo\n"
     ]
    },
    {
     "data": {
      "text/plain": [
       "defaultdict(int,\n",
       "            {'21': 4,\n",
       "             '24': 18,\n",
       "             '20': 6,\n",
       "             '22': 9,\n",
       "             '23': 3,\n",
       "             '17': 2,\n",
       "             '19': 2,\n",
       "             '18': 1})"
      ]
     },
     "metadata": {},
     "output_type": "display_data"
    },
    {
     "name": "stdout",
     "output_type": "stream",
     "text": [
      "Contabo\n"
     ]
    },
    {
     "data": {
      "text/plain": [
       "defaultdict(int,\n",
       "            {'20': 18,\n",
       "             '22': 27,\n",
       "             '21': 34,\n",
       "             '24': 155,\n",
       "             '23': 307,\n",
       "             '18': 1,\n",
       "             '19': 5})"
      ]
     },
     "metadata": {},
     "output_type": "display_data"
    },
    {
     "name": "stdout",
     "output_type": "stream",
     "text": [
      "DigitalOcean\n"
     ]
    },
    {
     "data": {
      "text/plain": [
       "defaultdict(int,\n",
       "            {'24': 51,\n",
       "             '22': 167,\n",
       "             '20': 458,\n",
       "             '23': 6,\n",
       "             '18': 21,\n",
       "             '19': 23,\n",
       "             '21': 18,\n",
       "             '17': 4})"
      ]
     },
     "metadata": {},
     "output_type": "display_data"
    }
   ],
   "source": [
    "for org in org_list:\n",
    "    print(org)\n",
    "    asns = as_org.get_asn_from_org_name(org, when)\n",
    "    prefixes_dict = get_nr_prefixes_from_asn_list(asns, ip_asn)\n",
    "    display(prefixes_dict)"
   ]
  },
  {
   "cell_type": "code",
   "execution_count": 37,
   "id": "15db443e-5a90-4590-90de-e3901541b1ef",
   "metadata": {},
   "outputs": [
    {
     "name": "stdout",
     "output_type": "stream",
     "text": [
      "Amazon + AWS\n"
     ]
    },
    {
     "data": {
      "text/plain": [
       "defaultdict(int,\n",
       "            {'20': 158,\n",
       "             '19': 59,\n",
       "             '22': 784,\n",
       "             '24': 5655,\n",
       "             '23': 837,\n",
       "             '21': 593,\n",
       "             '16': 116,\n",
       "             '15': 107,\n",
       "             '17': 90,\n",
       "             '18': 52,\n",
       "             '14': 43,\n",
       "             '12': 8,\n",
       "             '13': 13,\n",
       "             '11': 2})"
      ]
     },
     "metadata": {},
     "output_type": "display_data"
    },
    {
     "name": "stdout",
     "output_type": "stream",
     "text": [
      "Microsoft + Azure\n"
     ]
    },
    {
     "data": {
      "text/plain": [
       "defaultdict(int,\n",
       "            {'24': 417,\n",
       "             '23': 47,\n",
       "             '20': 14,\n",
       "             '22': 26,\n",
       "             '21': 15,\n",
       "             '16': 58,\n",
       "             '19': 13,\n",
       "             '15': 26,\n",
       "             '12': 11,\n",
       "             '17': 16,\n",
       "             '11': 5,\n",
       "             '18': 10,\n",
       "             '14': 21,\n",
       "             '10': 2,\n",
       "             '13': 11})"
      ]
     },
     "metadata": {},
     "output_type": "display_data"
    },
    {
     "name": "stdout",
     "output_type": "stream",
     "text": [
      "Aliyun + Alibaba\n"
     ]
    },
    {
     "data": {
      "text/plain": [
       "defaultdict(int,\n",
       "            {'24': 463,\n",
       "             '23': 124,\n",
       "             '32': 5,\n",
       "             '22': 83,\n",
       "             '20': 52,\n",
       "             '16': 99,\n",
       "             '17': 134,\n",
       "             '14': 13,\n",
       "             '21': 63,\n",
       "             '15': 33,\n",
       "             '18': 91,\n",
       "             '19': 75,\n",
       "             '13': 1})"
      ]
     },
     "metadata": {},
     "output_type": "display_data"
    }
   ],
   "source": [
    "print(\"Amazon + AWS\")\n",
    "prefixes_dict = defaultdict(int)\n",
    "for org in amazon:\n",
    "    asns = as_org.get_asn_from_org_name(org, when)\n",
    "    prefixes_dict.update(get_nr_prefixes_from_asn_list(asns, ip_asn))\n",
    "display(prefixes_dict)\n",
    "\n",
    "print(\"Microsoft + Azure\")\n",
    "prefixes_dict = defaultdict(int)\n",
    "for org in microsoft:\n",
    "    asns = as_org.get_asn_from_org_name(org, when)\n",
    "    prefixes_dict.update(get_nr_prefixes_from_asn_list(asns, ip_asn))\n",
    "display(prefixes_dict)\n",
    "\n",
    "print(\"Aliyun + Alibaba\")\n",
    "prefixes_dict = defaultdict(int)\n",
    "for org in ali:\n",
    "    asns = as_org.get_asn_from_org_name(org, when)\n",
    "    prefixes_dict.update(get_nr_prefixes_from_asn_list(asns, ip_asn))\n",
    "display(prefixes_dict)"
   ]
  }
 ],
 "metadata": {
  "kernelspec": {
   "display_name": "Python 3 (ipykernel)",
   "language": "python",
   "name": "python3"
  },
  "language_info": {
   "codemirror_mode": {
    "name": "ipython",
    "version": 3
   },
   "file_extension": ".py",
   "mimetype": "text/x-python",
   "name": "python",
   "nbconvert_exporter": "python",
   "pygments_lexer": "ipython3",
   "version": "3.11.6"
  }
 },
 "nbformat": 4,
 "nbformat_minor": 5
}
