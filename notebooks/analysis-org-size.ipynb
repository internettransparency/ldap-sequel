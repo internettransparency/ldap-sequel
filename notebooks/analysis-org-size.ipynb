{
 "cells": [
  {
   "cell_type": "code",
   "execution_count": null,
   "id": "5b7c1162",
   "metadata": {},
   "outputs": [],
   "source": [
    "%pip install pandas"
   ]
  },
  {
   "cell_type": "code",
   "execution_count": 1,
   "id": "f1e21ed3-6462-4b6a-bc93-ff5e37baee9a",
   "metadata": {},
   "outputs": [],
   "source": [
    "from datetime import datetime\n",
    "from collections import defaultdict\n",
    "\n",
    "import pandas as pd\n",
    "\n",
    "from ip_as_org import IPASnPrefix, ASOrg"
   ]
  },
  {
   "cell_type": "code",
   "execution_count": 2,
   "id": "b3f56855-78ac-4a77-a717-12fc86976068",
   "metadata": {},
   "outputs": [],
   "source": [
    "def get_ip_asn_as_org_obj(timestamps):\n",
    "    dates = [ts.strftime(\"%Y%m%d\") for ts in timestamps]\n",
    "    dataset_dir = \"../dataset/\"\n",
    "    ip_asn = IPASnPrefix(dates, dataset_dir)\n",
    "    as_org = ASOrg(dates, dataset_dir)\n",
    "    return ip_asn, as_org\n",
    "\n",
    "\n",
    "def get_nr_prefixes_from_asn_list(asn_list, ip_asn):\n",
    "    prefixes_dict = defaultdict(int)\n",
    "    for asn in asn_list:\n",
    "        if asn is None:\n",
    "            continue\n",
    "        prefixes = ip_asn.get_prefixes_from_asn(asn, when)\n",
    "        if prefixes is None:\n",
    "            continue\n",
    "        for prefix in prefixes:\n",
    "            if prefix is None:\n",
    "                continue\n",
    "            prefix = prefix.split(\"/\")[1]\n",
    "            prefixes_dict[prefix] += 1\n",
    "    return prefixes_dict\n",
    "\n",
    "def get_distr_prefix_len(prefixes):\n",
    "    prefixes_dict = defaultdict(int)\n",
    "    for prefix in prefixes:\n",
    "        if prefix is None:\n",
    "            continue\n",
    "        prefix = prefix.split(\"/\")[1]\n",
    "        prefixes_dict[prefix] += 1\n",
    "    return prefixes_dict\n",
    "\n",
    "def get_nr_ips_per_prefix(prefixes_dict):\n",
    "    nr_ips = 0\n",
    "    for prefix_len in prefixes_dict.keys():\n",
    "        e = 32 - int(prefix_len, 10)\n",
    "        nr_ips += 2 ** e - 2  # network address and default gw\n",
    "    return nr_ips\n",
    "\n",
    "ip_asn, as_org = get_ip_asn_as_org_obj([\n",
    "    datetime(2024,7,9),\n",
    "    datetime(2024,7,10),\n",
    "    datetime(2024,7,11),\n",
    "    datetime(2024,7,12),\n",
    "])\n",
    "\n",
    "when = \"20240709\"\n",
    "org_list = [\"Google\", \"Hetzner\", \"OVH\", \"NhanHoa\", \"Xneelo\", \"Contabo\", \"DigitalOcean\"]\n",
    "amazon = [\"AWS\", \"Amazon\"]\n",
    "microsoft = [\"Azure\", \"Microsoft\"]\n",
    "ali = [\"Aliyun\", \"Alibaba\"]"
   ]
  },
  {
   "cell_type": "markdown",
   "id": "dae115a8",
   "metadata": {},
   "source": [
    "Extract nr of IPs each provider has"
   ]
  },
  {
   "cell_type": "code",
   "execution_count": 3,
   "id": "5e8cb4aa",
   "metadata": {},
   "outputs": [],
   "source": [
    "org_pdf = pd.read_csv(\"output/cloud_providers.csv\")"
   ]
  },
  {
   "cell_type": "code",
   "execution_count": 4,
   "id": "755548ee",
   "metadata": {},
   "outputs": [],
   "source": [
    "def get_nr_ips_per_org(org_name):\n",
    "    asns = as_org.get_asn_from_org_name(org_name, when)\n",
    "    prefixes_dict = get_nr_prefixes_from_asn_list(asns, ip_asn)\n",
    "    nr_ips = get_nr_ips_per_prefix(prefixes_dict)\n",
    "    return nr_ips\n",
    "\n",
    "org_pdf[\"nr_ips\"] = org_pdf[\"cloud_provider\"].apply(get_nr_ips_per_org)"
   ]
  },
  {
   "cell_type": "code",
   "execution_count": 11,
   "id": "c96bbfce",
   "metadata": {},
   "outputs": [
    {
     "name": "stdout",
     "output_type": "stream",
     "text": [
      "% of not found/no IP address 97.2\n"
     ]
    },
    {
     "data": {
      "text/html": [
       "<div>\n",
       "<style scoped>\n",
       "    .dataframe tbody tr th:only-of-type {\n",
       "        vertical-align: middle;\n",
       "    }\n",
       "\n",
       "    .dataframe tbody tr th {\n",
       "        vertical-align: top;\n",
       "    }\n",
       "\n",
       "    .dataframe thead th {\n",
       "        text-align: right;\n",
       "    }\n",
       "</style>\n",
       "<table border=\"1\" class=\"dataframe\">\n",
       "  <thead>\n",
       "    <tr style=\"text-align: right;\">\n",
       "      <th></th>\n",
       "      <th>cloud_provider</th>\n",
       "      <th>nr_ips</th>\n",
       "    </tr>\n",
       "  </thead>\n",
       "  <tbody>\n",
       "    <tr>\n",
       "      <th>3905</th>\n",
       "      <td>Level</td>\n",
       "      <td>12582850</td>\n",
       "    </tr>\n",
       "    <tr>\n",
       "      <th>1756</th>\n",
       "      <td>Internet</td>\n",
       "      <td>4194145</td>\n",
       "    </tr>\n",
       "    <tr>\n",
       "      <th>4324</th>\n",
       "      <td>Taiwan</td>\n",
       "      <td>4194082</td>\n",
       "    </tr>\n",
       "    <tr>\n",
       "      <th>1002</th>\n",
       "      <td>Beltelecom</td>\n",
       "      <td>1048296</td>\n",
       "    </tr>\n",
       "    <tr>\n",
       "      <th>2484</th>\n",
       "      <td>GTT</td>\n",
       "      <td>524228</td>\n",
       "    </tr>\n",
       "    <tr>\n",
       "      <th>...</th>\n",
       "      <td>...</td>\n",
       "      <td>...</td>\n",
       "    </tr>\n",
       "    <tr>\n",
       "      <th>1295</th>\n",
       "      <td>DataXion</td>\n",
       "      <td>254</td>\n",
       "    </tr>\n",
       "    <tr>\n",
       "      <th>1441</th>\n",
       "      <td>Nodisto</td>\n",
       "      <td>254</td>\n",
       "    </tr>\n",
       "    <tr>\n",
       "      <th>3509</th>\n",
       "      <td>EboundHost.com</td>\n",
       "      <td>254</td>\n",
       "    </tr>\n",
       "    <tr>\n",
       "      <th>1832</th>\n",
       "      <td>Withsystems</td>\n",
       "      <td>254</td>\n",
       "    </tr>\n",
       "    <tr>\n",
       "      <th>3906</th>\n",
       "      <td>Hosting.cl</td>\n",
       "      <td>254</td>\n",
       "    </tr>\n",
       "  </tbody>\n",
       "</table>\n",
       "<p>128 rows × 2 columns</p>\n",
       "</div>"
      ],
      "text/plain": [
       "      cloud_provider    nr_ips\n",
       "3905           Level  12582850\n",
       "1756        Internet   4194145\n",
       "4324          Taiwan   4194082\n",
       "1002      Beltelecom   1048296\n",
       "2484             GTT    524228\n",
       "...              ...       ...\n",
       "1295        DataXion       254\n",
       "1441         Nodisto       254\n",
       "3509  EboundHost.com       254\n",
       "1832     Withsystems       254\n",
       "3906      Hosting.cl       254\n",
       "\n",
       "[128 rows x 2 columns]"
      ]
     },
     "execution_count": 11,
     "metadata": {},
     "output_type": "execute_result"
    }
   ],
   "source": [
    "print(\"% of not found/no IP address\", round(len(org_pdf[org_pdf[\"nr_ips\"] == 0]) / len(org_pdf) * 100, 1))\n",
    "\n",
    "org_pdf[org_pdf[\"nr_ips\"] > 0].sort_values(\"nr_ips\", ascending=False)"
   ]
  },
  {
   "cell_type": "code",
   "execution_count": 73,
   "id": "08075f99",
   "metadata": {},
   "outputs": [],
   "source": [
    "org_pdf.to_csv(\"output/cloud_providers_size.csv\", index=False)"
   ]
  },
  {
   "cell_type": "code",
   "execution_count": 9,
   "id": "990ac0be",
   "metadata": {},
   "outputs": [
    {
     "name": "stdout",
     "output_type": "stream",
     "text": [
      "[]\n"
     ]
    },
    {
     "data": {
      "text/plain": [
       "'N&TS GROUP NETWORKS & TRANSACTIONAL SYSTEMS GROUP S.P.A.'"
      ]
     },
     "execution_count": 9,
     "metadata": {},
     "output_type": "execute_result"
    }
   ],
   "source": [
    "org_name = \"ROU\"\n",
    "asns = as_org.get_asn_from_org_name(org_name, when)\n",
    "print(asns)\n",
    "prefixes_dict = get_nr_prefixes_from_asn_list(asns, ip_asn)\n",
    "\n",
    "as_org.get_org_name_from_asn(35357, when)"
   ]
  },
  {
   "cell_type": "markdown",
   "id": "b57cb2ed",
   "metadata": {},
   "source": [
    "Known providers"
   ]
  },
  {
   "cell_type": "code",
   "execution_count": 45,
   "id": "19a91bf0-4023-4647-8ebe-8a7350ac2e8e",
   "metadata": {},
   "outputs": [
    {
     "name": "stdout",
     "output_type": "stream",
     "text": [
      "Google has 4194020 IPs\n",
      "Hetzner has 257774 IPs\n",
      "OVH has 261868 IPs\n",
      "NhanHoa has 1786 IPs\n",
      "Xneelo has 65264 IPs\n",
      "Contabo has 32498 IPs\n",
      "DigitalOcean has 65264 IPs\n",
      "Amazon + AWS have 4194020 IPs\n",
      "Microsoft + Azure have 8388322 IPs\n",
      "Aliyun + Alibaba have 1048295 IPs\n"
     ]
    }
   ],
   "source": [
    "for org in org_list:\n",
    "    asns = as_org.get_asn_from_org_name(org, when)\n",
    "    prefixes_dict = get_nr_prefixes_from_asn_list(asns, ip_asn)\n",
    "    nr_ips = get_nr_ips_per_prefix(prefixes_dict)\n",
    "    print(org, \"has\", nr_ips, \"IPs\")\n",
    "\n",
    "\n",
    "prefixes_dict = defaultdict(int)\n",
    "for org in amazon:\n",
    "    asns = as_org.get_asn_from_org_name(org, when)\n",
    "    prefixes_dict.update(get_nr_prefixes_from_asn_list(asns, ip_asn))\n",
    "nr_ips = get_nr_ips_per_prefix(prefixes_dict)\n",
    "print(\"Amazon + AWS have\", nr_ips, \"IPs\")\n",
    "\n",
    "\n",
    "prefixes_dict = defaultdict(int)\n",
    "for org in microsoft:\n",
    "    asns = as_org.get_asn_from_org_name(org, when)\n",
    "    prefixes_dict.update(get_nr_prefixes_from_asn_list(asns, ip_asn))\n",
    "nr_ips = get_nr_ips_per_prefix(prefixes_dict)\n",
    "print(\"Microsoft + Azure have\", nr_ips, \"IPs\")\n",
    "\n",
    "\n",
    "prefixes_dict = defaultdict(int)\n",
    "for org in ali:\n",
    "    asns = as_org.get_asn_from_org_name(org, when)\n",
    "    prefixes_dict.update(get_nr_prefixes_from_asn_list(asns, ip_asn))\n",
    "nr_ips = get_nr_ips_per_prefix(prefixes_dict)\n",
    "print(\"Aliyun + Alibaba have\", nr_ips, \"IPs\")"
   ]
  },
  {
   "cell_type": "code",
   "execution_count": 54,
   "id": "3b06f831-3dfd-4d6e-9c74-34b0a5be1a25",
   "metadata": {},
   "outputs": [
    {
     "name": "stdout",
     "output_type": "stream",
     "text": [
      "Google Cloud has 524010 IPs\n"
     ]
    }
   ],
   "source": [
    "google_cloud_prefixes = pd.read_json(\"cloud-ip-prefixes/ip_prefixes/google/cloud.json\")\n",
    "ipv4_prefixes = google_cloud_prefixes[\"prefixes\"].apply(lambda x: x.get(\"ipv4Prefix\"))\n",
    "prefixes_dict = get_distr_prefix_len(ipv4_prefixes.to_list())\n",
    "nr_ips = get_nr_ips_per_prefix(prefixes_dict)\n",
    "print(\"Google Cloud has\", nr_ips, \"IPs\")"
   ]
  },
  {
   "cell_type": "code",
   "execution_count": 35,
   "id": "49f3fa54-297a-42f0-bc32-bef9c77d6920",
   "metadata": {},
   "outputs": [
    {
     "name": "stdout",
     "output_type": "stream",
     "text": [
      "Google\n"
     ]
    },
    {
     "data": {
      "text/plain": [
       "defaultdict(int,\n",
       "            {'19': 132,\n",
       "             '21': 99,\n",
       "             '24': 1224,\n",
       "             '18': 44,\n",
       "             '16': 91,\n",
       "             '17': 72,\n",
       "             '22': 65,\n",
       "             '20': 2031,\n",
       "             '14': 31,\n",
       "             '23': 58,\n",
       "             '13': 10,\n",
       "             '15': 9,\n",
       "             '12': 5,\n",
       "             '11': 3})"
      ]
     },
     "metadata": {},
     "output_type": "display_data"
    },
    {
     "name": "stdout",
     "output_type": "stream",
     "text": [
      "Hetzner\n"
     ]
    },
    {
     "data": {
      "text/plain": [
       "defaultdict(int,\n",
       "            {'16': 31,\n",
       "             '24': 169,\n",
       "             '18': 2,\n",
       "             '23': 9,\n",
       "             '22': 12,\n",
       "             '17': 6,\n",
       "             '19': 1,\n",
       "             '15': 1,\n",
       "             '21': 2})"
      ]
     },
     "metadata": {},
     "output_type": "display_data"
    },
    {
     "name": "stdout",
     "output_type": "stream",
     "text": [
      "OVH\n"
     ]
    },
    {
     "data": {
      "text/plain": [
       "defaultdict(int,\n",
       "            {'17': 36,\n",
       "             '16': 40,\n",
       "             '24': 31,\n",
       "             '19': 7,\n",
       "             '15': 2,\n",
       "             '18': 6,\n",
       "             '23': 3,\n",
       "             '21': 7,\n",
       "             '22': 4,\n",
       "             '20': 3})"
      ]
     },
     "metadata": {},
     "output_type": "display_data"
    },
    {
     "name": "stdout",
     "output_type": "stream",
     "text": [
      "NhanHoa\n"
     ]
    },
    {
     "data": {
      "text/plain": [
       "defaultdict(int, {'24': 20, '22': 3, '23': 2})"
      ]
     },
     "metadata": {},
     "output_type": "display_data"
    },
    {
     "name": "stdout",
     "output_type": "stream",
     "text": [
      "Xneelo\n"
     ]
    },
    {
     "data": {
      "text/plain": [
       "defaultdict(int,\n",
       "            {'21': 4,\n",
       "             '24': 18,\n",
       "             '20': 6,\n",
       "             '22': 9,\n",
       "             '23': 3,\n",
       "             '17': 2,\n",
       "             '19': 2,\n",
       "             '18': 1})"
      ]
     },
     "metadata": {},
     "output_type": "display_data"
    },
    {
     "name": "stdout",
     "output_type": "stream",
     "text": [
      "Contabo\n"
     ]
    },
    {
     "data": {
      "text/plain": [
       "defaultdict(int,\n",
       "            {'20': 18,\n",
       "             '22': 27,\n",
       "             '21': 34,\n",
       "             '24': 155,\n",
       "             '23': 307,\n",
       "             '18': 1,\n",
       "             '19': 5})"
      ]
     },
     "metadata": {},
     "output_type": "display_data"
    },
    {
     "name": "stdout",
     "output_type": "stream",
     "text": [
      "DigitalOcean\n"
     ]
    },
    {
     "data": {
      "text/plain": [
       "defaultdict(int,\n",
       "            {'24': 51,\n",
       "             '22': 167,\n",
       "             '20': 458,\n",
       "             '23': 6,\n",
       "             '18': 21,\n",
       "             '19': 23,\n",
       "             '21': 18,\n",
       "             '17': 4})"
      ]
     },
     "metadata": {},
     "output_type": "display_data"
    }
   ],
   "source": [
    "for org in org_list:\n",
    "    print(org)\n",
    "    asns = as_org.get_asn_from_org_name(org, when)\n",
    "    prefixes_dict = get_nr_prefixes_from_asn_list(asns, ip_asn)\n",
    "    display(prefixes_dict)"
   ]
  },
  {
   "cell_type": "code",
   "execution_count": 37,
   "id": "15db443e-5a90-4590-90de-e3901541b1ef",
   "metadata": {},
   "outputs": [
    {
     "name": "stdout",
     "output_type": "stream",
     "text": [
      "Amazon + AWS\n"
     ]
    },
    {
     "data": {
      "text/plain": [
       "defaultdict(int,\n",
       "            {'20': 158,\n",
       "             '19': 59,\n",
       "             '22': 784,\n",
       "             '24': 5655,\n",
       "             '23': 837,\n",
       "             '21': 593,\n",
       "             '16': 116,\n",
       "             '15': 107,\n",
       "             '17': 90,\n",
       "             '18': 52,\n",
       "             '14': 43,\n",
       "             '12': 8,\n",
       "             '13': 13,\n",
       "             '11': 2})"
      ]
     },
     "metadata": {},
     "output_type": "display_data"
    },
    {
     "name": "stdout",
     "output_type": "stream",
     "text": [
      "Microsoft + Azure\n"
     ]
    },
    {
     "data": {
      "text/plain": [
       "defaultdict(int,\n",
       "            {'24': 417,\n",
       "             '23': 47,\n",
       "             '20': 14,\n",
       "             '22': 26,\n",
       "             '21': 15,\n",
       "             '16': 58,\n",
       "             '19': 13,\n",
       "             '15': 26,\n",
       "             '12': 11,\n",
       "             '17': 16,\n",
       "             '11': 5,\n",
       "             '18': 10,\n",
       "             '14': 21,\n",
       "             '10': 2,\n",
       "             '13': 11})"
      ]
     },
     "metadata": {},
     "output_type": "display_data"
    },
    {
     "name": "stdout",
     "output_type": "stream",
     "text": [
      "Aliyun + Alibaba\n"
     ]
    },
    {
     "data": {
      "text/plain": [
       "defaultdict(int,\n",
       "            {'24': 463,\n",
       "             '23': 124,\n",
       "             '32': 5,\n",
       "             '22': 83,\n",
       "             '20': 52,\n",
       "             '16': 99,\n",
       "             '17': 134,\n",
       "             '14': 13,\n",
       "             '21': 63,\n",
       "             '15': 33,\n",
       "             '18': 91,\n",
       "             '19': 75,\n",
       "             '13': 1})"
      ]
     },
     "metadata": {},
     "output_type": "display_data"
    }
   ],
   "source": [
    "print(\"Amazon + AWS\")\n",
    "prefixes_dict = defaultdict(int)\n",
    "for org in amazon:\n",
    "    asns = as_org.get_asn_from_org_name(org, when)\n",
    "    prefixes_dict.update(get_nr_prefixes_from_asn_list(asns, ip_asn))\n",
    "display(prefixes_dict)\n",
    "\n",
    "print(\"Microsoft + Azure\")\n",
    "prefixes_dict = defaultdict(int)\n",
    "for org in microsoft:\n",
    "    asns = as_org.get_asn_from_org_name(org, when)\n",
    "    prefixes_dict.update(get_nr_prefixes_from_asn_list(asns, ip_asn))\n",
    "display(prefixes_dict)\n",
    "\n",
    "print(\"Aliyun + Alibaba\")\n",
    "prefixes_dict = defaultdict(int)\n",
    "for org in ali:\n",
    "    asns = as_org.get_asn_from_org_name(org, when)\n",
    "    prefixes_dict.update(get_nr_prefixes_from_asn_list(asns, ip_asn))\n",
    "display(prefixes_dict)"
   ]
  }
 ],
 "metadata": {
  "kernelspec": {
   "display_name": "Python 3 (ipykernel)",
   "language": "python",
   "name": "python3"
  }
 },
 "nbformat": 4,
 "nbformat_minor": 5
}
