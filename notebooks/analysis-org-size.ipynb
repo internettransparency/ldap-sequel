{
 "cells": [
  {
   "cell_type": "code",
   "execution_count": 3,
   "id": "75e93b31",
   "metadata": {},
   "outputs": [
    {
     "name": "stdout",
     "output_type": "stream",
     "text": [
      "Defaulting to user installation because normal site-packages is not writeable\n",
      "Collecting ipaddr\n",
      "  Downloading ipaddr-2.2.0.tar.gz (26 kB)\n",
      "  Preparing metadata (setup.py) ... \u001b[?25ldone\n",
      "\u001b[?25hBuilding wheels for collected packages: ipaddr\n",
      "  Building wheel for ipaddr (setup.py) ... \u001b[?25ldone\n",
      "\u001b[?25h  Created wheel for ipaddr: filename=ipaddr-2.2.0-py3-none-any.whl size=18282 sha256=4ceedcfdc94702bb0992f38373169ab6f5a1d092cb3e4ab02b0e553c4a0ada67\n",
      "  Stored in directory: /home/gustavo/.cache/pip/wheels/1b/f4/54/ce8b4b51b444da2d12c64f5a99b6e4b526f341f803d4c9f5ac\n",
      "Successfully built ipaddr\n",
      "Installing collected packages: ipaddr\n",
      "Successfully installed ipaddr-2.2.0\n",
      "Note: you may need to restart the kernel to use updated packages.\n",
      "Defaulting to user installation because normal site-packages is not writeable\n",
      "Requirement already satisfied: pandas in /opt/conda/lib/python3.11/site-packages (2.0.3)\n",
      "Requirement already satisfied: python-dateutil>=2.8.2 in /opt/conda/lib/python3.11/site-packages (from pandas) (2.8.2)\n",
      "Requirement already satisfied: pytz>=2020.1 in /opt/conda/lib/python3.11/site-packages (from pandas) (2023.3.post1)\n",
      "Requirement already satisfied: tzdata>=2022.1 in /opt/conda/lib/python3.11/site-packages (from pandas) (2023.3)\n",
      "Requirement already satisfied: numpy>=1.21.0 in /opt/conda/lib/python3.11/site-packages (from pandas) (1.24.4)\n",
      "Requirement already satisfied: six>=1.5 in /opt/conda/lib/python3.11/site-packages (from python-dateutil>=2.8.2->pandas) (1.16.0)\n",
      "Note: you may need to restart the kernel to use updated packages.\n",
      "Defaulting to user installation because normal site-packages is not writeable\n",
      "Requirement already satisfied: pytricia in /home/gustavo/.local/lib/python3.11/site-packages (1.0.2)\n",
      "Note: you may need to restart the kernel to use updated packages.\n"
     ]
    }
   ],
   "source": [
    "%pip install ipaddr\n",
    "%pip install pandas\n",
    "%pip install pytricia"
   ]
  },
  {
   "cell_type": "code",
   "execution_count": 1,
   "id": "f1e21ed3-6462-4b6a-bc93-ff5e37baee9a",
   "metadata": {},
   "outputs": [],
   "source": [
    "from datetime import datetime\n",
    "from collections import defaultdict\n",
    "import math\n",
    "\n",
    "import ipaddr\n",
    "import ipaddress\n",
    "import pandas as pd\n",
    "import pytricia\n",
    "\n",
    "from ip_as_org import IPASnPrefix, ASOrg"
   ]
  },
  {
   "cell_type": "code",
   "execution_count": 2,
   "id": "b3f56855-78ac-4a77-a717-12fc86976068",
   "metadata": {},
   "outputs": [],
   "source": [
    "def get_ip_asn_as_org_obj(timestamps):\n",
    "    dates = [ts.strftime(\"%Y%m%d\") for ts in timestamps]\n",
    "    dataset_dir = \"../dataset/\"\n",
    "    ip_asn = IPASnPrefix(dates, dataset_dir)\n",
    "    as_org = ASOrg(dates, dataset_dir)\n",
    "    return ip_asn, as_org\n",
    "\n",
    "\n",
    "def get_nr_prefixes_from_asn_list(asn_list, ip_asn) -> list:\n",
    "    #prefixes_dict = defaultdict(int)\n",
    "    prefixes = []\n",
    "    for asn in asn_list:\n",
    "        #prefixes_dict.update(get_nr_prefixes_from_asn(asn, ip_asn)) # here lies the errors\n",
    "        prefixes.extend(get_nr_prefixes_from_asn(asn, ip_asn))\n",
    "    return prefixes\n",
    "\n",
    "def remove_overlapped_parent_prefixes(prefixes):\n",
    "    pyt = pytricia.PyTricia()\n",
    "    for prefix in prefixes:\n",
    "        pyt[prefix] = True\n",
    "\n",
    "    for k in pyt.keys():\n",
    "        parent = pyt.parent(k)\n",
    "        if parent is not None:\n",
    "            pyt.delete(parent)\n",
    "\n",
    "    return list(pyt.keys())\n",
    "\n",
    "def remove_overlapped_prefixes(prefixes):\n",
    "    pyt = pytricia.PyTricia()\n",
    "    for prefix in prefixes:\n",
    "        pyt[prefix] = True\n",
    "\n",
    "    for k in pyt.keys():\n",
    "        try:\n",
    "            for child in pyt.children(k):\n",
    "                try:\n",
    "                    pyt.delete(child)\n",
    "                except KeyError:\n",
    "                    # delete child and iterate again will cause this error\n",
    "                    pass\n",
    "        except KeyError:\n",
    "            # k does not have all the childre as before, after deleting some...\n",
    "            pass\n",
    "\n",
    "    return list(pyt.keys())\n",
    "\n",
    "def get_parent_prefix(ip):\n",
    "    prefix = ip_asn.get_prefix_from_ip(ip, when)\n",
    "    asn = get_asn_from_ip(ip)\n",
    "    if asn is None or prefix is None:\n",
    "        return None\n",
    "    prefixes = list(ip_asn.get_prefixes_from_asn(asn, when))\n",
    "    pyt = pytricia.PyTricia()\n",
    "    for p in prefixes:\n",
    "        pyt[p] = True\n",
    "    return pyt.parent(prefix)\n",
    "\n",
    "\n",
    "def get_nr_prefixes_from_asn(asn, ip_asn) -> list:\n",
    "    if asn is None or math.isnan(asn):\n",
    "        return [] #defaultdict(int)\n",
    "    prefixes = ip_asn.get_prefixes_from_asn(asn, when)\n",
    "    clean_prefixes = remove_overlapped_prefixes(prefixes)\n",
    "    #prefixes_dict = get_distr_prefix_len(clean_prefixes)\n",
    "    return clean_prefixes\n",
    "\n",
    "def get_nr_ips_per_prefix(prefixes: list) -> int:\n",
    "    nr_ips = 0\n",
    "    for prefix in prefixes:\n",
    "        if prefix is None:\n",
    "            continue\n",
    "        nr_ips += ipaddress.IPv4Network(prefix).num_addresses\n",
    "    return nr_ips\n",
    "\n",
    "def get_asn_from_ip(ip):\n",
    "    return ip_asn.get_asn_from_ip(ip, when)\n",
    "\n",
    "def get_org_from_asn(asn):\n",
    "    return as_org.get_org_name_from_asn(asn, when)\n",
    "\n",
    "ip_asn, as_org = get_ip_asn_as_org_obj([\n",
    "    datetime(2024, 10, 29),\n",
    "    datetime(2024, 10, 30),\n",
    "    datetime(2024, 10, 31),\n",
    "    datetime(2024, 11, 1),\n",
    "])\n",
    "\n",
    "when = \"20241029\"\n",
    "org_list = [\"Google\", \"Hetzner\", \"OVH\", \"NhanHoa\", \"Xneelo\", \"Contabo\", \"DigitalOcean\"]\n",
    "amazon = [\"AWS\", \"Amazon\"]\n",
    "microsoft = [\"Azure\", \"Microsoft\"]\n",
    "ali = [\"Aliyun\", \"Alibaba\"]\n",
    "# regex to match a ip prefix in sublime: \\d+\\.\\d+\\.\\d+../\\d+"
   ]
  },
  {
   "cell_type": "code",
   "execution_count": 3,
   "id": "f28cb62a",
   "metadata": {},
   "outputs": [],
   "source": [
    "def get_distr_prefix_len(prefixes):\n",
    "    # NOT USED\n",
    "    prefixes_dict = defaultdict(int)\n",
    "    for prefix in prefixes:\n",
    "        if prefix is None:\n",
    "            continue\n",
    "        prefix_len = ipaddr.IPNetwork(prefix).prefixlen\n",
    "        prefixes_dict[prefix_len] += 1\n",
    "    return prefixes_dict\n",
    "\n",
    "def _get_nr_ips_per_prefix(prefixes_dict):\n",
    "    # OLD, REPLACED\n",
    "    nr_ips = 0\n",
    "    for prefix_len, occurrences in prefixes_dict.items():\n",
    "        e = 32 - prefix_len\n",
    "        nr_ips += (2 ** e) * occurrences  # if finding the nr of available ips in the subnet, then we need to - 2: exclude network address and default gw\n",
    "    return nr_ips"
   ]
  },
  {
   "cell_type": "markdown",
   "id": "b8b1fb2b",
   "metadata": {},
   "source": [
    "Extract ASes of each IP"
   ]
  },
  {
   "cell_type": "code",
   "execution_count": null,
   "id": "68b9008f",
   "metadata": {},
   "outputs": [],
   "source": [
    "# Note: the column 'prefix' that is given in IP2Location is not present in the .csv file\n",
    "# it has not been exported in the ip2location_lookup script. It's not necessary as we get this info\n",
    "# from the RIB files (via pysasn)\n",
    "ips_pdf = pd.read_csv(\"output/202411_goscanner_ipv4_netstats_ip2location.csv\")\n",
    "\n",
    "ips_pdf[\"asn\"] = ips_pdf[\"ip\"].apply(get_asn_from_ip)\n",
    "ips_pdf[\"nr_ips\"] = ips_pdf[\"asn\"].apply(lambda x: get_nr_ips_per_prefix(get_nr_prefixes_from_asn(x, ip_asn)))\n",
    "ips_pdf[\"prefix\"] = ips_pdf[\"ip\"].apply(lambda x: ip_asn.get_prefix_from_ip(x, when))\n",
    "ips_pdf[\"parent_prefix\"] = ips_pdf[\"ip\"].apply(lambda x: get_parent_prefix(x))"
   ]
  },
  {
   "cell_type": "code",
   "execution_count": 141,
   "id": "1e65a2f3",
   "metadata": {},
   "outputs": [],
   "source": [
    "ips_pdf.to_csv(\"output/202411_goscanner_ipv4_netstats_ip2location_asn_size.csv\", index=False)"
   ]
  },
  {
   "cell_type": "code",
   "execution_count": 137,
   "id": "79470305",
   "metadata": {},
   "outputs": [
    {
     "data": {
      "text/plain": [
       "True"
      ]
     },
     "execution_count": 137,
     "metadata": {},
     "output_type": "execute_result"
    }
   ],
   "source": [
    "get_nr_ips_per_prefix([\"8.0.0.0/8\"]) == ipaddress.IPv4Network(\"8.0.0.0/8\").num_addresses  # True"
   ]
  },
  {
   "cell_type": "code",
   "execution_count": 138,
   "id": "d4aec300",
   "metadata": {},
   "outputs": [
    {
     "data": {
      "text/plain": [
       "312064"
      ]
     },
     "execution_count": 138,
     "metadata": {},
     "output_type": "execute_result"
    }
   ],
   "source": [
    "ips_pdf[ips_pdf[\"asn\"] == 12350][\"nr_ips\"].iloc[0]  # 312064"
   ]
  },
  {
   "cell_type": "code",
   "execution_count": 140,
   "id": "af69576b",
   "metadata": {},
   "outputs": [
    {
     "data": {
      "text/html": [
       "<div>\n",
       "<style scoped>\n",
       "    .dataframe tbody tr th:only-of-type {\n",
       "        vertical-align: middle;\n",
       "    }\n",
       "\n",
       "    .dataframe tbody tr th {\n",
       "        vertical-align: top;\n",
       "    }\n",
       "\n",
       "    .dataframe thead th {\n",
       "        text-align: right;\n",
       "    }\n",
       "</style>\n",
       "<table border=\"1\" class=\"dataframe\">\n",
       "  <thead>\n",
       "    <tr style=\"text-align: right;\">\n",
       "      <th></th>\n",
       "      <th>ip</th>\n",
       "      <th>asn</th>\n",
       "      <th>nr_ips</th>\n",
       "      <th>prefix</th>\n",
       "      <th>parent_prefix</th>\n",
       "    </tr>\n",
       "  </thead>\n",
       "  <tbody>\n",
       "    <tr>\n",
       "      <th>16</th>\n",
       "      <td>213.139.208.156</td>\n",
       "      <td>198610.0</td>\n",
       "      <td>54272</td>\n",
       "      <td>213.139.208.0/24</td>\n",
       "      <td>213.139.208.0/22</td>\n",
       "    </tr>\n",
       "    <tr>\n",
       "      <th>19</th>\n",
       "      <td>190.144.33.171</td>\n",
       "      <td>14080.0</td>\n",
       "      <td>560640</td>\n",
       "      <td>190.144.32.0/20</td>\n",
       "      <td>190.144.32.0/19</td>\n",
       "    </tr>\n",
       "    <tr>\n",
       "      <th>25</th>\n",
       "      <td>201.124.29.224</td>\n",
       "      <td>8151.0</td>\n",
       "      <td>13331456</td>\n",
       "      <td>201.124.16.0/20</td>\n",
       "      <td>201.124.0.0/19</td>\n",
       "    </tr>\n",
       "  </tbody>\n",
       "</table>\n",
       "</div>"
      ],
      "text/plain": [
       "                 ip       asn    nr_ips            prefix     parent_prefix\n",
       "16  213.139.208.156  198610.0     54272  213.139.208.0/24  213.139.208.0/22\n",
       "19   190.144.33.171   14080.0    560640   190.144.32.0/20   190.144.32.0/19\n",
       "25   201.124.29.224    8151.0  13331456   201.124.16.0/20    201.124.0.0/19"
      ]
     },
     "metadata": {},
     "output_type": "display_data"
    }
   ],
   "source": [
    "display(ips_pdf[~ips_pdf[\"parent_prefix\"].isnull()][[\"ip\", \"asn\", \"nr_ips\", \"prefix\", \"parent_prefix\"]].head(3))\n",
    "asd = \"\"\"\n",
    "ip\t            asn\t        nr_ips\tprefix\t            parent_prefix\n",
    "79.175.149.69\t25184.0\t    58368\t79.175.149.0/24\t    79.175.128.0/18\n",
    "213.139.208.156\t198610.0\t54272\t213.139.208.0/24\t213.139.208.0/22\n",
    "190.144.33.171\t14080.0\t    560640\t190.144.32.0/20\t    190.144.32.0/19\n",
    "\"\"\""
   ]
  },
  {
   "cell_type": "markdown",
   "id": "c635d810",
   "metadata": {},
   "source": [
    "Distribution"
   ]
  },
  {
   "cell_type": "code",
   "execution_count": null,
   "id": "aaa04313",
   "metadata": {},
   "outputs": [
    {
     "data": {
      "text/html": [
       "<div>\n",
       "<style scoped>\n",
       "    .dataframe tbody tr th:only-of-type {\n",
       "        vertical-align: middle;\n",
       "    }\n",
       "\n",
       "    .dataframe tbody tr th {\n",
       "        vertical-align: top;\n",
       "    }\n",
       "\n",
       "    .dataframe thead th {\n",
       "        text-align: right;\n",
       "    }\n",
       "</style>\n",
       "<table border=\"1\" class=\"dataframe\">\n",
       "  <thead>\n",
       "    <tr style=\"text-align: right;\">\n",
       "      <th></th>\n",
       "      <th>asn</th>\n",
       "      <th>count</th>\n",
       "      <th>percent</th>\n",
       "      <th>org_name</th>\n",
       "      <th>cumsum</th>\n",
       "    </tr>\n",
       "  </thead>\n",
       "  <tbody>\n",
       "    <tr>\n",
       "      <th>1625</th>\n",
       "      <td>16276.0</td>\n",
       "      <td>4392</td>\n",
       "      <td>4.789218</td>\n",
       "      <td>OVH SAS</td>\n",
       "      <td>4.789218</td>\n",
       "    </tr>\n",
       "    <tr>\n",
       "      <th>2417</th>\n",
       "      <td>24940.0</td>\n",
       "      <td>3418</td>\n",
       "      <td>3.727128</td>\n",
       "      <td>Hetzner Online GmbH</td>\n",
       "      <td>8.516346</td>\n",
       "    </tr>\n",
       "    <tr>\n",
       "      <th>1650</th>\n",
       "      <td>16509.0</td>\n",
       "      <td>3162</td>\n",
       "      <td>3.447975</td>\n",
       "      <td>Amazon.com, Inc.</td>\n",
       "      <td>11.964321</td>\n",
       "    </tr>\n",
       "    <tr>\n",
       "      <th>263</th>\n",
       "      <td>3462.0</td>\n",
       "      <td>2241</td>\n",
       "      <td>2.443679</td>\n",
       "      <td>Chunghwa Telecom Co., Ltd.</td>\n",
       "      <td>14.407999</td>\n",
       "    </tr>\n",
       "    <tr>\n",
       "      <th>648</th>\n",
       "      <td>8075.0</td>\n",
       "      <td>2140</td>\n",
       "      <td>2.333544</td>\n",
       "      <td>Microsoft Corporation</td>\n",
       "      <td>16.741544</td>\n",
       "    </tr>\n",
       "    <tr>\n",
       "      <th>...</th>\n",
       "      <td>...</td>\n",
       "      <td>...</td>\n",
       "      <td>...</td>\n",
       "      <td>...</td>\n",
       "      <td>...</td>\n",
       "    </tr>\n",
       "    <tr>\n",
       "      <th>129</th>\n",
       "      <td>2018.0</td>\n",
       "      <td>10</td>\n",
       "      <td>0.010904</td>\n",
       "      <td>TENET (The UNINET Project)</td>\n",
       "      <td>79.955510</td>\n",
       "    </tr>\n",
       "    <tr>\n",
       "      <th>2872</th>\n",
       "      <td>29145.0</td>\n",
       "      <td>10</td>\n",
       "      <td>0.010904</td>\n",
       "      <td>Centaur GmbH</td>\n",
       "      <td>79.966414</td>\n",
       "    </tr>\n",
       "    <tr>\n",
       "      <th>7864</th>\n",
       "      <td>204887.0</td>\n",
       "      <td>10</td>\n",
       "      <td>0.010904</td>\n",
       "      <td>SCT PARTNER SAS</td>\n",
       "      <td>79.977319</td>\n",
       "    </tr>\n",
       "    <tr>\n",
       "      <th>4060</th>\n",
       "      <td>41079.0</td>\n",
       "      <td>10</td>\n",
       "      <td>0.010904</td>\n",
       "      <td>Cyber_Folks S.A.</td>\n",
       "      <td>79.988223</td>\n",
       "    </tr>\n",
       "    <tr>\n",
       "      <th>838</th>\n",
       "      <td>9051.0</td>\n",
       "      <td>10</td>\n",
       "      <td>0.010904</td>\n",
       "      <td>IncoNet Data Management sal</td>\n",
       "      <td>79.999128</td>\n",
       "    </tr>\n",
       "  </tbody>\n",
       "</table>\n",
       "<p>1110 rows × 5 columns</p>\n",
       "</div>"
      ],
      "text/plain": [
       "           asn  count   percent                     org_name     cumsum\n",
       "1625   16276.0   4392  4.789218                      OVH SAS   4.789218\n",
       "2417   24940.0   3418  3.727128          Hetzner Online GmbH   8.516346\n",
       "1650   16509.0   3162  3.447975             Amazon.com, Inc.  11.964321\n",
       "263     3462.0   2241  2.443679   Chunghwa Telecom Co., Ltd.  14.407999\n",
       "648     8075.0   2140  2.333544        Microsoft Corporation  16.741544\n",
       "...        ...    ...       ...                          ...        ...\n",
       "129     2018.0     10  0.010904   TENET (The UNINET Project)  79.955510\n",
       "2872   29145.0     10  0.010904                 Centaur GmbH  79.966414\n",
       "7864  204887.0     10  0.010904              SCT PARTNER SAS  79.977319\n",
       "4060   41079.0     10  0.010904             Cyber_Folks S.A.  79.988223\n",
       "838     9051.0     10  0.010904  IncoNet Data Management sal  79.999128\n",
       "\n",
       "[1110 rows x 5 columns]"
      ]
     },
     "execution_count": 4,
     "metadata": {},
     "output_type": "execute_result"
    }
   ],
   "source": [
    "ips_aggr_pdf = ips_pdf.drop_duplicates(subset=[\"ip\"]).groupby(\"asn\").size().reset_index(name=\"count\").sort_values(by=\"count\", ascending=False)\n",
    "ips_aggr_pdf[\"percent\"] = ips_aggr_pdf[\"count\"] / ips_aggr_pdf[\"count\"].sum() * 100\n",
    "\n",
    "ips_aggr_pdf[\"org_name\"] = ips_aggr_pdf[\"asn\"].apply(get_org_from_asn)\n",
    "\n",
    "# how many make 80%?\n",
    "ips_aggr_pdf[\"cumsum\"] = ips_aggr_pdf[\"percent\"].cumsum()\n",
    "top_80 = len(ips_aggr_pdf[ips_aggr_pdf[\"cumsum\"] <= 80])\n",
    "ips_aggr_pdf.head(top_80)"
   ]
  },
  {
   "cell_type": "code",
   "execution_count": 5,
   "id": "676b60db",
   "metadata": {},
   "outputs": [
    {
     "name": "stdout",
     "output_type": "stream",
     "text": [
      "1110 9436\n"
     ]
    }
   ],
   "source": [
    "print(top_80, len(ips_aggr_pdf))"
   ]
  },
  {
   "cell_type": "markdown",
   "id": "b7c95c5f",
   "metadata": {},
   "source": [
    "Used for ranking ASes"
   ]
  },
  {
   "cell_type": "code",
   "execution_count": 46,
   "id": "b508a903",
   "metadata": {},
   "outputs": [],
   "source": [
    "ips_aggr_pdf[[\"asn\", \"org_name\"]].to_csv(\"output/202411_asn_org.csv\", index=False)"
   ]
  },
  {
   "cell_type": "markdown",
   "id": "a94f7110",
   "metadata": {},
   "source": [
    "Add ranks"
   ]
  },
  {
   "cell_type": "code",
   "execution_count": 47,
   "id": "e9a119a2",
   "metadata": {},
   "outputs": [],
   "source": [
    "as_rank_pdf = pd.read_csv(\"output/202411_asn_org_ranked.csv\")"
   ]
  },
  {
   "cell_type": "code",
   "execution_count": 73,
   "id": "0d27c758",
   "metadata": {},
   "outputs": [],
   "source": [
    "as_rank_pdf[\"nr_ips\"] = as_rank_pdf[\"asn\"].apply(lambda x: get_nr_ips_per_prefix(get_nr_prefixes_from_asn(x, ip_asn)))"
   ]
  },
  {
   "cell_type": "code",
   "execution_count": 76,
   "id": "9000a3f4",
   "metadata": {},
   "outputs": [],
   "source": [
    "ips_pdf.join(\n",
    "    as_rank_pdf.drop(columns=[\"date\"], axis=1).set_index(\"asn\"),\n",
    "    on=\"asn\",\n",
    "    how=\"left\"\n",
    ").to_csv(\"output/202411_goscanner_ipv4_netstats_ip2location_asn_rank.csv\", index=False)"
   ]
  },
  {
   "cell_type": "code",
   "execution_count": 77,
   "id": "82b2d338",
   "metadata": {},
   "outputs": [
    {
     "data": {
      "text/html": [
       "<div>\n",
       "<style scoped>\n",
       "    .dataframe tbody tr th:only-of-type {\n",
       "        vertical-align: middle;\n",
       "    }\n",
       "\n",
       "    .dataframe tbody tr th {\n",
       "        vertical-align: top;\n",
       "    }\n",
       "\n",
       "    .dataframe thead th {\n",
       "        text-align: right;\n",
       "    }\n",
       "</style>\n",
       "<table border=\"1\" class=\"dataframe\">\n",
       "  <thead>\n",
       "    <tr style=\"text-align: right;\">\n",
       "      <th></th>\n",
       "      <th>asn</th>\n",
       "      <th>rank</th>\n",
       "      <th>date</th>\n",
       "      <th>nr_ips</th>\n",
       "    </tr>\n",
       "  </thead>\n",
       "  <tbody>\n",
       "    <tr>\n",
       "      <th>3483</th>\n",
       "      <td>8069</td>\n",
       "      <td>12448</td>\n",
       "      <td>2024-10-01</td>\n",
       "      <td>194816</td>\n",
       "    </tr>\n",
       "  </tbody>\n",
       "</table>\n",
       "</div>"
      ],
      "text/plain": [
       "       asn   rank        date  nr_ips\n",
       "3483  8069  12448  2024-10-01  194816"
      ]
     },
     "execution_count": 77,
     "metadata": {},
     "output_type": "execute_result"
    }
   ],
   "source": [
    "as_rank_pdf[as_rank_pdf[\"rank\"] == 12448]"
   ]
  },
  {
   "cell_type": "code",
   "execution_count": 82,
   "id": "1645aa3a-44fa-4c4f-b17a-860886ab5e3d",
   "metadata": {},
   "outputs": [
    {
     "data": {
      "text/html": [
       "<div>\n",
       "<style scoped>\n",
       "    .dataframe tbody tr th:only-of-type {\n",
       "        vertical-align: middle;\n",
       "    }\n",
       "\n",
       "    .dataframe tbody tr th {\n",
       "        vertical-align: top;\n",
       "    }\n",
       "\n",
       "    .dataframe thead th {\n",
       "        text-align: right;\n",
       "    }\n",
       "</style>\n",
       "<table border=\"1\" class=\"dataframe\">\n",
       "  <thead>\n",
       "    <tr style=\"text-align: right;\">\n",
       "      <th></th>\n",
       "      <th>asn</th>\n",
       "      <th>rank</th>\n",
       "      <th>date</th>\n",
       "      <th>nr_ips</th>\n",
       "    </tr>\n",
       "  </thead>\n",
       "  <tbody>\n",
       "    <tr>\n",
       "      <th>150</th>\n",
       "      <td>37963</td>\n",
       "      <td>7384</td>\n",
       "      <td>2024-10-01</td>\n",
       "      <td>21437440</td>\n",
       "    </tr>\n",
       "  </tbody>\n",
       "</table>\n",
       "</div>"
      ],
      "text/plain": [
       "       asn  rank        date    nr_ips\n",
       "150  37963  7384  2024-10-01  21437440"
      ]
     },
     "execution_count": 82,
     "metadata": {},
     "output_type": "execute_result"
    }
   ],
   "source": [
    "as_rank_pdf[as_rank_pdf[\"asn\"] == 37963]"
   ]
  },
  {
   "cell_type": "markdown",
   "id": "eed799f7",
   "metadata": {},
   "source": [
    "Calculating nr IPs in org/prefix"
   ]
  },
  {
   "cell_type": "code",
   "execution_count": null,
   "id": "d3f7a178",
   "metadata": {},
   "outputs": [],
   "source": [
    "def get_nr_ips_per_org(org_name):\n",
    "    asns = as_org.get_asn_from_org_name(org_name, when)\n",
    "    prefixes_dict = get_nr_prefixes_from_asn_list(asns, ip_asn)\n",
    "    nr_ips = get_nr_ips_per_prefix(prefixes_dict.keys())\n",
    "    return nr_ips"
   ]
  },
  {
   "cell_type": "code",
   "execution_count": 7,
   "id": "11aa5aad",
   "metadata": {},
   "outputs": [],
   "source": [
    "ips_aggr_pdf[\"nr_ips\"] = ips_aggr_pdf[\"org_name\"].apply(get_nr_ips_per_org)"
   ]
  },
  {
   "cell_type": "code",
   "execution_count": 10,
   "id": "4d740aa7",
   "metadata": {},
   "outputs": [
    {
     "data": {
      "text/html": [
       "<div>\n",
       "<style scoped>\n",
       "    .dataframe tbody tr th:only-of-type {\n",
       "        vertical-align: middle;\n",
       "    }\n",
       "\n",
       "    .dataframe tbody tr th {\n",
       "        vertical-align: top;\n",
       "    }\n",
       "\n",
       "    .dataframe thead th {\n",
       "        text-align: right;\n",
       "    }\n",
       "</style>\n",
       "<table border=\"1\" class=\"dataframe\">\n",
       "  <thead>\n",
       "    <tr style=\"text-align: right;\">\n",
       "      <th></th>\n",
       "      <th>asn</th>\n",
       "      <th>count</th>\n",
       "      <th>percent</th>\n",
       "      <th>org_name</th>\n",
       "      <th>cumsum</th>\n",
       "      <th>nr_ips</th>\n",
       "    </tr>\n",
       "  </thead>\n",
       "  <tbody>\n",
       "    <tr>\n",
       "      <th>713</th>\n",
       "      <td>8452.0</td>\n",
       "      <td>162</td>\n",
       "      <td>0.176651</td>\n",
       "      <td>TE-AS</td>\n",
       "      <td>42.534840</td>\n",
       "      <td>4194020</td>\n",
       "    </tr>\n",
       "    <tr>\n",
       "      <th>3609</th>\n",
       "      <td>36925.0</td>\n",
       "      <td>26</td>\n",
       "      <td>0.028351</td>\n",
       "      <td>MEDITELECOM</td>\n",
       "      <td>69.069636</td>\n",
       "      <td>2095338</td>\n",
       "    </tr>\n",
       "    <tr>\n",
       "      <th>1878</th>\n",
       "      <td>19108.0</td>\n",
       "      <td>36</td>\n",
       "      <td>0.039256</td>\n",
       "      <td>Optimum</td>\n",
       "      <td>65.016466</td>\n",
       "      <td>1572584</td>\n",
       "    </tr>\n",
       "    <tr>\n",
       "      <th>309</th>\n",
       "      <td>4152.0</td>\n",
       "      <td>1</td>\n",
       "      <td>0.001090</td>\n",
       "      <td>USDA</td>\n",
       "      <td>95.951192</td>\n",
       "      <td>1263346</td>\n",
       "    </tr>\n",
       "    <tr>\n",
       "      <th>893</th>\n",
       "      <td>9316.0</td>\n",
       "      <td>1</td>\n",
       "      <td>0.001090</td>\n",
       "      <td>DACOM-PUBNETPLUS</td>\n",
       "      <td>95.422328</td>\n",
       "      <td>1040624</td>\n",
       "    </tr>\n",
       "    <tr>\n",
       "      <th>...</th>\n",
       "      <td>...</td>\n",
       "      <td>...</td>\n",
       "      <td>...</td>\n",
       "      <td>...</td>\n",
       "      <td>...</td>\n",
       "      <td>...</td>\n",
       "    </tr>\n",
       "    <tr>\n",
       "      <th>1908</th>\n",
       "      <td>19447.0</td>\n",
       "      <td>3</td>\n",
       "      <td>0.003271</td>\n",
       "      <td>ALFANUMERIC</td>\n",
       "      <td>91.407323</td>\n",
       "      <td>254</td>\n",
       "    </tr>\n",
       "    <tr>\n",
       "      <th>6810</th>\n",
       "      <td>137584.0</td>\n",
       "      <td>1</td>\n",
       "      <td>0.001090</td>\n",
       "      <td>Prefixnet</td>\n",
       "      <td>99.052407</td>\n",
       "      <td>254</td>\n",
       "    </tr>\n",
       "    <tr>\n",
       "      <th>1702</th>\n",
       "      <td>17124.0</td>\n",
       "      <td>3</td>\n",
       "      <td>0.003271</td>\n",
       "      <td>SouthArk</td>\n",
       "      <td>91.387695</td>\n",
       "      <td>254</td>\n",
       "    </tr>\n",
       "    <tr>\n",
       "      <th>6620</th>\n",
       "      <td>135330.0</td>\n",
       "      <td>9</td>\n",
       "      <td>0.009814</td>\n",
       "      <td>Adcdata.com</td>\n",
       "      <td>80.693739</td>\n",
       "      <td>254</td>\n",
       "    </tr>\n",
       "    <tr>\n",
       "      <th>943</th>\n",
       "      <td>9643.0</td>\n",
       "      <td>6</td>\n",
       "      <td>0.006543</td>\n",
       "      <td>KICA</td>\n",
       "      <td>84.242034</td>\n",
       "      <td>254</td>\n",
       "    </tr>\n",
       "  </tbody>\n",
       "</table>\n",
       "<p>310 rows × 6 columns</p>\n",
       "</div>"
      ],
      "text/plain": [
       "           asn  count   percent          org_name     cumsum   nr_ips\n",
       "713     8452.0    162  0.176651             TE-AS  42.534840  4194020\n",
       "3609   36925.0     26  0.028351       MEDITELECOM  69.069636  2095338\n",
       "1878   19108.0     36  0.039256           Optimum  65.016466  1572584\n",
       "309     4152.0      1  0.001090              USDA  95.951192  1263346\n",
       "893     9316.0      1  0.001090  DACOM-PUBNETPLUS  95.422328  1040624\n",
       "...        ...    ...       ...               ...        ...      ...\n",
       "1908   19447.0      3  0.003271       ALFANUMERIC  91.407323      254\n",
       "6810  137584.0      1  0.001090         Prefixnet  99.052407      254\n",
       "1702   17124.0      3  0.003271          SouthArk  91.387695      254\n",
       "6620  135330.0      9  0.009814       Adcdata.com  80.693739      254\n",
       "943     9643.0      6  0.006543              KICA  84.242034      254\n",
       "\n",
       "[310 rows x 6 columns]"
      ]
     },
     "execution_count": 10,
     "metadata": {},
     "output_type": "execute_result"
    }
   ],
   "source": [
    "ips_aggr_pdf[ips_aggr_pdf[\"nr_ips\"] > 0].sort_values(by=\"nr_ips\", ascending=False)"
   ]
  },
  {
   "cell_type": "code",
   "execution_count": 81,
   "id": "8f23a7ed",
   "metadata": {},
   "outputs": [
    {
     "data": {
      "text/html": [
       "<div>\n",
       "<style scoped>\n",
       "    .dataframe tbody tr th:only-of-type {\n",
       "        vertical-align: middle;\n",
       "    }\n",
       "\n",
       "    .dataframe tbody tr th {\n",
       "        vertical-align: top;\n",
       "    }\n",
       "\n",
       "    .dataframe thead th {\n",
       "        text-align: right;\n",
       "    }\n",
       "</style>\n",
       "<table border=\"1\" class=\"dataframe\">\n",
       "  <thead>\n",
       "    <tr style=\"text-align: right;\">\n",
       "      <th></th>\n",
       "      <th>asn</th>\n",
       "      <th>count</th>\n",
       "      <th>percent</th>\n",
       "      <th>org_name</th>\n",
       "      <th>cumsum</th>\n",
       "      <th>nr_ips</th>\n",
       "    </tr>\n",
       "  </thead>\n",
       "  <tbody>\n",
       "    <tr>\n",
       "      <th>3762</th>\n",
       "      <td>37963.0</td>\n",
       "      <td>811</td>\n",
       "      <td>0.884348</td>\n",
       "      <td>Hangzhou Alibaba Advertising Co.,Ltd.</td>\n",
       "      <td>27.085469</td>\n",
       "      <td>0</td>\n",
       "    </tr>\n",
       "  </tbody>\n",
       "</table>\n",
       "</div>"
      ],
      "text/plain": [
       "          asn  count   percent                               org_name  \\\n",
       "3762  37963.0    811  0.884348  Hangzhou Alibaba Advertising Co.,Ltd.   \n",
       "\n",
       "         cumsum  nr_ips  \n",
       "3762  27.085469       0  "
      ]
     },
     "execution_count": 81,
     "metadata": {},
     "output_type": "execute_result"
    }
   ],
   "source": [
    "ips_aggr_pdf[ips_aggr_pdf[\"asn\"] == 37963]"
   ]
  },
  {
   "cell_type": "code",
   "execution_count": 3,
   "id": "5e8cb4aa",
   "metadata": {},
   "outputs": [],
   "source": [
    "org_pdf = pd.read_csv(\"output/cloud_providers.csv\")"
   ]
  },
  {
   "cell_type": "code",
   "execution_count": null,
   "id": "755548ee",
   "metadata": {},
   "outputs": [],
   "source": [
    "org_pdf[\"nr_ips\"] = org_pdf[\"cloud_provider\"].apply(get_nr_ips_per_org)"
   ]
  },
  {
   "cell_type": "markdown",
   "id": "dae115a8",
   "metadata": {},
   "source": [
    "Extract nr of IPs each provider has"
   ]
  },
  {
   "cell_type": "code",
   "execution_count": 11,
   "id": "c96bbfce",
   "metadata": {},
   "outputs": [
    {
     "name": "stdout",
     "output_type": "stream",
     "text": [
      "% of not found/no IP address 97.2\n"
     ]
    },
    {
     "data": {
      "text/html": [
       "<div>\n",
       "<style scoped>\n",
       "    .dataframe tbody tr th:only-of-type {\n",
       "        vertical-align: middle;\n",
       "    }\n",
       "\n",
       "    .dataframe tbody tr th {\n",
       "        vertical-align: top;\n",
       "    }\n",
       "\n",
       "    .dataframe thead th {\n",
       "        text-align: right;\n",
       "    }\n",
       "</style>\n",
       "<table border=\"1\" class=\"dataframe\">\n",
       "  <thead>\n",
       "    <tr style=\"text-align: right;\">\n",
       "      <th></th>\n",
       "      <th>cloud_provider</th>\n",
       "      <th>nr_ips</th>\n",
       "    </tr>\n",
       "  </thead>\n",
       "  <tbody>\n",
       "    <tr>\n",
       "      <th>3905</th>\n",
       "      <td>Level</td>\n",
       "      <td>12582850</td>\n",
       "    </tr>\n",
       "    <tr>\n",
       "      <th>1756</th>\n",
       "      <td>Internet</td>\n",
       "      <td>4194145</td>\n",
       "    </tr>\n",
       "    <tr>\n",
       "      <th>4324</th>\n",
       "      <td>Taiwan</td>\n",
       "      <td>4194082</td>\n",
       "    </tr>\n",
       "    <tr>\n",
       "      <th>1002</th>\n",
       "      <td>Beltelecom</td>\n",
       "      <td>1048296</td>\n",
       "    </tr>\n",
       "    <tr>\n",
       "      <th>2484</th>\n",
       "      <td>GTT</td>\n",
       "      <td>524228</td>\n",
       "    </tr>\n",
       "    <tr>\n",
       "      <th>...</th>\n",
       "      <td>...</td>\n",
       "      <td>...</td>\n",
       "    </tr>\n",
       "    <tr>\n",
       "      <th>1295</th>\n",
       "      <td>DataXion</td>\n",
       "      <td>254</td>\n",
       "    </tr>\n",
       "    <tr>\n",
       "      <th>1441</th>\n",
       "      <td>Nodisto</td>\n",
       "      <td>254</td>\n",
       "    </tr>\n",
       "    <tr>\n",
       "      <th>3509</th>\n",
       "      <td>EboundHost.com</td>\n",
       "      <td>254</td>\n",
       "    </tr>\n",
       "    <tr>\n",
       "      <th>1832</th>\n",
       "      <td>Withsystems</td>\n",
       "      <td>254</td>\n",
       "    </tr>\n",
       "    <tr>\n",
       "      <th>3906</th>\n",
       "      <td>Hosting.cl</td>\n",
       "      <td>254</td>\n",
       "    </tr>\n",
       "  </tbody>\n",
       "</table>\n",
       "<p>128 rows × 2 columns</p>\n",
       "</div>"
      ],
      "text/plain": [
       "      cloud_provider    nr_ips\n",
       "3905           Level  12582850\n",
       "1756        Internet   4194145\n",
       "4324          Taiwan   4194082\n",
       "1002      Beltelecom   1048296\n",
       "2484             GTT    524228\n",
       "...              ...       ...\n",
       "1295        DataXion       254\n",
       "1441         Nodisto       254\n",
       "3509  EboundHost.com       254\n",
       "1832     Withsystems       254\n",
       "3906      Hosting.cl       254\n",
       "\n",
       "[128 rows x 2 columns]"
      ]
     },
     "execution_count": 11,
     "metadata": {},
     "output_type": "execute_result"
    }
   ],
   "source": [
    "print(\"% of not found/no IP address\", round(len(org_pdf[org_pdf[\"nr_ips\"] == 0]) / len(org_pdf) * 100, 1))\n",
    "\n",
    "org_pdf[org_pdf[\"nr_ips\"] > 0].sort_values(\"nr_ips\", ascending=False)"
   ]
  },
  {
   "cell_type": "code",
   "execution_count": 73,
   "id": "08075f99",
   "metadata": {},
   "outputs": [],
   "source": [
    "org_pdf.to_csv(\"output/cloud_providers_size.csv\", index=False)"
   ]
  },
  {
   "cell_type": "code",
   "execution_count": 9,
   "id": "990ac0be",
   "metadata": {},
   "outputs": [
    {
     "name": "stdout",
     "output_type": "stream",
     "text": [
      "[]\n"
     ]
    },
    {
     "data": {
      "text/plain": [
       "'N&TS GROUP NETWORKS & TRANSACTIONAL SYSTEMS GROUP S.P.A.'"
      ]
     },
     "execution_count": 9,
     "metadata": {},
     "output_type": "execute_result"
    }
   ],
   "source": [
    "org_name = \"ROU\"\n",
    "asns = as_org.get_asn_from_org_name(org_name, when)\n",
    "print(asns)\n",
    "prefixes_dict = get_nr_prefixes_from_asn_list(asns, ip_asn)\n",
    "\n",
    "as_org.get_org_name_from_asn(35357, when)"
   ]
  },
  {
   "cell_type": "markdown",
   "id": "b57cb2ed",
   "metadata": {},
   "source": [
    "Known providers"
   ]
  },
  {
   "cell_type": "code",
   "execution_count": 45,
   "id": "19a91bf0-4023-4647-8ebe-8a7350ac2e8e",
   "metadata": {},
   "outputs": [
    {
     "name": "stdout",
     "output_type": "stream",
     "text": [
      "Google has 4194020 IPs\n",
      "Hetzner has 257774 IPs\n",
      "OVH has 261868 IPs\n",
      "NhanHoa has 1786 IPs\n",
      "Xneelo has 65264 IPs\n",
      "Contabo has 32498 IPs\n",
      "DigitalOcean has 65264 IPs\n",
      "Amazon + AWS have 4194020 IPs\n",
      "Microsoft + Azure have 8388322 IPs\n",
      "Aliyun + Alibaba have 1048295 IPs\n"
     ]
    }
   ],
   "source": [
    "for org in org_list:\n",
    "    asns = as_org.get_asn_from_org_name(org, when)\n",
    "    prefixes_dict = get_nr_prefixes_from_asn_list(asns, ip_asn)\n",
    "    nr_ips = get_nr_ips_per_prefix(prefixes_dict)\n",
    "    print(org, \"has\", nr_ips, \"IPs\")\n",
    "\n",
    "\n",
    "prefixes_dict = defaultdict(int)\n",
    "for org in amazon:\n",
    "    asns = as_org.get_asn_from_org_name(org, when)\n",
    "    prefixes_dict.update(get_nr_prefixes_from_asn_list(asns, ip_asn))\n",
    "nr_ips = get_nr_ips_per_prefix(prefixes_dict)\n",
    "print(\"Amazon + AWS have\", nr_ips, \"IPs\")\n",
    "\n",
    "\n",
    "prefixes_dict = defaultdict(int)\n",
    "for org in microsoft:\n",
    "    asns = as_org.get_asn_from_org_name(org, when)\n",
    "    prefixes_dict.update(get_nr_prefixes_from_asn_list(asns, ip_asn))\n",
    "nr_ips = get_nr_ips_per_prefix(prefixes_dict)\n",
    "print(\"Microsoft + Azure have\", nr_ips, \"IPs\")\n",
    "\n",
    "\n",
    "prefixes_dict = defaultdict(int)\n",
    "for org in ali:\n",
    "    asns = as_org.get_asn_from_org_name(org, when)\n",
    "    prefixes_dict.update(get_nr_prefixes_from_asn_list(asns, ip_asn))\n",
    "nr_ips = get_nr_ips_per_prefix(prefixes_dict)\n",
    "print(\"Aliyun + Alibaba have\", nr_ips, \"IPs\")"
   ]
  },
  {
   "cell_type": "code",
   "execution_count": 54,
   "id": "3b06f831-3dfd-4d6e-9c74-34b0a5be1a25",
   "metadata": {},
   "outputs": [
    {
     "name": "stdout",
     "output_type": "stream",
     "text": [
      "Google Cloud has 524010 IPs\n"
     ]
    }
   ],
   "source": [
    "google_cloud_prefixes = pd.read_json(\"cloud-ip-prefixes/ip_prefixes/google/cloud.json\")\n",
    "ipv4_prefixes = google_cloud_prefixes[\"prefixes\"].apply(lambda x: x.get(\"ipv4Prefix\"))\n",
    "prefixes_dict = get_distr_prefix_len(ipv4_prefixes.to_list())\n",
    "nr_ips = get_nr_ips_per_prefix(prefixes_dict)\n",
    "print(\"Google Cloud has\", nr_ips, \"IPs\")"
   ]
  },
  {
   "cell_type": "code",
   "execution_count": 35,
   "id": "49f3fa54-297a-42f0-bc32-bef9c77d6920",
   "metadata": {},
   "outputs": [
    {
     "name": "stdout",
     "output_type": "stream",
     "text": [
      "Google\n"
     ]
    },
    {
     "data": {
      "text/plain": [
       "defaultdict(int,\n",
       "            {'19': 132,\n",
       "             '21': 99,\n",
       "             '24': 1224,\n",
       "             '18': 44,\n",
       "             '16': 91,\n",
       "             '17': 72,\n",
       "             '22': 65,\n",
       "             '20': 2031,\n",
       "             '14': 31,\n",
       "             '23': 58,\n",
       "             '13': 10,\n",
       "             '15': 9,\n",
       "             '12': 5,\n",
       "             '11': 3})"
      ]
     },
     "metadata": {},
     "output_type": "display_data"
    },
    {
     "name": "stdout",
     "output_type": "stream",
     "text": [
      "Hetzner\n"
     ]
    },
    {
     "data": {
      "text/plain": [
       "defaultdict(int,\n",
       "            {'16': 31,\n",
       "             '24': 169,\n",
       "             '18': 2,\n",
       "             '23': 9,\n",
       "             '22': 12,\n",
       "             '17': 6,\n",
       "             '19': 1,\n",
       "             '15': 1,\n",
       "             '21': 2})"
      ]
     },
     "metadata": {},
     "output_type": "display_data"
    },
    {
     "name": "stdout",
     "output_type": "stream",
     "text": [
      "OVH\n"
     ]
    },
    {
     "data": {
      "text/plain": [
       "defaultdict(int,\n",
       "            {'17': 36,\n",
       "             '16': 40,\n",
       "             '24': 31,\n",
       "             '19': 7,\n",
       "             '15': 2,\n",
       "             '18': 6,\n",
       "             '23': 3,\n",
       "             '21': 7,\n",
       "             '22': 4,\n",
       "             '20': 3})"
      ]
     },
     "metadata": {},
     "output_type": "display_data"
    },
    {
     "name": "stdout",
     "output_type": "stream",
     "text": [
      "NhanHoa\n"
     ]
    },
    {
     "data": {
      "text/plain": [
       "defaultdict(int, {'24': 20, '22': 3, '23': 2})"
      ]
     },
     "metadata": {},
     "output_type": "display_data"
    },
    {
     "name": "stdout",
     "output_type": "stream",
     "text": [
      "Xneelo\n"
     ]
    },
    {
     "data": {
      "text/plain": [
       "defaultdict(int,\n",
       "            {'21': 4,\n",
       "             '24': 18,\n",
       "             '20': 6,\n",
       "             '22': 9,\n",
       "             '23': 3,\n",
       "             '17': 2,\n",
       "             '19': 2,\n",
       "             '18': 1})"
      ]
     },
     "metadata": {},
     "output_type": "display_data"
    },
    {
     "name": "stdout",
     "output_type": "stream",
     "text": [
      "Contabo\n"
     ]
    },
    {
     "data": {
      "text/plain": [
       "defaultdict(int,\n",
       "            {'20': 18,\n",
       "             '22': 27,\n",
       "             '21': 34,\n",
       "             '24': 155,\n",
       "             '23': 307,\n",
       "             '18': 1,\n",
       "             '19': 5})"
      ]
     },
     "metadata": {},
     "output_type": "display_data"
    },
    {
     "name": "stdout",
     "output_type": "stream",
     "text": [
      "DigitalOcean\n"
     ]
    },
    {
     "data": {
      "text/plain": [
       "defaultdict(int,\n",
       "            {'24': 51,\n",
       "             '22': 167,\n",
       "             '20': 458,\n",
       "             '23': 6,\n",
       "             '18': 21,\n",
       "             '19': 23,\n",
       "             '21': 18,\n",
       "             '17': 4})"
      ]
     },
     "metadata": {},
     "output_type": "display_data"
    }
   ],
   "source": [
    "for org in org_list:\n",
    "    print(org)\n",
    "    asns = as_org.get_asn_from_org_name(org, when)\n",
    "    prefixes_dict = get_nr_prefixes_from_asn_list(asns, ip_asn)\n",
    "    display(prefixes_dict)"
   ]
  },
  {
   "cell_type": "code",
   "execution_count": 37,
   "id": "15db443e-5a90-4590-90de-e3901541b1ef",
   "metadata": {},
   "outputs": [
    {
     "name": "stdout",
     "output_type": "stream",
     "text": [
      "Amazon + AWS\n"
     ]
    },
    {
     "data": {
      "text/plain": [
       "defaultdict(int,\n",
       "            {'20': 158,\n",
       "             '19': 59,\n",
       "             '22': 784,\n",
       "             '24': 5655,\n",
       "             '23': 837,\n",
       "             '21': 593,\n",
       "             '16': 116,\n",
       "             '15': 107,\n",
       "             '17': 90,\n",
       "             '18': 52,\n",
       "             '14': 43,\n",
       "             '12': 8,\n",
       "             '13': 13,\n",
       "             '11': 2})"
      ]
     },
     "metadata": {},
     "output_type": "display_data"
    },
    {
     "name": "stdout",
     "output_type": "stream",
     "text": [
      "Microsoft + Azure\n"
     ]
    },
    {
     "data": {
      "text/plain": [
       "defaultdict(int,\n",
       "            {'24': 417,\n",
       "             '23': 47,\n",
       "             '20': 14,\n",
       "             '22': 26,\n",
       "             '21': 15,\n",
       "             '16': 58,\n",
       "             '19': 13,\n",
       "             '15': 26,\n",
       "             '12': 11,\n",
       "             '17': 16,\n",
       "             '11': 5,\n",
       "             '18': 10,\n",
       "             '14': 21,\n",
       "             '10': 2,\n",
       "             '13': 11})"
      ]
     },
     "metadata": {},
     "output_type": "display_data"
    },
    {
     "name": "stdout",
     "output_type": "stream",
     "text": [
      "Aliyun + Alibaba\n"
     ]
    },
    {
     "data": {
      "text/plain": [
       "defaultdict(int,\n",
       "            {'24': 463,\n",
       "             '23': 124,\n",
       "             '32': 5,\n",
       "             '22': 83,\n",
       "             '20': 52,\n",
       "             '16': 99,\n",
       "             '17': 134,\n",
       "             '14': 13,\n",
       "             '21': 63,\n",
       "             '15': 33,\n",
       "             '18': 91,\n",
       "             '19': 75,\n",
       "             '13': 1})"
      ]
     },
     "metadata": {},
     "output_type": "display_data"
    }
   ],
   "source": [
    "print(\"Amazon + AWS\")\n",
    "prefixes_dict = defaultdict(int)\n",
    "for org in amazon:\n",
    "    asns = as_org.get_asn_from_org_name(org, when)\n",
    "    prefixes_dict.update(get_nr_prefixes_from_asn_list(asns, ip_asn))\n",
    "display(prefixes_dict)\n",
    "\n",
    "print(\"Microsoft + Azure\")\n",
    "prefixes_dict = defaultdict(int)\n",
    "for org in microsoft:\n",
    "    asns = as_org.get_asn_from_org_name(org, when)\n",
    "    prefixes_dict.update(get_nr_prefixes_from_asn_list(asns, ip_asn))\n",
    "display(prefixes_dict)\n",
    "\n",
    "print(\"Aliyun + Alibaba\")\n",
    "prefixes_dict = defaultdict(int)\n",
    "for org in ali:\n",
    "    asns = as_org.get_asn_from_org_name(org, when)\n",
    "    prefixes_dict.update(get_nr_prefixes_from_asn_list(asns, ip_asn))\n",
    "display(prefixes_dict)"
   ]
  },
  {
   "cell_type": "markdown",
   "id": "93876531",
   "metadata": {},
   "source": [
    "# TESTING"
   ]
  },
  {
   "cell_type": "code",
   "execution_count": null,
   "id": "c32b6a2a",
   "metadata": {},
   "outputs": [
    {
     "name": "stdout",
     "output_type": "stream",
     "text": [
      "257792\n",
      "79 {'185.157.178.0/23', '49.13.0.0/16', '193.25.170.0/23', '185.126.28.0/22', '194.62.106.0/24', '159.69.0.0/16', '91.107.128.0/17', '193.163.198.0/24', '185.189.228.0/24', '142.132.128.0/17', '167.235.0.0/16', '213.239.192.0/18', '138.199.128.0/17', '216.55.108.0/22', '116.202.0.0/16', '185.213.45.0/24', '45.145.227.0/24', '195.248.224.0/24', '168.119.0.0/16', '185.157.176.0/23', '91.190.240.0/21', '195.60.226.0/24', '185.226.99.0/24', '195.201.0.0/16', '23.88.0.0/17', '157.180.0.0/17', '185.228.8.0/23', '185.242.76.0/24', '176.9.0.0/16', '188.40.0.0/16', '185.189.230.0/24', '185.107.52.0/22', '201.131.3.0/24', '94.130.0.0/16', '185.50.120.0/23', '213.133.96.0/19', '65.109.0.0/16', '185.189.229.0/24', '188.245.0.0/16', '65.108.0.0/16', '91.233.8.0/22', '65.21.0.0/16', '157.90.0.0/16', '185.157.83.0/24', '128.140.0.0/17', '148.251.0.0/16', '136.243.0.0/16', '204.29.146.0/24', '185.253.111.0/24', '185.189.231.0/24', '171.25.225.0/24', '78.46.0.0/15', '116.203.0.0/16', '188.34.128.0/17', '178.63.0.0/16', '162.55.0.0/16', '95.216.0.0/16', '197.242.84.0/22', '194.42.180.0/22', '144.76.0.0/16', '49.12.0.0/16', '5.9.0.0/16', '37.27.0.0/16', '185.171.224.0/22', '138.201.0.0/16', '88.198.0.0/16', '78.138.62.0/24', '85.10.192.0/18', '213.232.193.0/24', '167.233.0.0/16', '5.75.128.0/17', '88.99.0.0/16', '178.212.75.0/24', '46.4.0.0/16', '194.42.184.0/22', '193.110.6.0/23', '135.181.0.0/16', '95.217.0.0/16', '185.216.237.0/24'}\n"
     ]
    }
   ],
   "source": [
    "# pyasn\n",
    "p = ip_asn.get_prefixes_from_asn(24940, when=\"20241029\")\n",
    "print(get_nr_ips_per_prefix(get_distr_prefix_len(p)))\n",
    "print(len(p), p)"
   ]
  },
  {
   "cell_type": "code",
   "execution_count": null,
   "id": "c674756f",
   "metadata": {},
   "outputs": [
    {
     "name": "stdout",
     "output_type": "stream",
     "text": [
      "257792\n",
      "78 ['5.9.0.0/16', '5.75.128.0/17', '23.88.0.0/17', '37.27.0.0/16', '45.145.227.0/24', '46.4.0.0/16', '49.12.0.0/16', '49.13.0.0/16', '65.21.0.0/16', '65.108.0.0/16', '65.109.0.0/16', '78.46.0.0/15', '78.138.62.0/24', '85.10.192.0/18', '88.99.0.0/16', '88.198.0.0/16', '91.107.128.0/17', '91.190.240.0/21', '91.233.8.0/22', '94.130.0.0/16', '95.216.0.0/16', '95.217.0.0/16', '116.202.0.0/16', '116.203.0.0/16', '128.140.0.0/17', '135.181.0.0/16', '136.243.0.0/16', '138.199.128.0/17', '138.201.0.0/16', '142.132.128.0/17', '144.76.0.0/16', '148.251.0.0/16', '157.90.0.0/16', '157.180.0.0/17', '159.69.0.0/16', '162.55.0.0/16', '167.233.0.0/16', '167.235.0.0/16', '168.119.0.0/16', '171.25.225.0/24', '176.9.0.0/16', '178.63.0.0/16', '178.212.75.0/24', '185.50.120.0/23', '185.107.52.0/22', '185.126.28.0/22', '185.157.83.0/24', '185.157.176.0/23', '185.157.178.0/23', '185.171.224.0/22', '185.189.228.0/24', '185.189.229.0/24', '185.189.230.0/24', '185.189.231.0/24', '185.213.45.0/24', '185.216.237.0/24', '185.226.99.0/24', '185.228.8.0/23', '185.253.111.0/24', '188.34.128.0/17', '188.40.0.0/16', '188.245.0.0/16', '193.25.170.0/23', '193.110.6.0/23', '193.163.198.0/24', '194.42.180.0/22', '194.42.184.0/22', '194.62.106.0/24', '195.60.226.0/24', '195.201.0.0/16', '195.248.224.0/24', '197.242.84.0/22', '201.131.3.0/24', '204.29.146.0/24', '213.133.96.0/19', '213.232.193.0/24', '213.239.192.0/18', '216.55.108.0/22']\n"
     ]
    }
   ],
   "source": [
    "# bgp.he.net (off by one and from a different time!)\n",
    "p2 =[\"5.9.0.0/16\", \"5.75.128.0/17\", \"23.88.0.0/17\", \"37.27.0.0/16\", \"45.145.227.0/24\", \"46.4.0.0/16\", \"49.12.0.0/16\", \"49.13.0.0/16\", \"65.21.0.0/16\", \"65.108.0.0/16\", \"65.109.0.0/16\", \"78.46.0.0/15\", \"78.138.62.0/24\", \"85.10.192.0/18\", \"88.99.0.0/16\", \"88.198.0.0/16\", \"91.107.128.0/17\", \"91.190.240.0/21\", \"91.233.8.0/22\", \"94.130.0.0/16\", \"95.216.0.0/16\", \"95.217.0.0/16\", \"116.202.0.0/16\", \"116.203.0.0/16\", \"128.140.0.0/17\", \"135.181.0.0/16\", \"136.243.0.0/16\", \"138.199.128.0/17\", \"138.201.0.0/16\", \"142.132.128.0/17\", \"144.76.0.0/16\", \"148.251.0.0/16\", \"157.90.0.0/16\", \"157.180.0.0/17\", \"159.69.0.0/16\", \"162.55.0.0/16\", \"167.233.0.0/16\", \"167.235.0.0/16\", \"168.119.0.0/16\", \"171.25.225.0/24\", \"176.9.0.0/16\", \"178.63.0.0/16\", \"178.212.75.0/24\", \"185.50.120.0/23\", \"185.107.52.0/22\", \"185.126.28.0/22\", \"185.157.83.0/24\", \"185.157.176.0/23\", \"185.157.178.0/23\", \"185.171.224.0/22\", \"185.189.228.0/24\", \"185.189.229.0/24\", \"185.189.230.0/24\", \"185.189.231.0/24\", \"185.213.45.0/24\", \"185.216.237.0/24\", \"185.226.99.0/24\", \"185.228.8.0/23\", \"185.253.111.0/24\", \"188.34.128.0/17\", \"188.40.0.0/16\", \"188.245.0.0/16\", \"193.25.170.0/23\", \"193.110.6.0/23\", \"193.163.198.0/24\", \"194.42.180.0/22\", \"194.42.184.0/22\", \"194.62.106.0/24\", \"195.60.226.0/24\", \"195.201.0.0/16\", \"195.248.224.0/24\", \"197.242.84.0/22\", \"201.131.3.0/24\", \"204.29.146.0/24\", \"213.133.96.0/19\", \"213.232.193.0/24\", \"213.239.192.0/18\", \"216.55.108.0/22\"]\n",
    "print(get_nr_ips_per_prefix(get_distr_prefix_len(p2)))\n",
    "print(len(p2), p2)"
   ]
  }
 ],
 "metadata": {
  "kernelspec": {
   "display_name": "Python 3 (ipykernel)",
   "language": "python",
   "name": "python3"
  }
 },
 "nbformat": 4,
 "nbformat_minor": 5
}
