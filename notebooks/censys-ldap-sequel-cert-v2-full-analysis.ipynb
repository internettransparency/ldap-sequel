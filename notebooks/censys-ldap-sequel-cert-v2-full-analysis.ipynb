{
 "cells": [
  {
   "cell_type": "code",
   "execution_count": 27,
   "id": "c48b934e-4c48-4916-87a9-b13e96a5f047",
   "metadata": {},
   "outputs": [
    {
     "name": "stdout",
     "output_type": "stream",
     "text": [
      "SparkConf created\n",
      "Started SparkSession\n",
      "Spark version 3.3.1\n"
     ]
    }
   ],
   "source": [
    "%run ./spark-instance.ipynb"
   ]
  },
  {
   "cell_type": "code",
   "execution_count": 63,
   "id": "5ede78a2-8e22-4da2-92ee-b46457ba51f3",
   "metadata": {},
   "outputs": [
    {
     "name": "stdout",
     "output_type": "stream",
     "text": [
      "CLEANING SPARK INSTANCE...\n"
     ]
    }
   ],
   "source": [
    "clean_spark()"
   ]
  },
  {
   "cell_type": "code",
   "execution_count": 16,
   "id": "6699b4b2-c822-4170-9292-4b0abc25c21c",
   "metadata": {},
   "outputs": [],
   "source": [
    "from datetime import datetime\n",
    "import os\n",
    "\n",
    "import pyspark.sql.types as pst\n",
    "import pyspark.sql.functions as psf"
   ]
  },
  {
   "cell_type": "code",
   "execution_count": 33,
   "id": "9371377c-0cf6-4f92-a193-67f442a34ecf",
   "metadata": {},
   "outputs": [],
   "source": [
    "base_path = \"s3a://censys/dataset=certificates-v2-full/format=parquet/year={year}/month={month:02d}/day={day:02d}\"\n",
    "batch_path = os.path.join(base_path, \"batch={batch:03d}\")\n",
    "ss_ts = datetime(2024, 3, 1)\n",
    "#nr_batches = 18\n",
    "\n",
    "\n",
    "def binary_to_hex(binary):\n",
    "    if binary is None:\n",
    "        return None\n",
    "    #hexadecimal = hex(binary).lstrip(\"0x\").rstrip(\"L\").lstrip(\"0\")\n",
    "    return binary.hex()\n",
    "\n",
    "\n",
    "binary_to_hex_udf = psf.udf(binary_to_hex, pst.StringType())"
   ]
  },
  {
   "cell_type": "code",
   "execution_count": 45,
   "id": "6c4feab0-f07d-4699-b2c2-97683f98611b",
   "metadata": {},
   "outputs": [],
   "source": [
    "certs_df = spark.read.option(\n",
    "    \"basePath\", base_path.format(year=ss_ts.year, month=ss_ts.month, day=ss_ts.day)\n",
    ").format(\"parquet\").load(\n",
    "    base_path.format(year=ss_ts.year, month=ss_ts.month, day=ss_ts.day)\n",
    ")\n",
    "\n",
    "#withColumn(\"fp\", binary_to_hex_udf(psf.col(\"fingerprint_sha256\")))\n",
    "moduli_df = certs_df.withColumn(\"moduli\", binary_to_hex_udf(psf.col(\"parsed.subject_key_info.rsa.modulus\"))\n",
    ").select(\"moduli\").distinct()"
   ]
  },
  {
   "cell_type": "code",
   "execution_count": null,
   "id": "698fb1b7-0736-4f7e-80ed-d6853ce4fc09",
   "metadata": {},
   "outputs": [],
   "source": [
    "timestamp = f\"{ss_ts.year}{ss_ts.month:02}{ss_ts.day:02}\"\n",
    "output = f\"luvizottocesarg-tmp/censys-certificates-v2-full-moduli-parquet/{timestamp}\"\n",
    "moduli_df.write.parquet(f\"s3a://{output}\")"
   ]
  },
  {
   "cell_type": "code",
   "execution_count": 51,
   "id": "c36bcda7-417d-4529-bf85-c4b54b28bea8",
   "metadata": {},
   "outputs": [],
   "source": [
    "moduli_df = spark.read.format(\"parquet\").load(f\"s3a://{output}\")"
   ]
  },
  {
   "cell_type": "code",
   "execution_count": 52,
   "id": "4cd99973-c672-4073-b77e-b644a79d8591",
   "metadata": {},
   "outputs": [
    {
     "data": {
      "text/plain": [
       "6262831123"
      ]
     },
     "execution_count": 52,
     "metadata": {},
     "output_type": "execute_result"
    }
   ],
   "source": [
    "moduli_df.count()"
   ]
  },
  {
   "cell_type": "code",
   "execution_count": 59,
   "id": "23f9025e-9e26-4257-8b6a-5d3c3368a5bb",
   "metadata": {},
   "outputs": [],
   "source": [
    "goscanner_moduli_df = spark.read.format(\"parquet\").load(\"s3a://luvizottocesarg-tmp/goscanner_moduli/20240709to12/unique_peer_certs_moduli.parquet\")\n",
    "all_moduli_df = moduli_df.unionByName(goscanner_moduli_df)"
   ]
  },
  {
   "cell_type": "code",
   "execution_count": 60,
   "id": "dab0288c-f0a4-4329-a729-c822b7c117bd",
   "metadata": {},
   "outputs": [
    {
     "data": {
      "text/plain": [
       "42839"
      ]
     },
     "execution_count": 60,
     "metadata": {},
     "output_type": "execute_result"
    }
   ],
   "source": [
    "goscanner_moduli_df.count()"
   ]
  },
  {
   "cell_type": "code",
   "execution_count": 58,
   "id": "a3d65ae6-792c-43e9-9913-e11f459f04f1",
   "metadata": {},
   "outputs": [
    {
     "data": {
      "text/plain": [
       "6262849496"
      ]
     },
     "execution_count": 58,
     "metadata": {},
     "output_type": "execute_result"
    }
   ],
   "source": [
    "all_moduli_df.distinct().count()"
   ]
  },
  {
   "cell_type": "code",
   "execution_count": null,
   "id": "e5532b4b-f4a2-494d-b8d1-0457ad779227",
   "metadata": {},
   "outputs": [],
   "source": [
    "all_moduli_df.distinct().coalesce(10).write.option(\"compression\",\"gzip\").csv(\"s3a://luvizottocesarg-tmp/goscanner-censys-certificates-v2-full-moduli-csv\")"
   ]
  },
  {
   "cell_type": "code",
   "execution_count": null,
   "id": "7a60920d-e66d-45ee-af99-ede4a76de83b",
   "metadata": {},
   "outputs": [],
   "source": [
    "clean_spark()"
   ]
  }
 ],
 "metadata": {
  "kernelspec": {
   "display_name": "Python 3 (ipykernel)",
   "language": "python",
   "name": "python3"
  },
  "language_info": {
   "codemirror_mode": {
    "name": "ipython",
    "version": 3
   },
   "file_extension": ".py",
   "mimetype": "text/x-python",
   "name": "python",
   "nbconvert_exporter": "python",
   "pygments_lexer": "ipython3",
   "version": "3.9.15"
  }
 },
 "nbformat": 4,
 "nbformat_minor": 5
}
