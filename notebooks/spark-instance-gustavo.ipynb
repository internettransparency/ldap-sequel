{
 "cells": [
  {
   "cell_type": "code",
   "execution_count": null,
   "id": "8c4bb81e-3cf2-443b-b69e-c02a1c6b1a86",
   "metadata": {},
   "outputs": [],
   "source": [
    "from time import time\n",
    "import os\n",
    "from pyspark import SparkConf\n",
    "from pyspark.sql import SparkSession\n",
    "\n",
    "os.environ[\"SPARK_LOCAL_IP\"] = \"127.0.0.1\""
   ]
  },
  {
   "cell_type": "code",
   "execution_count": null,
   "id": "65e0e05f-d2e1-4e01-9fcd-e09bde64c2a2",
   "metadata": {},
   "outputs": [],
   "source": [
    "APP_NAME = \"gustavo\"\n",
    "\n",
    "spark_conf = SparkConf().setAppName(f\"pyspark-{APP_NAME}-{int(time())}\").set(\n",
    "    \"spark.submit.deployMode\", \"client\"\n",
    ").set(\"spark.sql.parquet.binaryAsString\", \"true\"\n",
    ").set(\"spark.driver.bindAddress\", \"localhost\"\n",
    "#).set(\"spark.driver.host\", \"127.0.0.1\"\n",
    "#).set(\"spark.driver.port\", \"0\"\n",
    ").set(\"spark.ui.port\", \"4040\"\n",
    "\n",
    ").set(\"spark.executor.instances\", \"1\"  # 16\n",
    ").set(\"spark.executor.cores\", \"40\"    # 6\n",
    ").set(\"spark.executor.memory\", \"300G\"  # 80G\n",
    ").set(\"spark.executor.memoryOverhead\", \"100G\"  # 4G\n",
    ").set(\"spark.driver.cores\", \"10\"  # 16\n",
    ").set(\"spark.driver.memory\", \"100G\"  # 120G\n",
    "\n",
    "#).set(\"spark.dynamicAllocation.enabled\", \"true\"\n",
    "#).set(\"spark.dynamicAllocation.shuffleTracking.enabled\", \"true\"\n",
    "#).set(\"spark.dynamicAllocation.minExecutors\", \"1\"\n",
    "#).set(\"spark.dynamicAllocation.maxExecutors\", \"16\"\n",
    "#).set(\"spark.dynamicAllocation.initialExecutors\", \"1\"\n",
    "#).set(\"spark.dynamicAllocation.executorAllocationRatio\", \"1\"\n",
    ")\n",
    "\n",
    "print(\"SparkConf created\")\n",
    "spark = SparkSession.builder.config(conf=spark_conf).getOrCreate()\n",
    "sc = spark.sparkContext\n",
    "sc.setCheckpointDir(\"./checkpoint\")\n",
    "print(\"Started SparkSession\")\n",
    "print(f\"Spark version {sc.version}\")"
   ]
  },
  {
   "cell_type": "code",
   "execution_count": null,
   "id": "7cc2001e-1e98-406f-bea8-fd7f0c263c74",
   "metadata": {},
   "outputs": [],
   "source": [
    "def clean_spark():\n",
    "    spark.catalog.clearCache()\n",
    "    sc.stop()"
   ]
  }
 ],
 "metadata": {
  "kernelspec": {
   "display_name": "Python 3 (ipykernel)",
   "language": "python",
   "name": "python3"
  },
  "language_info": {
   "codemirror_mode": {
    "name": "ipython",
    "version": 3
   },
   "file_extension": ".py",
   "mimetype": "text/x-python",
   "name": "python",
   "nbconvert_exporter": "python",
   "pygments_lexer": "ipython3",
   "version": "3.11.6"
  }
 },
 "nbformat": 4,
 "nbformat_minor": 5
}
