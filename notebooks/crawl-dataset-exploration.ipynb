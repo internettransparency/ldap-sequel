{
 "cells": [
  {
   "cell_type": "code",
   "execution_count": null,
   "metadata": {},
   "outputs": [],
   "source": [
    "%matplotlib inline\n",
    "\n",
    "from collections import defaultdict\n",
    "from datetime import datetime\n",
    "from fnmatch import fnmatch\n",
    "import math\n",
    "from glob import glob\n",
    "import os\n",
    "import statistics\n",
    "\n",
    "import matplotlib.pyplot as plt\n",
    "import pandas as pd\n",
    "import numpy as np\n",
    "import tldextract\n",
    "from cryptography import x509\n",
    "from cryptography.hazmat.backends import default_backend\n",
    "from cryptography.hazmat.primitives import hashes\n",
    "\n",
    "from pyspark.errors import *\n",
    "import pyspark.sql.types as pst\n",
    "import pyspark.sql.functions as psf\n",
    "from pyspark.storagelevel import StorageLevel\n",
    "from pyspark.sql.window import Window"
   ]
  },
  {
   "cell_type": "code",
   "execution_count": null,
   "metadata": {},
   "outputs": [],
   "source": [
    "%run ./spark-instance-gustavo.ipynb"
   ]
  },
  {
   "cell_type": "code",
   "execution_count": null,
   "metadata": {},
   "outputs": [],
   "source": [
    "clean_spark()"
   ]
  },
  {
   "cell_type": "code",
   "execution_count": null,
   "metadata": {},
   "outputs": [],
   "source": [
    "def eval_list_list_list_str(my_list):\n",
    "    try:\n",
    "        if isinstance(my_list, str):\n",
    "            return eval(my_list)\n",
    "        else:\n",
    "            return [[[]]]\n",
    "    except:\n",
    "        return [[[]]]\n",
    "\n",
    "\n",
    "eval_list_list_list_str_udf = psf.udf(eval_list_list_list_str, pst.ArrayType(pst.ArrayType(pst.ArrayType(pst.StringType()))))\n",
    "\n",
    "\n",
    "def eval_list_list_str(my_list):\n",
    "    try:\n",
    "        if isinstance(my_list, str):\n",
    "            return eval(my_list)\n",
    "        else:\n",
    "            return [[]]\n",
    "    except:\n",
    "        return [[]]\n",
    "\n",
    "\n",
    "eval_list_list_str_udf = psf.udf(eval_list_list_str, pst.ArrayType(pst.ArrayType(pst.StringType())))\n",
    "\n",
    "\n",
    "def convert_ldap_attributes(df):\n",
    "    df = df.withColumn(\"asd\", eval_list_list_str_udf(psf.col(\"attribute_names\")))\n",
    "    df = df.drop(\"attribute_names\")\n",
    "    df = df.withColumnRenamed(\"asd\", \"attribute_names\")\n",
    "    df = df.withColumn(\"qwe\", eval_list_list_list_str_udf(psf.col(\"attribute_values_list\")))\n",
    "    df = df.drop(\"attribute_values_list\")\n",
    "    df = df.withColumnRenamed(\"qwe\", \"attribute_values_list\")\n",
    "    return df\n",
    "\n",
    "\n",
    "def flatten_ldap_metadata(df):\n",
    "    df = df.select(\"id\", \"ip\", \"port\", \"result_code\", \"error_data\", \"matched_dns\",\n",
    "                                    psf.explode_outer(psf.arrays_zip(\n",
    "                                                      df.attribute_names,\n",
    "                                                      df.attribute_values_list)))\n",
    "    df = df.select(\"id\", \"ip\", \"port\", \"result_code\", \"error_data\", \"matched_dns\", \"col.attribute_names\", \"col.attribute_values_list\")\n",
    "    df = df.select(\"id\", \"ip\", \"port\", \"result_code\", \"error_data\", \"matched_dns\",\n",
    "                                    psf.explode_outer(psf.arrays_zip(\n",
    "                                                      df.attribute_names,\n",
    "                                                      df.attribute_values_list)))\n",
    "    df = df.select(\"id\", \"ip\", \"port\", \"result_code\", \"error_data\", \"matched_dns\", \"col.attribute_names\", \"col.attribute_values_list\")\n",
    "    df = df.withColumnRenamed(\"attribute_names\", \"attribute_name\")\n",
    "    return df\n",
    "\n",
    "\n",
    "def flat_ldap_attr_values(df):\n",
    "    # good for vendorName filters for example\n",
    "    df = df.select(\"id\", \"ip\", \"port\", \"result_code\", \"error_data\", \"matched_dns\", \"attribute_name\", psf.explode_outer(df.attribute_values_list))\n",
    "    df = df.withColumnRenamed(\"col\", \"attribute_value\")\n",
    "    return df\n",
    "\n",
    "\n",
    "def load_ldap_root_dse(port, ts):\n",
    "    root_dse_base_path = ROOT_DSE_PATH_FMT.format(port=port, year=ts.year, month=ts.month, day=ts.day)\n",
    "    df = spark.read.option(\"header\", \"true\") \\\n",
    "                   .option(\"multiline\", \"true\") \\\n",
    "                   .option(\"wholeFile\", \"true\") \\\n",
    "                   .option(\"inferSchema\", \"true\") \\\n",
    "                   .csv(f\"../dataset/{root_dse_base_path}\")\n",
    "\n",
    "    df = convert_ldap_attributes(df)\n",
    "    return df\n",
    "\n",
    "\n",
    "def load_ldap_schema(port, ts):\n",
    "    schema_base_path = SCHEMA_PATH_FMT.format(port=port, year=ts.year, month=ts.month, day=ts.day)\n",
    "    df = spark.read.option(\"header\", \"true\") \\\n",
    "                   .option(\"multiline\", \"true\") \\\n",
    "                   .option(\"wholeFile\", \"true\") \\\n",
    "                   .option(\"inferSchema\", \"true\") \\\n",
    "                   .csv(f\"../dataset/{schema_base_path}\")\n",
    "\n",
    "    df = convert_ldap_attributes(df)\n",
    "    return df\n",
    "\n",
    "CRAWL_PORT_SCANDATE_MAP = {\n",
    "    636: datetime(2024, 4, 23),\n",
    "    389: datetime(2024, 4, 24),\n",
    "}\n",
    "\n",
    "SCHEMA_PATH_FMT = \"catrin/measurements/tool=goscanner/format=raw/port={port}/scan=ldap_crawl/result=ldap_schema/year={year}/month={month:02d}/day={day:02d}\"\n",
    "ROOT_DSE_PATH_FMT = \"catrin/measurements/tool=goscanner/format=raw/port={port}/scan=ldap_crawl/result=ldap_root_dse/year={year}/month={month:02d}/day={day:02d}\""
   ]
  },
  {
   "cell_type": "code",
   "execution_count": null,
   "metadata": {},
   "outputs": [],
   "source": [
    "for port, ts in CRAWL_PORT_SCANDATE_MAP.items():\n",
    "    print(port, ts)\n",
    "    #schema_df = load_ldap_schema(port, ts)\n",
    "    #schema_df = flatten_ldap_metadata(schema_df)\n",
    "\n",
    "    root_dse_df = load_ldap_root_dse(port, ts)\n",
    "    #root_dse_df = flatten_ldap_metadata(root_dse_df)\n",
    "\n",
    "    break"
   ]
  },
  {
   "cell_type": "markdown",
   "metadata": {},
   "source": [
    "What are the LDAPv2 only servers we see around?"
   ]
  },
  {
   "cell_type": "code",
   "execution_count": null,
   "metadata": {},
   "outputs": [
    {
     "name": "stdout",
     "output_type": "stream",
     "text": [
      "+-------+---------------+----+-----------+----------+-----------+----------------+---------------------+----------+\n",
      "|     id|             ip|port|result_code|error_data|matched_dns|  attribute_name|attribute_values_list|serverName|\n",
      "+-------+---------------+----+-----------+----------+-----------+----------------+---------------------+----------+\n",
      "|  83836| 93.108.171.180| 389|          0|      NULL|      ['',]|  namingContexts|       [dc=pbx.local]|          |\n",
      "|1126513|    148.69.66.4| 389|          0|      NULL|      ['',]|  namingContexts|       [dc=pbx.local]|          |\n",
      "|1204577| 24.134.197.249| 389|          0|      NULL|      ['',]|  namingContexts|       [dc=pbx.local]|          |\n",
      "|1420243| 51.155.241.131| 389|          0|      NULL|      ['',]|supportedControl| [1.3.6.1.4.1.4203...|          |\n",
      "|2246843|  178.13.12.114| 389|          0|      NULL|      ['',]|  namingContexts|       [dc=pbx.local]|          |\n",
      "|2381239|  89.155.23.161| 389|          0|      NULL|      ['',]|  namingContexts|       [dc=pbx.local]|          |\n",
      "|3012165| 81.244.248.169| 389|          0|      NULL|      ['',]|  namingContexts|       [dc=pbx.local]|          |\n",
      "|3267430|  194.184.36.60| 389|          0|      NULL|      ['',]|  namingContexts|       [dc=pbx.local]|          |\n",
      "|3413033|  176.95.71.190| 389|          0|      NULL|      ['',]|  namingContexts|       [dc=pbx.local]|          |\n",
      "|3427499|144.178.233.138| 389|          0|      NULL|      ['',]|  namingContexts|       [dc=pbx.local]|          |\n",
      "+-------+---------------+----+-----------+----------+-----------+----------------+---------------------+----------+\n",
      "\n",
      "10\n"
     ]
    }
   ],
   "source": [
    "ldapv2_df = root_dse_df.filter(\n",
    "    psf.col(\"attribute_name\") == \"supportedLDAPVersion\"\n",
    "    ).filter(\n",
    "    psf.col(\"attribute_values_list\").isin(psf.lit([2]))\n",
    "    ).select(\n",
    "        \"id\"\n",
    "    )\n",
    "\n",
    "root_dse_df.join(ldapv2_df, \"id\", \"inner\").filter(\n",
    "    (psf.col(\"attribute_name\") == \"supportedControl\")\n",
    "    | (psf.col(\"attribute_name\") == \"namingContexts\")\n",
    "    | (psf.col(\"attribute_name\") == \"vendorName\")\n",
    ").show()\n",
    "\n",
    "print(ldapv2_df.count())"
   ]
  },
  {
   "cell_type": "markdown",
   "metadata": {},
   "source": [
    "A private branch exchange (PBX) is a telephone system within an enterprise that switches calls between users on local lines, while enabling all users to share a certain number of external phone lines. - https://www.techtarget.com/searchunifiedcommunications/definition/private-branch-exchange"
   ]
  },
  {
   "cell_type": "markdown",
   "metadata": {},
   "source": [
    "IP addresses with o=Interpol  \n",
    "https://www.entrust.com/blog/2015/04/interpol-world-entrust-datacards-joynes-talks-epassports-and-border-security/  "
   ]
  },
  {
   "cell_type": "code",
   "execution_count": 580,
   "metadata": {},
   "outputs": [
    {
     "name": "stdout",
     "output_type": "stream",
     "text": [
      "636 2024-04-23 00:00:00\n",
      "+--------------+--------------+-------------------------------------------------------------------------------------------------------------------------------------------------------------------------------+\n",
      "|ip            |attribute_name|attribute_values_list                                                                                                                                                          |\n",
      "+--------------+--------------+-------------------------------------------------------------------------------------------------------------------------------------------------------------------------------+\n",
      "|148.66.197.88 |namingContexts|[o=Interpol, o=entrust, dc=local, o=World, dc=com, dc=org, dc=ssh, c=AE, c=AU, c=BB, c=BE, c=CA, c=CL, c=CO, c=ES, c=GB, c=JP, c=NZ, c=OM, c=SV, c=UN, c=US, c=XP, c=ZZ]       |\n",
      "|216.117.52.153|namingContexts|[o=Interpol, o=entrust, dc=local, o=World, dc=com, dc=org, dc=ssh, dc=SE, c=AE, c=AU, c=BB, c=BE, c=CA, c=CL, c=CO, c=ES, c=GB, c=JP, c=NZ, c=OM, c=SV, c=UN, c=US, c=XP, c=ZZ]|\n",
      "|216.117.57.128|namingContexts|[o=Interpol, o=entrust, dc=local, o=World, dc=com, dc=org, dc=ssh, dc=SE, c=AE, c=AU, c=BB, c=BE, c=CA, c=CL, c=CO, c=ES, c=GB, c=JP, c=NZ, c=OM, c=SV, c=UN, c=US, c=XP, c=ZZ]|\n",
      "|148.66.197.12 |namingContexts|[o=Interpol, o=entrust, dc=local, o=World, dc=com, dc=org, dc=ssh, c=AE, c=AU, c=BB, c=BE, c=CA, c=CL, c=CO, c=ES, c=GB, c=JP, c=NZ, c=OM, c=SV, c=UN, c=US, c=XP, c=ZZ]       |\n",
      "|216.117.57.54 |namingContexts|[o=Interpol, o=entrust, dc=local, o=World, dc=com, dc=org, dc=ssh, dc=SE, c=AE, c=AU, c=BB, c=BE, c=CA, c=CL, c=CO, c=ES, c=GB, c=JP, c=NZ, c=OM, c=SV, c=UN, c=US, c=XP, c=ZZ]|\n",
      "+--------------+--------------+-------------------------------------------------------------------------------------------------------------------------------------------------------------------------------+\n",
      "\n",
      "389 2024-04-24 00:00:00\n",
      "+--------------+--------------+-------------------------------------------------------------------------------------------------------------------------------------------------------------------------------+\n",
      "|ip            |attribute_name|attribute_values_list                                                                                                                                                          |\n",
      "+--------------+--------------+-------------------------------------------------------------------------------------------------------------------------------------------------------------------------------+\n",
      "|216.117.57.130|namingContexts|[o=Interpol, o=entrust, dc=local, o=World, dc=com, dc=org, dc=ssh, dc=SE, c=AE, c=AU, c=BB, c=BE, c=CA, c=CL, c=CO, c=ES, c=GB, c=JP, c=NZ, c=OM, c=SV, c=UN, c=US, c=XP, c=ZZ]|\n",
      "|148.66.197.12 |namingContexts|[o=Interpol, o=entrust, dc=local, o=World, dc=com, dc=org, dc=ssh, c=AE, c=AU, c=BB, c=BE, c=CA, c=CL, c=CO, c=ES, c=GB, c=JP, c=NZ, c=OM, c=SV, c=UN, c=US, c=XP, c=ZZ]       |\n",
      "|216.117.52.153|namingContexts|[o=Interpol, o=entrust, dc=local, o=World, dc=com, dc=org, dc=ssh, dc=SE, c=AE, c=AU, c=BB, c=BE, c=CA, c=CL, c=CO, c=ES, c=GB, c=JP, c=NZ, c=OM, c=SV, c=UN, c=US, c=XP, c=ZZ]|\n",
      "|216.117.57.54 |namingContexts|[o=Interpol, o=entrust, dc=local, o=World, dc=com, dc=org, dc=ssh, dc=SE, c=AE, c=AU, c=BB, c=BE, c=CA, c=CL, c=CO, c=ES, c=GB, c=JP, c=NZ, c=OM, c=SV, c=UN, c=US, c=XP, c=ZZ]|\n",
      "|216.117.57.128|namingContexts|[o=Interpol, o=entrust, dc=local, o=World, dc=com, dc=org, dc=ssh, dc=SE, c=AE, c=AU, c=BB, c=BE, c=CA, c=CL, c=CO, c=ES, c=GB, c=JP, c=NZ, c=OM, c=SV, c=UN, c=US, c=XP, c=ZZ]|\n",
      "|216.117.52.155|namingContexts|[o=Interpol, o=entrust, dc=local, o=World, dc=com, dc=org, dc=ssh, dc=SE, c=AE, c=AU, c=BB, c=BE, c=CA, c=CL, c=CO, c=ES, c=GB, c=JP, c=NZ, c=OM, c=SV, c=UN, c=US, c=XP, c=ZZ]|\n",
      "|173.209.238.67|namingContexts|[o=Interpol, o=entrust, dc=local, o=World, dc=com, dc=org, dc=ssh, dc=SE, c=AE, c=AU, c=BB, c=BE, c=CA, c=CL, c=CO, c=ES, c=GB, c=JP, c=NZ, c=OM, c=SV, c=UN, c=US, c=XP, c=ZZ]|\n",
      "|216.117.57.38 |namingContexts|[o=Interpol, o=entrust, dc=local, o=World, dc=com, dc=org, dc=ssh, dc=SE, c=AE, c=AU, c=BB, c=BE, c=CA, c=CL, c=CO, c=ES, c=GB, c=JP, c=NZ, c=OM, c=SV, c=UN, c=US, c=XP, c=ZZ]|\n",
      "|216.117.57.199|namingContexts|[o=Interpol, o=entrust, dc=local, o=World, dc=com, dc=org, dc=ssh, dc=SE, c=AE, c=AU, c=BB, c=BE, c=CA, c=CL, c=CO, c=ES, c=GB, c=JP, c=NZ, c=OM, c=SV, c=UN, c=US, c=XP, c=ZZ]|\n",
      "+--------------+--------------+-------------------------------------------------------------------------------------------------------------------------------------------------------------------------------+\n",
      "\n"
     ]
    }
   ],
   "source": [
    "# TODO extract from namingContexts O, OU and CN; e.g. o=Interpol (216.117.52.155)\n",
    "\n",
    "for port, ts in CRAWL_PORT_SCANDATE_MAP.items():\n",
    "    print(port, ts)\n",
    "\n",
    "    root_dse_df = load_ldap_root_dse(port, ts)\n",
    "\n",
    "    flat_root_dse_df = flatten_ldap_metadata(root_dse_df)\n",
    "    flat_root_dse_df.filter(\n",
    "        psf.array_contains(psf.col(\"attribute_values_list\"), \"o=Interpol\")\n",
    "    ).select(\"ip\", \"attribute_name\", \"attribute_values_list\").show(truncate=False)"
   ]
  },
  {
   "cell_type": "markdown",
   "metadata": {},
   "source": [
    "What are the searchable PGP keys servers?"
   ]
  },
  {
   "cell_type": "code",
   "execution_count": 575,
   "metadata": {},
   "outputs": [
    {
     "name": "stdout",
     "output_type": "stream",
     "text": [
      "+--------------+\n",
      "|            ip|\n",
      "+--------------+\n",
      "|193.36.240.186|\n",
      "|85.232.246.170|\n",
      "| 23.174.16.232|\n",
      "|  91.217.173.7|\n",
      "|62.190.107.142|\n",
      "|62.251.195.243|\n",
      "|  212.5.123.11|\n",
      "| 194.15.212.86|\n",
      "| 69.58.105.244|\n",
      "|194.187.222.24|\n",
      "+--------------+\n",
      "only showing top 10 rows\n",
      "\n",
      "109\n"
     ]
    }
   ],
   "source": [
    "flat_root_dse_df = flatten_ldap_metadata(root_dse_df)\n",
    "pgp_keys_df = flat_root_dse_df.filter(\n",
    "    psf.col(\"attribute_values_list\").isin(psf.lit(['o=Searchable PGP keys', 'o=Uploaded PGP keys', 'o=Users', 'o=Prefs', 'o=CRL', 'cn=PGPServerInfo', 'o=PGP keys']))\n",
    ").select(\"id\")\n",
    "\n",
    "root_dse_df.join(pgp_keys_df, \"id\", \"inner\").select(\"ip\").show(10)\n",
    "print(pgp_keys_df.count())"
   ]
  },
  {
   "cell_type": "markdown",
   "metadata": {},
   "source": [
    "What does not help:  \n",
    "- root dse serviceName  \n",
    "\n",
    "Other results/insights:  \n",
    "- namingContext - find PGP servers  \n",
    "- no iPlanet servers...  \n",
    "- Zentyal is a linux domain and directory server with AD compatibility  \n"
   ]
  },
  {
   "cell_type": "markdown",
   "metadata": {},
   "source": [
    "Extracting visible attributes"
   ]
  },
  {
   "cell_type": "code",
   "execution_count": 578,
   "metadata": {},
   "outputs": [
    {
     "name": "stdout",
     "output_type": "stream",
     "text": [
      "636 2024-04-23 00:00:00\n",
      "389 2024-04-24 00:00:00\n"
     ]
    }
   ],
   "source": [
    "dfs = []\n",
    "for port, ts in CRAWL_PORT_SCANDATE_MAP.items():\n",
    "    print(port, ts)\n",
    "\n",
    "    root_dse_df = load_ldap_root_dse(port, ts)\n",
    "    root_dse_df = flatten_ldap_metadata(root_dse_df)\n",
    "    dfs.append(root_dse_df.select(\"attribute_name\").distinct())\n",
    "\n",
    "pdf = dfs[0].unionByName(dfs[1]).distinct().toPandas()\n",
    "pdf.to_csv(\"root_dse_attributes.csv\", index=False, header=True)"
   ]
  },
  {
   "cell_type": "code",
   "execution_count": 579,
   "metadata": {},
   "outputs": [
    {
     "name": "stdout",
     "output_type": "stream",
     "text": [
      "636 2024-04-23 00:00:00\n",
      "389 2024-04-24 00:00:00\n"
     ]
    }
   ],
   "source": [
    "dfs = []\n",
    "for port, ts in CRAWL_PORT_SCANDATE_MAP.items():\n",
    "    print(port, ts)\n",
    "    schema_df = load_ldap_schema(port, ts)\n",
    "    schema_df = flatten_ldap_metadata(schema_df)\n",
    "    dfs.append(schema_df.select(\"attribute_name\").distinct())\n",
    "\n",
    "pdf = dfs[0].unionByName(dfs[1]).distinct().toPandas()\n",
    "pdf.to_csv(\"schema_attributes.csv\", index=False, header=True)"
   ]
  }
 ],
 "metadata": {
  "kernelspec": {
   "display_name": "Python 3 (ipykernel)",
   "language": "python",
   "name": "python3"
  },
  "language_info": {
   "codemirror_mode": {
    "name": "ipython",
    "version": 3
   },
   "file_extension": ".py",
   "mimetype": "text/x-python",
   "name": "python",
   "nbconvert_exporter": "python",
   "pygments_lexer": "ipython3",
   "version": "3.11.6"
  }
 },
 "nbformat": 4,
 "nbformat_minor": 2
}
